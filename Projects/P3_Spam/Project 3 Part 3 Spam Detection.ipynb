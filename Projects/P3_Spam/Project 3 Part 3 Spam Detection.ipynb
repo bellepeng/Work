{
 "cells": [
  {
   "cell_type": "code",
   "execution_count": 55,
   "metadata": {
    "ExecuteTime": {
     "end_time": "2018-08-05T20:50:07.409999Z",
     "start_time": "2018-08-05T20:50:07.175363Z"
    }
   },
   "outputs": [
    {
     "data": {
      "text/html": [
       "<style>.container { width:95% !important; }</style>"
      ],
      "text/plain": [
       "<IPython.core.display.HTML object>"
      ]
     },
     "metadata": {},
     "output_type": "display_data"
    }
   ],
   "source": [
    "from IPython.core.display import display, HTML\n",
    "display(HTML(\"<style>.container { width:95% !important; }</style>\"))\n",
    "import pandas as pd\n",
    "import numpy as np\n",
    "import pickle\n",
    "import re\n",
    "import datetime as dt\n",
    "import scipy.stats as stats\n",
    "import random\n",
    "import os\n",
    "os.chdir('/Users/bellepeng/Desktop/Metis/Work/Projects/P3_Spam')\n",
    "\n",
    "import matplotlib.pyplot as plt\n",
    "%matplotlib inline\n",
    "plt.style.use('seaborn')\n",
    "import seaborn as sns\n",
    "\n",
    "import warnings\n",
    "warnings.filterwarnings('ignore')\n",
    "\n",
    "from operator import itemgetter, attrgetter, methodcaller"
   ]
  },
  {
   "cell_type": "code",
   "execution_count": 103,
   "metadata": {
    "ExecuteTime": {
     "end_time": "2018-08-06T05:14:53.127628Z",
     "start_time": "2018-08-06T05:14:53.118248Z"
    }
   },
   "outputs": [],
   "source": [
    "# Universal Modeling Tools\n",
    "from sklearn.cross_validation import train_test_split \n",
    "from sklearn.cross_validation import KFold\n",
    "from sklearn.cross_validation import cross_val_score\n",
    "from sklearn.preprocessing import StandardScaler\n",
    "\n",
    "# Modelling\n",
    "from sklearn.linear_model import LogisticRegression\n",
    "from sklearn.neighbors import KNeighborsClassifier\n",
    "from sklearn.tree import DecisionTreeClassifier\n",
    "from sklearn.ensemble import RandomForestClassifier\n",
    "from sklearn import svm\n",
    "from sklearn.svm import LinearSVC\n",
    "from sklearn.svm import SVC\n",
    "from sklearn.decomposition import PCA\n",
    "from sklearn.naive_bayes import GaussianNB\n",
    "from sklearn.naive_bayes import MultinomialNB\n",
    "from sklearn.naive_bayes import BernoulliNB\n",
    "\n",
    "# Eval\n",
    "from sklearn.model_selection import GridSearchCV\n",
    "from sklearn.metrics import precision_score, recall_score, accuracy_score, classification_report\n",
    "from sklearn.metrics import confusion_matrix\n",
    "from sklearn.metrics import roc_auc_score, roc_curve"
   ]
  },
  {
   "cell_type": "code",
   "execution_count": 57,
   "metadata": {
    "ExecuteTime": {
     "end_time": "2018-08-05T20:50:07.698603Z",
     "start_time": "2018-08-05T20:50:07.686826Z"
    }
   },
   "outputs": [],
   "source": [
    "def Eval(y, pred):\n",
    "    mat=confusion_matrix(y, pred)\n",
    "    print(\"Accuracy: \",  f'{accuracy_score(y, pred):4.2%}')\n",
    "    print(\"Precision: \", f'{precision_score(y, pred):4.2%}')\n",
    "    print(\"Recall: \", f'{recall_score(y, pred):4.2%}')\n",
    "    print(\"ROC AUC: \", f'{roc_auc_score(y, pred):4.2%}')\n",
    "    print('False Negative Rate:', f'{ (mat[1][0]/(mat[0][0]+mat[1][0])):4.2%}')\n",
    "    print('False Positve Rate:', f'{ (mat[0][1]/(mat[1][1]+mat[0][1])): 4.2%}')\n",
    "\n",
    "    return pd.DataFrame(mat, columns=['Pred NOT Spam', 'Pred Spam'], \n",
    "                        index=['Actual NOT Spam', 'Actual Spam'])"
   ]
  },
  {
   "cell_type": "markdown",
   "metadata": {},
   "source": [
    "### Load"
   ]
  },
  {
   "cell_type": "code",
   "execution_count": 58,
   "metadata": {
    "ExecuteTime": {
     "end_time": "2018-08-05T20:50:07.884827Z",
     "start_time": "2018-08-05T20:50:07.703984Z"
    }
   },
   "outputs": [
    {
     "name": "stdout",
     "output_type": "stream",
     "text": [
      "(4601, 58)\n"
     ]
    },
    {
     "data": {
      "text/html": [
       "<div>\n",
       "<style scoped>\n",
       "    .dataframe tbody tr th:only-of-type {\n",
       "        vertical-align: middle;\n",
       "    }\n",
       "\n",
       "    .dataframe tbody tr th {\n",
       "        vertical-align: top;\n",
       "    }\n",
       "\n",
       "    .dataframe thead th {\n",
       "        text-align: right;\n",
       "    }\n",
       "</style>\n",
       "<table border=\"1\" class=\"dataframe\">\n",
       "  <thead>\n",
       "    <tr style=\"text-align: right;\">\n",
       "      <th></th>\n",
       "      <th>word_freq_make</th>\n",
       "      <th>word_freq_address</th>\n",
       "      <th>word_freq_all</th>\n",
       "      <th>word_freq_3d</th>\n",
       "      <th>word_freq_our</th>\n",
       "      <th>word_freq_over</th>\n",
       "      <th>word_freq_remove</th>\n",
       "      <th>word_freq_internet</th>\n",
       "      <th>word_freq_order</th>\n",
       "      <th>word_freq_mail</th>\n",
       "      <th>...</th>\n",
       "      <th>char_freq_;</th>\n",
       "      <th>char_freq_(</th>\n",
       "      <th>char_freq_[</th>\n",
       "      <th>char_freq_!</th>\n",
       "      <th>char_freq_$</th>\n",
       "      <th>char_freq_#</th>\n",
       "      <th>capital_run_length_average</th>\n",
       "      <th>capital_run_length_longest</th>\n",
       "      <th>capital_run_length_total</th>\n",
       "      <th>spam</th>\n",
       "    </tr>\n",
       "  </thead>\n",
       "  <tbody>\n",
       "    <tr>\n",
       "      <th>0</th>\n",
       "      <td>0.00</td>\n",
       "      <td>0.64</td>\n",
       "      <td>0.64</td>\n",
       "      <td>0.0</td>\n",
       "      <td>0.32</td>\n",
       "      <td>0.00</td>\n",
       "      <td>0.00</td>\n",
       "      <td>0.00</td>\n",
       "      <td>0.00</td>\n",
       "      <td>0.00</td>\n",
       "      <td>...</td>\n",
       "      <td>0.00</td>\n",
       "      <td>0.000</td>\n",
       "      <td>0.0</td>\n",
       "      <td>0.778</td>\n",
       "      <td>0.000</td>\n",
       "      <td>0.000</td>\n",
       "      <td>3.756</td>\n",
       "      <td>61</td>\n",
       "      <td>278</td>\n",
       "      <td>1</td>\n",
       "    </tr>\n",
       "    <tr>\n",
       "      <th>1</th>\n",
       "      <td>0.21</td>\n",
       "      <td>0.28</td>\n",
       "      <td>0.50</td>\n",
       "      <td>0.0</td>\n",
       "      <td>0.14</td>\n",
       "      <td>0.28</td>\n",
       "      <td>0.21</td>\n",
       "      <td>0.07</td>\n",
       "      <td>0.00</td>\n",
       "      <td>0.94</td>\n",
       "      <td>...</td>\n",
       "      <td>0.00</td>\n",
       "      <td>0.132</td>\n",
       "      <td>0.0</td>\n",
       "      <td>0.372</td>\n",
       "      <td>0.180</td>\n",
       "      <td>0.048</td>\n",
       "      <td>5.114</td>\n",
       "      <td>101</td>\n",
       "      <td>1028</td>\n",
       "      <td>1</td>\n",
       "    </tr>\n",
       "    <tr>\n",
       "      <th>2</th>\n",
       "      <td>0.06</td>\n",
       "      <td>0.00</td>\n",
       "      <td>0.71</td>\n",
       "      <td>0.0</td>\n",
       "      <td>1.23</td>\n",
       "      <td>0.19</td>\n",
       "      <td>0.19</td>\n",
       "      <td>0.12</td>\n",
       "      <td>0.64</td>\n",
       "      <td>0.25</td>\n",
       "      <td>...</td>\n",
       "      <td>0.01</td>\n",
       "      <td>0.143</td>\n",
       "      <td>0.0</td>\n",
       "      <td>0.276</td>\n",
       "      <td>0.184</td>\n",
       "      <td>0.010</td>\n",
       "      <td>9.821</td>\n",
       "      <td>485</td>\n",
       "      <td>2259</td>\n",
       "      <td>1</td>\n",
       "    </tr>\n",
       "    <tr>\n",
       "      <th>3</th>\n",
       "      <td>0.00</td>\n",
       "      <td>0.00</td>\n",
       "      <td>0.00</td>\n",
       "      <td>0.0</td>\n",
       "      <td>0.63</td>\n",
       "      <td>0.00</td>\n",
       "      <td>0.31</td>\n",
       "      <td>0.63</td>\n",
       "      <td>0.31</td>\n",
       "      <td>0.63</td>\n",
       "      <td>...</td>\n",
       "      <td>0.00</td>\n",
       "      <td>0.137</td>\n",
       "      <td>0.0</td>\n",
       "      <td>0.137</td>\n",
       "      <td>0.000</td>\n",
       "      <td>0.000</td>\n",
       "      <td>3.537</td>\n",
       "      <td>40</td>\n",
       "      <td>191</td>\n",
       "      <td>1</td>\n",
       "    </tr>\n",
       "    <tr>\n",
       "      <th>4</th>\n",
       "      <td>0.00</td>\n",
       "      <td>0.00</td>\n",
       "      <td>0.00</td>\n",
       "      <td>0.0</td>\n",
       "      <td>0.63</td>\n",
       "      <td>0.00</td>\n",
       "      <td>0.31</td>\n",
       "      <td>0.63</td>\n",
       "      <td>0.31</td>\n",
       "      <td>0.63</td>\n",
       "      <td>...</td>\n",
       "      <td>0.00</td>\n",
       "      <td>0.135</td>\n",
       "      <td>0.0</td>\n",
       "      <td>0.135</td>\n",
       "      <td>0.000</td>\n",
       "      <td>0.000</td>\n",
       "      <td>3.537</td>\n",
       "      <td>40</td>\n",
       "      <td>191</td>\n",
       "      <td>1</td>\n",
       "    </tr>\n",
       "  </tbody>\n",
       "</table>\n",
       "<p>5 rows × 58 columns</p>\n",
       "</div>"
      ],
      "text/plain": [
       "   word_freq_make  word_freq_address  word_freq_all  word_freq_3d  \\\n",
       "0            0.00               0.64           0.64           0.0   \n",
       "1            0.21               0.28           0.50           0.0   \n",
       "2            0.06               0.00           0.71           0.0   \n",
       "3            0.00               0.00           0.00           0.0   \n",
       "4            0.00               0.00           0.00           0.0   \n",
       "\n",
       "   word_freq_our  word_freq_over  word_freq_remove  word_freq_internet  \\\n",
       "0           0.32            0.00              0.00                0.00   \n",
       "1           0.14            0.28              0.21                0.07   \n",
       "2           1.23            0.19              0.19                0.12   \n",
       "3           0.63            0.00              0.31                0.63   \n",
       "4           0.63            0.00              0.31                0.63   \n",
       "\n",
       "   word_freq_order  word_freq_mail  ...   char_freq_;  char_freq_(  \\\n",
       "0             0.00            0.00  ...          0.00        0.000   \n",
       "1             0.00            0.94  ...          0.00        0.132   \n",
       "2             0.64            0.25  ...          0.01        0.143   \n",
       "3             0.31            0.63  ...          0.00        0.137   \n",
       "4             0.31            0.63  ...          0.00        0.135   \n",
       "\n",
       "   char_freq_[  char_freq_!  char_freq_$  char_freq_#  \\\n",
       "0          0.0        0.778        0.000        0.000   \n",
       "1          0.0        0.372        0.180        0.048   \n",
       "2          0.0        0.276        0.184        0.010   \n",
       "3          0.0        0.137        0.000        0.000   \n",
       "4          0.0        0.135        0.000        0.000   \n",
       "\n",
       "   capital_run_length_average  capital_run_length_longest  \\\n",
       "0                       3.756                          61   \n",
       "1                       5.114                         101   \n",
       "2                       9.821                         485   \n",
       "3                       3.537                          40   \n",
       "4                       3.537                          40   \n",
       "\n",
       "   capital_run_length_total  spam  \n",
       "0                       278     1  \n",
       "1                      1028     1  \n",
       "2                      2259     1  \n",
       "3                       191     1  \n",
       "4                       191     1  \n",
       "\n",
       "[5 rows x 58 columns]"
      ]
     },
     "execution_count": 58,
     "metadata": {},
     "output_type": "execute_result"
    }
   ],
   "source": [
    "%run '/Users/bellepeng/Desktop/Metis/Work/Projects/P3_Spam/data/col_names.py' # saved the column names in a sep .py to make it more readable\n",
    "df1 = pd.read_table('/Users/bellepeng/Desktop/Metis/Work/Projects/P3_Spam/data/spambase_data.txt', sep=',', header=None)\n",
    "df1.columns=columns\n",
    "print(df1.shape)\n",
    "df1.head()"
   ]
  },
  {
   "cell_type": "code",
   "execution_count": 59,
   "metadata": {
    "ExecuteTime": {
     "end_time": "2018-08-05T20:50:07.951937Z",
     "start_time": "2018-08-05T20:50:07.888633Z"
    }
   },
   "outputs": [
    {
     "name": "stdout",
     "output_type": "stream",
     "text": [
      "(2145, 58)\n"
     ]
    },
    {
     "data": {
      "text/html": [
       "<div>\n",
       "<style scoped>\n",
       "    .dataframe tbody tr th:only-of-type {\n",
       "        vertical-align: middle;\n",
       "    }\n",
       "\n",
       "    .dataframe tbody tr th {\n",
       "        vertical-align: top;\n",
       "    }\n",
       "\n",
       "    .dataframe thead th {\n",
       "        text-align: right;\n",
       "    }\n",
       "</style>\n",
       "<table border=\"1\" class=\"dataframe\">\n",
       "  <thead>\n",
       "    <tr style=\"text-align: right;\">\n",
       "      <th></th>\n",
       "      <th>word_freq_make</th>\n",
       "      <th>word_freq_address</th>\n",
       "      <th>word_freq_all</th>\n",
       "      <th>word_freq_3d</th>\n",
       "      <th>word_freq_our</th>\n",
       "      <th>word_freq_over</th>\n",
       "      <th>word_freq_remove</th>\n",
       "      <th>word_freq_internet</th>\n",
       "      <th>word_freq_order</th>\n",
       "      <th>word_freq_mail</th>\n",
       "      <th>...</th>\n",
       "      <th>char_freq_;</th>\n",
       "      <th>char_freq_(</th>\n",
       "      <th>char_freq_[</th>\n",
       "      <th>char_freq_!</th>\n",
       "      <th>char_freq_$</th>\n",
       "      <th>char_freq_#</th>\n",
       "      <th>capital_run_length_average</th>\n",
       "      <th>capital_run_length_longest</th>\n",
       "      <th>capital_run_length_total</th>\n",
       "      <th>spam</th>\n",
       "    </tr>\n",
       "    <tr>\n",
       "      <th>Id</th>\n",
       "      <th></th>\n",
       "      <th></th>\n",
       "      <th></th>\n",
       "      <th></th>\n",
       "      <th></th>\n",
       "      <th></th>\n",
       "      <th></th>\n",
       "      <th></th>\n",
       "      <th></th>\n",
       "      <th></th>\n",
       "      <th></th>\n",
       "      <th></th>\n",
       "      <th></th>\n",
       "      <th></th>\n",
       "      <th></th>\n",
       "      <th></th>\n",
       "      <th></th>\n",
       "      <th></th>\n",
       "      <th></th>\n",
       "      <th></th>\n",
       "      <th></th>\n",
       "    </tr>\n",
       "  </thead>\n",
       "  <tbody>\n",
       "    <tr>\n",
       "      <th>2</th>\n",
       "      <td>0.000000</td>\n",
       "      <td>0.000000</td>\n",
       "      <td>0.0</td>\n",
       "      <td>0.0</td>\n",
       "      <td>2.040816</td>\n",
       "      <td>0.0</td>\n",
       "      <td>0.000000</td>\n",
       "      <td>0.0</td>\n",
       "      <td>0.0</td>\n",
       "      <td>0.0</td>\n",
       "      <td>...</td>\n",
       "      <td>0.0</td>\n",
       "      <td>0.0</td>\n",
       "      <td>0.0</td>\n",
       "      <td>0.0</td>\n",
       "      <td>0.0</td>\n",
       "      <td>0.0</td>\n",
       "      <td>1.000000</td>\n",
       "      <td>1</td>\n",
       "      <td>2</td>\n",
       "      <td>1</td>\n",
       "    </tr>\n",
       "    <tr>\n",
       "      <th>4</th>\n",
       "      <td>0.000000</td>\n",
       "      <td>0.000000</td>\n",
       "      <td>0.0</td>\n",
       "      <td>0.0</td>\n",
       "      <td>0.000000</td>\n",
       "      <td>0.0</td>\n",
       "      <td>0.000000</td>\n",
       "      <td>0.0</td>\n",
       "      <td>0.0</td>\n",
       "      <td>0.0</td>\n",
       "      <td>...</td>\n",
       "      <td>0.0</td>\n",
       "      <td>0.0</td>\n",
       "      <td>0.0</td>\n",
       "      <td>0.0</td>\n",
       "      <td>0.0</td>\n",
       "      <td>0.0</td>\n",
       "      <td>4.000000</td>\n",
       "      <td>10</td>\n",
       "      <td>40</td>\n",
       "      <td>1</td>\n",
       "    </tr>\n",
       "    <tr>\n",
       "      <th>5</th>\n",
       "      <td>0.000000</td>\n",
       "      <td>0.000000</td>\n",
       "      <td>0.0</td>\n",
       "      <td>0.0</td>\n",
       "      <td>0.000000</td>\n",
       "      <td>0.0</td>\n",
       "      <td>1.818182</td>\n",
       "      <td>0.0</td>\n",
       "      <td>0.0</td>\n",
       "      <td>0.0</td>\n",
       "      <td>...</td>\n",
       "      <td>0.0</td>\n",
       "      <td>0.0</td>\n",
       "      <td>0.0</td>\n",
       "      <td>0.0</td>\n",
       "      <td>0.0</td>\n",
       "      <td>0.0</td>\n",
       "      <td>1.428571</td>\n",
       "      <td>3</td>\n",
       "      <td>20</td>\n",
       "      <td>1</td>\n",
       "    </tr>\n",
       "    <tr>\n",
       "      <th>6</th>\n",
       "      <td>0.735294</td>\n",
       "      <td>0.735294</td>\n",
       "      <td>0.0</td>\n",
       "      <td>0.0</td>\n",
       "      <td>0.000000</td>\n",
       "      <td>0.0</td>\n",
       "      <td>0.000000</td>\n",
       "      <td>0.0</td>\n",
       "      <td>0.0</td>\n",
       "      <td>0.0</td>\n",
       "      <td>...</td>\n",
       "      <td>0.0</td>\n",
       "      <td>0.0</td>\n",
       "      <td>0.0</td>\n",
       "      <td>0.0</td>\n",
       "      <td>0.0</td>\n",
       "      <td>0.0</td>\n",
       "      <td>1.461538</td>\n",
       "      <td>3</td>\n",
       "      <td>19</td>\n",
       "      <td>0</td>\n",
       "    </tr>\n",
       "    <tr>\n",
       "      <th>7</th>\n",
       "      <td>0.000000</td>\n",
       "      <td>0.000000</td>\n",
       "      <td>0.0</td>\n",
       "      <td>0.0</td>\n",
       "      <td>0.000000</td>\n",
       "      <td>0.0</td>\n",
       "      <td>0.000000</td>\n",
       "      <td>0.0</td>\n",
       "      <td>0.0</td>\n",
       "      <td>0.0</td>\n",
       "      <td>...</td>\n",
       "      <td>0.0</td>\n",
       "      <td>0.0</td>\n",
       "      <td>0.0</td>\n",
       "      <td>0.0</td>\n",
       "      <td>0.0</td>\n",
       "      <td>0.0</td>\n",
       "      <td>1.300000</td>\n",
       "      <td>6</td>\n",
       "      <td>26</td>\n",
       "      <td>0</td>\n",
       "    </tr>\n",
       "  </tbody>\n",
       "</table>\n",
       "<p>5 rows × 58 columns</p>\n",
       "</div>"
      ],
      "text/plain": [
       "    word_freq_make  word_freq_address  word_freq_all  word_freq_3d  \\\n",
       "Id                                                                   \n",
       "2         0.000000           0.000000            0.0           0.0   \n",
       "4         0.000000           0.000000            0.0           0.0   \n",
       "5         0.000000           0.000000            0.0           0.0   \n",
       "6         0.735294           0.735294            0.0           0.0   \n",
       "7         0.000000           0.000000            0.0           0.0   \n",
       "\n",
       "    word_freq_our  word_freq_over  word_freq_remove  word_freq_internet  \\\n",
       "Id                                                                        \n",
       "2        2.040816             0.0          0.000000                 0.0   \n",
       "4        0.000000             0.0          0.000000                 0.0   \n",
       "5        0.000000             0.0          1.818182                 0.0   \n",
       "6        0.000000             0.0          0.000000                 0.0   \n",
       "7        0.000000             0.0          0.000000                 0.0   \n",
       "\n",
       "    word_freq_order  word_freq_mail  ...   char_freq_;  char_freq_(  \\\n",
       "Id                                   ...                              \n",
       "2               0.0             0.0  ...           0.0          0.0   \n",
       "4               0.0             0.0  ...           0.0          0.0   \n",
       "5               0.0             0.0  ...           0.0          0.0   \n",
       "6               0.0             0.0  ...           0.0          0.0   \n",
       "7               0.0             0.0  ...           0.0          0.0   \n",
       "\n",
       "    char_freq_[  char_freq_!  char_freq_$  char_freq_#  \\\n",
       "Id                                                       \n",
       "2           0.0          0.0          0.0          0.0   \n",
       "4           0.0          0.0          0.0          0.0   \n",
       "5           0.0          0.0          0.0          0.0   \n",
       "6           0.0          0.0          0.0          0.0   \n",
       "7           0.0          0.0          0.0          0.0   \n",
       "\n",
       "    capital_run_length_average  capital_run_length_longest  \\\n",
       "Id                                                           \n",
       "2                     1.000000                           1   \n",
       "4                     4.000000                          10   \n",
       "5                     1.428571                           3   \n",
       "6                     1.461538                           3   \n",
       "7                     1.300000                           6   \n",
       "\n",
       "    capital_run_length_total  spam  \n",
       "Id                                  \n",
       "2                          2     1  \n",
       "4                         40     1  \n",
       "5                         20     1  \n",
       "6                         19     0  \n",
       "7                         26     0  \n",
       "\n",
       "[5 rows x 58 columns]"
      ]
     },
     "execution_count": 59,
     "metadata": {},
     "output_type": "execute_result"
    }
   ],
   "source": [
    "os.chdir('/Users/bellepeng/Desktop/Metis/Work/Projects/P3_Spam')\n",
    "with open(\"emails_parsed.pkl\", 'rb') as picklefile: \n",
    "    df2 = pickle.load(picklefile)\n",
    "\n",
    "print(df2.shape)\n",
    "df2.head()"
   ]
  },
  {
   "cell_type": "markdown",
   "metadata": {},
   "source": [
    "### Transform"
   ]
  },
  {
   "cell_type": "code",
   "execution_count": 60,
   "metadata": {
    "ExecuteTime": {
     "end_time": "2018-08-05T20:50:08.421344Z",
     "start_time": "2018-08-05T20:50:07.956018Z"
    }
   },
   "outputs": [
    {
     "name": "stdout",
     "output_type": "stream",
     "text": [
      "Series([], dtype: int64)\n",
      "Series([], dtype: int64)\n",
      "capital_run_length_average    2\n",
      "dtype: int64\n",
      "Series([], dtype: int64)\n"
     ]
    }
   ],
   "source": [
    "# Fix Nulls\n",
    "def fix_null(df, var):\n",
    "    print(df.isnull().sum()[df.isnull().sum()>0])\n",
    "    df[var][df[var].isnull()]=0\n",
    "    print(df.isnull().sum()[df.isnull().sum()>0])\n",
    "\n",
    "fix_null(df1, 'capital_run_length_average')\n",
    "fix_null(df2, 'capital_run_length_average')"
   ]
  },
  {
   "cell_type": "code",
   "execution_count": 61,
   "metadata": {
    "ExecuteTime": {
     "end_time": "2018-08-05T20:50:08.435435Z",
     "start_time": "2018-08-05T20:50:08.426694Z"
    }
   },
   "outputs": [],
   "source": [
    "# Log all my features\n",
    "def log_var(x):\n",
    "    if x==0 or x==\"nan\": return 0\n",
    "    else: return np.log(x)"
   ]
  },
  {
   "cell_type": "code",
   "execution_count": 62,
   "metadata": {
    "ExecuteTime": {
     "end_time": "2018-08-05T20:50:08.448834Z",
     "start_time": "2018-08-05T20:50:08.440704Z"
    }
   },
   "outputs": [],
   "source": [
    "def log_dataset(df):\n",
    "    df_logged = df.copy()\n",
    "    for i in range(len(df.columns)-1):\n",
    "        df_logged[df_logged.columns[i]] = [log_var(x) for x in df_logged[df_logged.columns[i]]]\n",
    "    return df_logged"
   ]
  },
  {
   "cell_type": "code",
   "execution_count": 63,
   "metadata": {
    "ExecuteTime": {
     "end_time": "2018-08-05T20:50:08.994781Z",
     "start_time": "2018-08-05T20:50:08.456227Z"
    }
   },
   "outputs": [],
   "source": [
    "df1_logged=log_dataset(df1)\n",
    "df2_logged=log_dataset(df2)"
   ]
  },
  {
   "cell_type": "code",
   "execution_count": 64,
   "metadata": {
    "ExecuteTime": {
     "end_time": "2018-08-05T20:50:09.034251Z",
     "start_time": "2018-08-05T20:50:08.999771Z"
    }
   },
   "outputs": [],
   "source": [
    "# Split into Test and Train (orig without log)\n",
    "X1_train, X1_test, y1_train, y1_test = train_test_split(df1.iloc[:, :-1], df1.iloc[:, -1], test_size = 0.2, random_state=42)\n",
    "X2_train, X2_test, y2_train, y2_test = train_test_split(df2.iloc[:, :-1], df2.iloc[:, -1], test_size = 0.2, random_state=42)"
   ]
  },
  {
   "cell_type": "code",
   "execution_count": 65,
   "metadata": {
    "ExecuteTime": {
     "end_time": "2018-08-05T20:50:09.076105Z",
     "start_time": "2018-08-05T20:50:09.038054Z"
    }
   },
   "outputs": [],
   "source": [
    "# Split into Test and Train (with log)\n",
    "X1_train_logged, X1_test_logged, y1_train_logged, y1_test_logged = \\\n",
    "    train_test_split(df1_logged.iloc[:, :-1], df1_logged.iloc[:, -1], test_size = 0.2, random_state=42)\n",
    "X2_train_logged, X2_test_logged, y2_train_logged, y2_test_logged = \\\n",
    "    train_test_split(df2_logged.iloc[:, :-1], df2_logged.iloc[:, -1], test_size = 0.2, random_state=42)"
   ]
  },
  {
   "cell_type": "code",
   "execution_count": 66,
   "metadata": {
    "ExecuteTime": {
     "end_time": "2018-08-05T20:50:09.112697Z",
     "start_time": "2018-08-05T20:50:09.080101Z"
    }
   },
   "outputs": [],
   "source": [
    "# Scale the Logged Features\n",
    "from sklearn.preprocessing import StandardScaler\n",
    "ssX1 = StandardScaler()\n",
    "X1_train_logscaled=ssX1.fit_transform(X1_train_logged)\n",
    "X1_test_logscaled=ssX1.transform(X1_test_logged)\n",
    "\n",
    "ssX2 = StandardScaler()\n",
    "X2_train_logscaled=ssX2.fit_transform(X2_train_logged)\n",
    "X2_test_logscaled=ssX2.transform(X2_test_logged)"
   ]
  },
  {
   "cell_type": "markdown",
   "metadata": {},
   "source": [
    "## Model Testing on df1"
   ]
  },
  {
   "cell_type": "code",
   "execution_count": 67,
   "metadata": {
    "ExecuteTime": {
     "end_time": "2018-08-05T20:50:22.418994Z",
     "start_time": "2018-08-05T20:50:21.171768Z"
    }
   },
   "outputs": [
    {
     "name": "stdout",
     "output_type": "stream",
     "text": [
      "Train score: 0.7923913043478261\n",
      "Test score: 0.7871878393051032\n",
      "Accuracy:  79.51%\n",
      "Precision:  74.69%\n",
      "Recall:  71.12%\n",
      "ROC AUC:  77.96%\n",
      "False Negative Rate: 17.68%\n",
      "False Positve Rate:  25.31%\n",
      "Accuracy:  78.72%\n",
      "Precision:  76.50%\n",
      "Recall:  71.79%\n",
      "ROC AUC:  77.80%\n",
      "False Negative Rate: 19.82%\n",
      "False Positve Rate:  23.50%\n"
     ]
    },
    {
     "data": {
      "text/html": [
       "<div>\n",
       "<style scoped>\n",
       "    .dataframe tbody tr th:only-of-type {\n",
       "        vertical-align: middle;\n",
       "    }\n",
       "\n",
       "    .dataframe tbody tr th {\n",
       "        vertical-align: top;\n",
       "    }\n",
       "\n",
       "    .dataframe thead th {\n",
       "        text-align: right;\n",
       "    }\n",
       "</style>\n",
       "<table border=\"1\" class=\"dataframe\">\n",
       "  <thead>\n",
       "    <tr style=\"text-align: right;\">\n",
       "      <th></th>\n",
       "      <th>Pred NOT Spam</th>\n",
       "      <th>Pred Spam</th>\n",
       "    </tr>\n",
       "  </thead>\n",
       "  <tbody>\n",
       "    <tr>\n",
       "      <th>Actual NOT Spam</th>\n",
       "      <td>445</td>\n",
       "      <td>86</td>\n",
       "    </tr>\n",
       "    <tr>\n",
       "      <th>Actual Spam</th>\n",
       "      <td>110</td>\n",
       "      <td>280</td>\n",
       "    </tr>\n",
       "  </tbody>\n",
       "</table>\n",
       "</div>"
      ],
      "text/plain": [
       "                 Pred NOT Spam  Pred Spam\n",
       "Actual NOT Spam            445         86\n",
       "Actual Spam                110        280"
      ]
     },
     "execution_count": 67,
     "metadata": {},
     "output_type": "execute_result"
    }
   ],
   "source": [
    "# Naive Bayes - Multi using unlogged and unscaled data\n",
    "NB_Multi1= MultinomialNB()\n",
    "params_nbm1 = {\n",
    "    'alpha': list(range(0,10)) \n",
    "}\n",
    "grid_nbm1 = GridSearchCV(NB_Multi1, param_grid=params_nbm1, cv=10)\n",
    "grid_nbm1.fit(X1_train, y1_train)\n",
    "print(\"Train score:\", grid_nbm1.best_score_)\n",
    "print(\"Test score:\", grid_nbm1.best_estimator_.score(X1_test, y1_test))\n",
    "grid_nbm1.best_estimator_\n",
    "\n",
    "print(\"Train Report\")\n",
    "pred_nbm1_tr = grid_nbm1.predict(X1_train)\n",
    "Eval(y1_train, pred_nbm1_tr)\n",
    "\n",
    "print(\"Test Report\")\n",
    "pred_nbm1_test = grid_nbm1.predict(X1_test)\n",
    "Eval(y1_test, pred_nbm1_test)"
   ]
  },
  {
   "cell_type": "code",
   "execution_count": 68,
   "metadata": {
    "ExecuteTime": {
     "end_time": "2018-08-05T20:50:25.721263Z",
     "start_time": "2018-08-05T20:50:25.617409Z"
    }
   },
   "outputs": [
    {
     "name": "stdout",
     "output_type": "stream",
     "text": [
      "Precision: 0.6950366739022401\n",
      "Accuracy: 0.8198448207760555\n"
     ]
    }
   ],
   "source": [
    "# Naive Bayes - Gaussian using unlogged unscaled data\n",
    "NB_G1= GaussianNB()\n",
    "scores_NBG1_prec = cross_val_score(NB_G1, X1_train, y1_train, scoring='precision', n_jobs=1)\n",
    "print(\"Precision: \" + str(np.mean(scores_NBG1_prec)))\n",
    "scores_NBG1_acc = cross_val_score(NB_G1, X1_train, y1_train, scoring='accuracy', n_jobs=1)\n",
    "print(\"Accuracy: \" + str(np.mean(scores_NBG1_acc)))"
   ]
  },
  {
   "cell_type": "code",
   "execution_count": 69,
   "metadata": {
    "ExecuteTime": {
     "end_time": "2018-08-05T20:50:34.827470Z",
     "start_time": "2018-08-05T20:50:27.068103Z"
    }
   },
   "outputs": [
    {
     "name": "stdout",
     "output_type": "stream",
     "text": [
      "Train score: 0.8855978260869565\n",
      "Test score: 0.8794788273615635\n",
      "Accuracy:  88.64%\n",
      "Precision:  88.10%\n",
      "Recall:  81.66%\n",
      "ROC AUC:  87.35%\n",
      "False Negative Rate: 11.05%\n",
      "False Positve Rate:  11.90%\n",
      "Accuracy:  87.95%\n",
      "Precision:  90.43%\n",
      "Recall:  80.00%\n",
      "ROC AUC:  86.89%\n",
      "False Negative Rate: 13.54%\n",
      "False Positve Rate:  9.57%\n"
     ]
    },
    {
     "data": {
      "text/html": [
       "<div>\n",
       "<style scoped>\n",
       "    .dataframe tbody tr th:only-of-type {\n",
       "        vertical-align: middle;\n",
       "    }\n",
       "\n",
       "    .dataframe tbody tr th {\n",
       "        vertical-align: top;\n",
       "    }\n",
       "\n",
       "    .dataframe thead th {\n",
       "        text-align: right;\n",
       "    }\n",
       "</style>\n",
       "<table border=\"1\" class=\"dataframe\">\n",
       "  <thead>\n",
       "    <tr style=\"text-align: right;\">\n",
       "      <th></th>\n",
       "      <th>Pred NOT Spam</th>\n",
       "      <th>Pred Spam</th>\n",
       "    </tr>\n",
       "  </thead>\n",
       "  <tbody>\n",
       "    <tr>\n",
       "      <th>Actual NOT Spam</th>\n",
       "      <td>498</td>\n",
       "      <td>33</td>\n",
       "    </tr>\n",
       "    <tr>\n",
       "      <th>Actual Spam</th>\n",
       "      <td>78</td>\n",
       "      <td>312</td>\n",
       "    </tr>\n",
       "  </tbody>\n",
       "</table>\n",
       "</div>"
      ],
      "text/plain": [
       "                 Pred NOT Spam  Pred Spam\n",
       "Actual NOT Spam            498         33\n",
       "Actual Spam                 78        312"
      ]
     },
     "execution_count": 69,
     "metadata": {},
     "output_type": "execute_result"
    }
   ],
   "source": [
    "# Naive Bayes - Bernoulli using unlogged and unscaled data\n",
    "NB_Bern1 = BernoulliNB()\n",
    "params_nbb1 = {\n",
    "    'alpha': list(range(0,10)) ,\n",
    "    'binarize': list(range(0,50, 10)) \n",
    "}\n",
    "grid_nbb1 = GridSearchCV(NB_Bern1, param_grid=params_nbb1, cv=10)\n",
    "grid_nbb1.fit(X1_train, y1_train)\n",
    "print(\"Train score:\", grid_nbb1.best_score_)\n",
    "print(\"Test score:\", grid_nbb1.best_estimator_.score(X1_test, y1_test))\n",
    "grid_nbb1.best_estimator_\n",
    "\n",
    "print(\"Train Report\")\n",
    "pred_nbb1_tr = grid_nbb1.predict(X1_train)\n",
    "Eval(y1_train, pred_nbb1_tr)\n",
    "\n",
    "print(\"Test Report\")\n",
    "pred_nbb1_test = grid_nbb1.predict(X1_test)\n",
    "Eval(y1_test, pred_nbb1_test)"
   ]
  },
  {
   "cell_type": "code",
   "execution_count": 73,
   "metadata": {
    "ExecuteTime": {
     "end_time": "2018-08-06T00:57:03.303409Z",
     "start_time": "2018-08-05T20:50:53.594808Z"
    }
   },
   "outputs": [
    {
     "name": "stdout",
     "output_type": "stream",
     "text": [
      "Train score: 0.9532608695652174\n",
      "Test score: 0.9565689467969598\n",
      "Accuracy:  99.73%\n",
      "Precision:  99.93%\n",
      "Recall:  99.37%\n",
      "ROC AUC:  99.66%\n",
      "False Negative Rate: 0.40%\n",
      "False Positve Rate:  0.07%\n",
      "Accuracy:  95.66%\n",
      "Precision:  97.04%\n",
      "Recall:  92.56%\n",
      "ROC AUC:  95.25%\n",
      "False Negative Rate: 5.28%\n",
      "False Positve Rate:  2.96%\n"
     ]
    },
    {
     "data": {
      "text/html": [
       "<div>\n",
       "<style scoped>\n",
       "    .dataframe tbody tr th:only-of-type {\n",
       "        vertical-align: middle;\n",
       "    }\n",
       "\n",
       "    .dataframe tbody tr th {\n",
       "        vertical-align: top;\n",
       "    }\n",
       "\n",
       "    .dataframe thead th {\n",
       "        text-align: right;\n",
       "    }\n",
       "</style>\n",
       "<table border=\"1\" class=\"dataframe\">\n",
       "  <thead>\n",
       "    <tr style=\"text-align: right;\">\n",
       "      <th></th>\n",
       "      <th>Pred NOT Spam</th>\n",
       "      <th>Pred Spam</th>\n",
       "    </tr>\n",
       "  </thead>\n",
       "  <tbody>\n",
       "    <tr>\n",
       "      <th>Actual NOT Spam</th>\n",
       "      <td>520</td>\n",
       "      <td>11</td>\n",
       "    </tr>\n",
       "    <tr>\n",
       "      <th>Actual Spam</th>\n",
       "      <td>29</td>\n",
       "      <td>361</td>\n",
       "    </tr>\n",
       "  </tbody>\n",
       "</table>\n",
       "</div>"
      ],
      "text/plain": [
       "                 Pred NOT Spam  Pred Spam\n",
       "Actual NOT Spam            520         11\n",
       "Actual Spam                 29        361"
      ]
     },
     "execution_count": 73,
     "metadata": {},
     "output_type": "execute_result"
    }
   ],
   "source": [
    "rf1 = RandomForestClassifier()\n",
    "params_rf1 = {\n",
    "    'criterion': ['gini', 'entropy'],\n",
    "    'n_estimators': list(range(300,500,50)),\n",
    "    'max_depth': list(range(3,26,2)),\n",
    "    'min_samples_leaf': list(range(1,6,2)),\n",
    "}\n",
    "grid_rf1 = GridSearchCV(rf1, param_grid=params_rf1, cv=5)\n",
    "grid_rf1.fit(X1_train, y1_train)\n",
    "print(\"Train score:\", grid_rf1.best_score_)\n",
    "print(\"Test score:\", grid_rf1.best_estimator_.score(X1_test, y1_test))\n",
    "grid_rf1.best_estimator_\n",
    "\n",
    "print(\"Train Report\")\n",
    "pred_rf1_tr = grid_rf1.predict(X1_train)\n",
    "Eval(y1_train, pred_rf1_tr)\n",
    "print()\n",
    "print(\"Test Report\")\n",
    "pred_rf1_test = grid_rf1.predict(X1_test)\n",
    "Eval(y1_test, pred_rf1_test)"
   ]
  },
  {
   "cell_type": "code",
   "execution_count": 75,
   "metadata": {
    "ExecuteTime": {
     "end_time": "2018-08-06T04:31:39.912768Z",
     "start_time": "2018-08-06T04:31:39.281262Z"
    }
   },
   "outputs": [],
   "source": [
    "pickle.dump(grid_rf1, open('grid_rf1.pkl', 'wb'))"
   ]
  },
  {
   "cell_type": "code",
   "execution_count": null,
   "metadata": {},
   "outputs": [],
   "source": []
  },
  {
   "cell_type": "code",
   "execution_count": null,
   "metadata": {},
   "outputs": [],
   "source": []
  },
  {
   "cell_type": "markdown",
   "metadata": {},
   "source": [
    "## Model Testing on df2"
   ]
  },
  {
   "cell_type": "code",
   "execution_count": 70,
   "metadata": {
    "ExecuteTime": {
     "end_time": "2018-08-05T20:50:41.583054Z",
     "start_time": "2018-08-05T20:50:40.818440Z"
    }
   },
   "outputs": [
    {
     "name": "stdout",
     "output_type": "stream",
     "text": [
      "Train score: 0.7902097902097902\n",
      "Test score: 0.7668997668997669\n",
      "Accuracy:  79.20%\n",
      "Precision:  70.83%\n",
      "Recall:  42.77%\n",
      "ROC AUC:  67.99%\n",
      "False Negative Rate: 19.12%\n",
      "False Positve Rate:  29.17%\n",
      "Accuracy:  76.69%\n",
      "Precision:  68.00%\n",
      "Recall:  40.16%\n",
      "ROC AUC:  66.11%\n",
      "False Negative Rate: 21.47%\n",
      "False Positve Rate:  32.00%\n"
     ]
    },
    {
     "data": {
      "text/html": [
       "<div>\n",
       "<style scoped>\n",
       "    .dataframe tbody tr th:only-of-type {\n",
       "        vertical-align: middle;\n",
       "    }\n",
       "\n",
       "    .dataframe tbody tr th {\n",
       "        vertical-align: top;\n",
       "    }\n",
       "\n",
       "    .dataframe thead th {\n",
       "        text-align: right;\n",
       "    }\n",
       "</style>\n",
       "<table border=\"1\" class=\"dataframe\">\n",
       "  <thead>\n",
       "    <tr style=\"text-align: right;\">\n",
       "      <th></th>\n",
       "      <th>Pred NOT Spam</th>\n",
       "      <th>Pred Spam</th>\n",
       "    </tr>\n",
       "  </thead>\n",
       "  <tbody>\n",
       "    <tr>\n",
       "      <th>Actual NOT Spam</th>\n",
       "      <td>278</td>\n",
       "      <td>24</td>\n",
       "    </tr>\n",
       "    <tr>\n",
       "      <th>Actual Spam</th>\n",
       "      <td>76</td>\n",
       "      <td>51</td>\n",
       "    </tr>\n",
       "  </tbody>\n",
       "</table>\n",
       "</div>"
      ],
      "text/plain": [
       "                 Pred NOT Spam  Pred Spam\n",
       "Actual NOT Spam            278         24\n",
       "Actual Spam                 76         51"
      ]
     },
     "execution_count": 70,
     "metadata": {},
     "output_type": "execute_result"
    }
   ],
   "source": [
    "# Naive Bayes - Multi using unlogged and unscaled data\n",
    "NB_Multi2 = MultinomialNB()\n",
    "params_nbm2 = {\n",
    "    'alpha': list(range(0,10)) \n",
    "}\n",
    "grid_nbm2 = GridSearchCV(NB_Multi2, param_grid=params_nbm2, cv=10)\n",
    "grid_nbm2.fit(X2_train, y2_train)\n",
    "print(\"Train score:\", grid_nbm2.best_score_)\n",
    "print(\"Test score:\", grid_nbm2.best_estimator_.score(X2_test, y2_test))\n",
    "grid_nbm2.best_estimator_\n",
    "\n",
    "print(\"Train Report\")\n",
    "pred_nbm2_tr = grid_nbm2.predict(X2_train)\n",
    "Eval(y2_train, pred_nbm2_tr)\n",
    "print()\n",
    "print(\"Test Report\")\n",
    "pred_nbm2_test = grid_nbm2.predict(X2_test)\n",
    "Eval(y2_test, pred_nbm2_test)"
   ]
  },
  {
   "cell_type": "code",
   "execution_count": 71,
   "metadata": {
    "ExecuteTime": {
     "end_time": "2018-08-05T20:50:42.484857Z",
     "start_time": "2018-08-05T20:50:42.436789Z"
    }
   },
   "outputs": [
    {
     "name": "stdout",
     "output_type": "stream",
     "text": [
      "Precision: 0.42155221589417513\n",
      "Accuracy: 0.6235431235431236\n"
     ]
    }
   ],
   "source": [
    "# Naive Bayes - Gaussian using unlogged unscaled data\n",
    "NB_G2= GaussianNB()\n",
    "scores_NBG2_prec = cross_val_score(NB_G2, X2_train, y2_train, scoring='precision', n_jobs=1)\n",
    "print(\"Precision: \" + str(np.mean(scores_NBG2_prec)))\n",
    "scores_NBG2_acc = cross_val_score(NB_G2, X2_train, y2_train, scoring='accuracy', n_jobs=1)\n",
    "print(\"Accuracy: \" + str(np.mean(scores_NBG2_acc)))"
   ]
  },
  {
   "cell_type": "code",
   "execution_count": 72,
   "metadata": {
    "ExecuteTime": {
     "end_time": "2018-08-05T20:50:50.238029Z",
     "start_time": "2018-08-05T20:50:44.465036Z"
    }
   },
   "outputs": [
    {
     "name": "stdout",
     "output_type": "stream",
     "text": [
      "Train score: 0.8006993006993007\n",
      "Test score: 0.7762237762237763\n",
      "Accuracy:  81.35%\n",
      "Precision:  69.48%\n",
      "Recall:  58.70%\n",
      "ROC AUC:  74.39%\n",
      "False Negative Rate: 15.00%\n",
      "False Positve Rate:  30.52%\n",
      "Accuracy:  77.62%\n",
      "Precision:  63.03%\n",
      "Recall:  59.06%\n",
      "ROC AUC:  72.24%\n",
      "False Negative Rate: 16.77%\n",
      "False Positve Rate:  36.97%\n"
     ]
    },
    {
     "data": {
      "text/html": [
       "<div>\n",
       "<style scoped>\n",
       "    .dataframe tbody tr th:only-of-type {\n",
       "        vertical-align: middle;\n",
       "    }\n",
       "\n",
       "    .dataframe tbody tr th {\n",
       "        vertical-align: top;\n",
       "    }\n",
       "\n",
       "    .dataframe thead th {\n",
       "        text-align: right;\n",
       "    }\n",
       "</style>\n",
       "<table border=\"1\" class=\"dataframe\">\n",
       "  <thead>\n",
       "    <tr style=\"text-align: right;\">\n",
       "      <th></th>\n",
       "      <th>Pred NOT Spam</th>\n",
       "      <th>Pred Spam</th>\n",
       "    </tr>\n",
       "  </thead>\n",
       "  <tbody>\n",
       "    <tr>\n",
       "      <th>Actual NOT Spam</th>\n",
       "      <td>258</td>\n",
       "      <td>44</td>\n",
       "    </tr>\n",
       "    <tr>\n",
       "      <th>Actual Spam</th>\n",
       "      <td>52</td>\n",
       "      <td>75</td>\n",
       "    </tr>\n",
       "  </tbody>\n",
       "</table>\n",
       "</div>"
      ],
      "text/plain": [
       "                 Pred NOT Spam  Pred Spam\n",
       "Actual NOT Spam            258         44\n",
       "Actual Spam                 52         75"
      ]
     },
     "execution_count": 72,
     "metadata": {},
     "output_type": "execute_result"
    }
   ],
   "source": [
    "# Naive Bayes - Bernoulli using unlogged and unscaled data\n",
    "NB_Bern2 = BernoulliNB()\n",
    "params_nbb2 = {\n",
    "    'alpha': list(range(0,10)) ,\n",
    "    'binarize': list(range(0,50, 10)) \n",
    "}\n",
    "grid_nbb2 = GridSearchCV(NB_Bern2, param_grid=params_nbb2, cv=10)\n",
    "grid_nbb2.fit(X2_train, y2_train)\n",
    "print(\"Train score:\", grid_nbb2.best_score_)\n",
    "print(\"Test score:\", grid_nbb2.best_estimator_.score(X2_test, y2_test))\n",
    "grid_nbb2.best_estimator_\n",
    "\n",
    "print(\"Train Report\")\n",
    "pred_nbb2_tr = grid_nbb2.predict(X2_train)\n",
    "Eval(y2_train, pred_nbb2_tr)\n",
    "print()\n",
    "print(\"Test Report\")\n",
    "pred_nbb2_test = grid_nbb2.predict(X2_test)\n",
    "Eval(y2_test, pred_nbb2_test)"
   ]
  },
  {
   "cell_type": "code",
   "execution_count": 74,
   "metadata": {
    "ExecuteTime": {
     "end_time": "2018-08-06T01:26:30.040940Z",
     "start_time": "2018-08-06T00:57:04.238263Z"
    }
   },
   "outputs": [
    {
     "name": "stdout",
     "output_type": "stream",
     "text": [
      "Train score: 0.9353146853146853\n",
      "Test score: 0.9137529137529138\n",
      "Accuracy:  99.24%\n",
      "Precision:  99.79%\n",
      "Recall:  97.48%\n",
      "ROC AUC:  98.70%\n",
      "False Negative Rate: 0.96%\n",
      "False Positve Rate:  0.21%\n",
      "Accuracy:  91.38%\n",
      "Precision:  87.50%\n",
      "Recall:  82.68%\n",
      "ROC AUC:  88.86%\n",
      "False Negative Rate: 7.12%\n",
      "False Positve Rate:  12.50%\n"
     ]
    },
    {
     "data": {
      "text/html": [
       "<div>\n",
       "<style scoped>\n",
       "    .dataframe tbody tr th:only-of-type {\n",
       "        vertical-align: middle;\n",
       "    }\n",
       "\n",
       "    .dataframe tbody tr th {\n",
       "        vertical-align: top;\n",
       "    }\n",
       "\n",
       "    .dataframe thead th {\n",
       "        text-align: right;\n",
       "    }\n",
       "</style>\n",
       "<table border=\"1\" class=\"dataframe\">\n",
       "  <thead>\n",
       "    <tr style=\"text-align: right;\">\n",
       "      <th></th>\n",
       "      <th>Pred NOT Spam</th>\n",
       "      <th>Pred Spam</th>\n",
       "    </tr>\n",
       "  </thead>\n",
       "  <tbody>\n",
       "    <tr>\n",
       "      <th>Actual NOT Spam</th>\n",
       "      <td>287</td>\n",
       "      <td>15</td>\n",
       "    </tr>\n",
       "    <tr>\n",
       "      <th>Actual Spam</th>\n",
       "      <td>22</td>\n",
       "      <td>105</td>\n",
       "    </tr>\n",
       "  </tbody>\n",
       "</table>\n",
       "</div>"
      ],
      "text/plain": [
       "                 Pred NOT Spam  Pred Spam\n",
       "Actual NOT Spam            287         15\n",
       "Actual Spam                 22        105"
      ]
     },
     "execution_count": 74,
     "metadata": {},
     "output_type": "execute_result"
    }
   ],
   "source": [
    "rf2 = RandomForestClassifier()\n",
    "params_rf2 = {\n",
    "    'criterion': ['gini', 'entropy'],\n",
    "    'n_estimators': list(range(300,500,50)),\n",
    "    'max_depth': list(range(3,26,2)),\n",
    "    'min_samples_leaf': list(range(1,6,2)),\n",
    "}\n",
    "grid_rf2 = GridSearchCV(rf2, param_grid=params_rf2, cv=5)\n",
    "grid_rf2.fit(X2_train, y2_train)\n",
    "print(\"Train score:\", grid_rf2.best_score_)\n",
    "print(\"Test score:\", grid_rf2.best_estimator_.score(X2_test, y2_test))\n",
    "grid_rf2.best_estimator_\n",
    "\n",
    "print(\"Train Report\")\n",
    "pred_rf2_tr = grid_rf2.predict(X2_train)\n",
    "Eval(y2_train, pred_rf2_tr)\n",
    "print()\n",
    "print(\"Test Report\")\n",
    "pred_rf2_test = grid_rf2.predict(X2_test)\n",
    "Eval(y2_test, pred_rf2_test)"
   ]
  },
  {
   "cell_type": "markdown",
   "metadata": {},
   "source": [
    "### Saving and reopening the models"
   ]
  },
  {
   "cell_type": "code",
   "execution_count": 77,
   "metadata": {
    "ExecuteTime": {
     "end_time": "2018-08-06T04:33:19.210375Z",
     "start_time": "2018-08-06T04:33:19.048203Z"
    }
   },
   "outputs": [],
   "source": [
    "os.chdir('/Users/bellepeng/Desktop/Metis/Work/Projects/P3_Spam')\n",
    "import pickle\n",
    "pickle.dump(grid_rf2, open('grid_rf2.pkl', 'wb'))"
   ]
  },
  {
   "cell_type": "code",
   "execution_count": 79,
   "metadata": {
    "ExecuteTime": {
     "end_time": "2018-08-06T04:33:53.006880Z",
     "start_time": "2018-08-06T04:33:52.757401Z"
    }
   },
   "outputs": [],
   "source": [
    "model1=pickle.load(open('grid_rf1.pkl', 'rb'))\n",
    "model2=pickle.load(open('grid_rf2.pkl', 'rb'))"
   ]
  },
  {
   "cell_type": "code",
   "execution_count": 80,
   "metadata": {
    "ExecuteTime": {
     "end_time": "2018-08-06T04:33:58.603446Z",
     "start_time": "2018-08-06T04:33:58.585803Z"
    }
   },
   "outputs": [
    {
     "data": {
      "text/plain": [
       "RandomForestClassifier(bootstrap=True, class_weight=None, criterion='entropy',\n",
       "            max_depth=23, max_features='auto', max_leaf_nodes=None,\n",
       "            min_impurity_decrease=0.0, min_impurity_split=None,\n",
       "            min_samples_leaf=1, min_samples_split=2,\n",
       "            min_weight_fraction_leaf=0.0, n_estimators=450, n_jobs=1,\n",
       "            oob_score=False, random_state=None, verbose=0,\n",
       "            warm_start=False)"
      ]
     },
     "execution_count": 80,
     "metadata": {},
     "output_type": "execute_result"
    }
   ],
   "source": [
    "model1.best_estimator_"
   ]
  },
  {
   "cell_type": "code",
   "execution_count": 81,
   "metadata": {
    "ExecuteTime": {
     "end_time": "2018-08-06T04:34:03.593963Z",
     "start_time": "2018-08-06T04:34:03.581675Z"
    }
   },
   "outputs": [
    {
     "data": {
      "text/plain": [
       "RandomForestClassifier(bootstrap=True, class_weight=None, criterion='gini',\n",
       "            max_depth=19, max_features='auto', max_leaf_nodes=None,\n",
       "            min_impurity_decrease=0.0, min_impurity_split=None,\n",
       "            min_samples_leaf=1, min_samples_split=2,\n",
       "            min_weight_fraction_leaf=0.0, n_estimators=300, n_jobs=1,\n",
       "            oob_score=False, random_state=None, verbose=0,\n",
       "            warm_start=False)"
      ]
     },
     "execution_count": 81,
     "metadata": {},
     "output_type": "execute_result"
    }
   ],
   "source": [
    "model2.best_estimator_"
   ]
  },
  {
   "cell_type": "code",
   "execution_count": 89,
   "metadata": {
    "ExecuteTime": {
     "end_time": "2018-08-06T04:41:01.987560Z",
     "start_time": "2018-08-06T04:41:01.976281Z"
    }
   },
   "outputs": [
    {
     "name": "stdout",
     "output_type": "stream",
     "text": [
      "Train Reort\n",
      "             precision    recall  f1-score   support\n",
      "\n",
      "          0       1.00      1.00      1.00      2257\n",
      "          1       1.00      0.99      1.00      1423\n",
      "\n",
      "avg / total       1.00      1.00      1.00      3680\n",
      "\n",
      "Test Reort\n",
      "             precision    recall  f1-score   support\n",
      "\n",
      "          0       0.95      0.98      0.96       531\n",
      "          1       0.97      0.93      0.95       390\n",
      "\n",
      "avg / total       0.96      0.96      0.96       921\n",
      "\n"
     ]
    }
   ],
   "source": [
    "print(\"Train Reort - DF1\")\n",
    "print(classification_report(y1_train, pred_rf1_tr))\n",
    "print(\"Test Reort - DF1\")\n",
    "print(classification_report(y1_test, pred_rf1_test))"
   ]
  },
  {
   "cell_type": "code",
   "execution_count": 88,
   "metadata": {
    "ExecuteTime": {
     "end_time": "2018-08-06T04:40:59.122522Z",
     "start_time": "2018-08-06T04:40:59.109920Z"
    }
   },
   "outputs": [
    {
     "name": "stdout",
     "output_type": "stream",
     "text": [
      "Train Reort\n",
      "             precision    recall  f1-score   support\n",
      "\n",
      "          0       0.99      1.00      0.99      1239\n",
      "          1       1.00      0.97      0.99       477\n",
      "\n",
      "avg / total       0.99      0.99      0.99      1716\n",
      "\n",
      "Test Reort\n",
      "             precision    recall  f1-score   support\n",
      "\n",
      "          0       0.93      0.95      0.94       302\n",
      "          1       0.88      0.83      0.85       127\n",
      "\n",
      "avg / total       0.91      0.91      0.91       429\n",
      "\n"
     ]
    }
   ],
   "source": [
    "print(\"Train Reort - DF2\")\n",
    "print(classification_report(y2_train, pred_rf2_tr))\n",
    "print(\"Test Reort - DF2\")\n",
    "print(classification_report(y2_test, pred_rf2_test))"
   ]
  },
  {
   "cell_type": "code",
   "execution_count": 90,
   "metadata": {
    "ExecuteTime": {
     "end_time": "2018-08-06T04:53:11.927207Z",
     "start_time": "2018-08-06T04:53:11.272547Z"
    }
   },
   "outputs": [
    {
     "name": "stdout",
     "output_type": "stream",
     "text": [
      "Train Report\n",
      "Accuracy:  99.73%\n",
      "Precision:  99.93%\n",
      "Recall:  99.37%\n",
      "ROC AUC:  99.66%\n",
      "False Negative Rate: 0.40%\n",
      "False Positve Rate:  0.07%\n",
      "\n",
      "Test Report\n",
      "Accuracy:  95.66%\n",
      "Precision:  97.04%\n",
      "Recall:  92.56%\n",
      "ROC AUC:  95.25%\n",
      "False Negative Rate: 5.28%\n",
      "False Positve Rate:  2.96%\n"
     ]
    },
    {
     "data": {
      "text/html": [
       "<div>\n",
       "<style scoped>\n",
       "    .dataframe tbody tr th:only-of-type {\n",
       "        vertical-align: middle;\n",
       "    }\n",
       "\n",
       "    .dataframe tbody tr th {\n",
       "        vertical-align: top;\n",
       "    }\n",
       "\n",
       "    .dataframe thead th {\n",
       "        text-align: right;\n",
       "    }\n",
       "</style>\n",
       "<table border=\"1\" class=\"dataframe\">\n",
       "  <thead>\n",
       "    <tr style=\"text-align: right;\">\n",
       "      <th></th>\n",
       "      <th>Pred NOT Spam</th>\n",
       "      <th>Pred Spam</th>\n",
       "    </tr>\n",
       "  </thead>\n",
       "  <tbody>\n",
       "    <tr>\n",
       "      <th>Actual NOT Spam</th>\n",
       "      <td>520</td>\n",
       "      <td>11</td>\n",
       "    </tr>\n",
       "    <tr>\n",
       "      <th>Actual Spam</th>\n",
       "      <td>29</td>\n",
       "      <td>361</td>\n",
       "    </tr>\n",
       "  </tbody>\n",
       "</table>\n",
       "</div>"
      ],
      "text/plain": [
       "                 Pred NOT Spam  Pred Spam\n",
       "Actual NOT Spam            520         11\n",
       "Actual Spam                 29        361"
      ]
     },
     "execution_count": 90,
     "metadata": {},
     "output_type": "execute_result"
    }
   ],
   "source": [
    "print(\"Train Report\")\n",
    "pred_rf1_tr = grid_rf1.predict(X1_train)\n",
    "Eval(y1_train, pred_rf1_tr)\n",
    "print()\n",
    "print(\"Test Report\")\n",
    "pred_rf1_test = grid_rf1.predict(X1_test)\n",
    "Eval(y1_test, pred_rf1_test)"
   ]
  },
  {
   "cell_type": "code",
   "execution_count": 91,
   "metadata": {
    "ExecuteTime": {
     "end_time": "2018-08-06T04:53:14.897026Z",
     "start_time": "2018-08-06T04:53:14.677825Z"
    }
   },
   "outputs": [
    {
     "name": "stdout",
     "output_type": "stream",
     "text": [
      "Train Report\n",
      "Accuracy:  99.24%\n",
      "Precision:  99.79%\n",
      "Recall:  97.48%\n",
      "ROC AUC:  98.70%\n",
      "False Negative Rate: 0.96%\n",
      "False Positve Rate:  0.21%\n",
      "\n",
      "Test Report\n",
      "Accuracy:  91.38%\n",
      "Precision:  87.50%\n",
      "Recall:  82.68%\n",
      "ROC AUC:  88.86%\n",
      "False Negative Rate: 7.12%\n",
      "False Positve Rate:  12.50%\n"
     ]
    },
    {
     "data": {
      "text/html": [
       "<div>\n",
       "<style scoped>\n",
       "    .dataframe tbody tr th:only-of-type {\n",
       "        vertical-align: middle;\n",
       "    }\n",
       "\n",
       "    .dataframe tbody tr th {\n",
       "        vertical-align: top;\n",
       "    }\n",
       "\n",
       "    .dataframe thead th {\n",
       "        text-align: right;\n",
       "    }\n",
       "</style>\n",
       "<table border=\"1\" class=\"dataframe\">\n",
       "  <thead>\n",
       "    <tr style=\"text-align: right;\">\n",
       "      <th></th>\n",
       "      <th>Pred NOT Spam</th>\n",
       "      <th>Pred Spam</th>\n",
       "    </tr>\n",
       "  </thead>\n",
       "  <tbody>\n",
       "    <tr>\n",
       "      <th>Actual NOT Spam</th>\n",
       "      <td>287</td>\n",
       "      <td>15</td>\n",
       "    </tr>\n",
       "    <tr>\n",
       "      <th>Actual Spam</th>\n",
       "      <td>22</td>\n",
       "      <td>105</td>\n",
       "    </tr>\n",
       "  </tbody>\n",
       "</table>\n",
       "</div>"
      ],
      "text/plain": [
       "                 Pred NOT Spam  Pred Spam\n",
       "Actual NOT Spam            287         15\n",
       "Actual Spam                 22        105"
      ]
     },
     "execution_count": 91,
     "metadata": {},
     "output_type": "execute_result"
    }
   ],
   "source": [
    "print(\"Train Report\")\n",
    "pred_rf2_tr = grid_rf2.predict(X2_train)\n",
    "Eval(y2_train, pred_rf2_tr)\n",
    "print()\n",
    "print(\"Test Report\")\n",
    "pred_rf2_test = grid_rf2.predict(X2_test)\n",
    "Eval(y2_test, pred_rf2_test)"
   ]
  },
  {
   "cell_type": "code",
   "execution_count": 104,
   "metadata": {
    "ExecuteTime": {
     "end_time": "2018-08-06T05:15:26.494850Z",
     "start_time": "2018-08-06T05:15:26.130044Z"
    }
   },
   "outputs": [
    {
     "name": "stdout",
     "output_type": "stream",
     "text": [
      "ROC AUC score =  0.9874330001448646\n"
     ]
    },
    {
     "data": {
      "image/png": "[encoded data removed]",
      "text/plain": [
       "<Figure size 576x396 with 1 Axes>"
      ]
     },
     "metadata": {},
     "output_type": "display_data"
    }
   ],
   "source": [
    "fpr, tpr, thresholds = roc_curve(y1_test, grid_rf1.predict_proba(X1_test)[:,1])\n",
    "plt.plot(fpr, tpr,lw=3)\n",
    "plt.plot([0,1],[0,1],c='r',ls='--')\n",
    "plt.xlim([-0.05,1.05])\n",
    "plt.ylim([-0.05,1.05])\n",
    "\n",
    "plt.xlabel('False positive rate', fontsize=15)\n",
    "plt.ylabel('True positive rate', fontsize=15)\n",
    "plt.title('ROC curve for Spam Detection (Dataset 1)', fontsize=20);\n",
    "print(\"ROC AUC score = \", roc_auc_score(y1_test, grid_rf1.predict_proba(X1_test)[:,1]))"
   ]
  },
  {
   "cell_type": "code",
   "execution_count": 106,
   "metadata": {
    "ExecuteTime": {
     "end_time": "2018-08-06T05:16:06.202698Z",
     "start_time": "2018-08-06T05:16:05.918337Z"
    }
   },
   "outputs": [
    {
     "name": "stdout",
     "output_type": "stream",
     "text": [
      "ROC AUC score =  0.9529123429107785\n"
     ]
    },
    {
     "data": {
      "image/png": "[encoded data removed]",
      "text/plain": [
       "<Figure size 576x396 with 1 Axes>"
      ]
     },
     "metadata": {},
     "output_type": "display_data"
    }
   ],
   "source": [
    "fpr, tpr, thresholds = roc_curve(y2_test, grid_rf2.predict_proba(X2_test)[:,1])\n",
    "plt.plot(fpr, tpr,lw=3)\n",
    "plt.plot([0,1],[0,1],c='r',ls='--')\n",
    "plt.xlim([-0.05,1.05])\n",
    "plt.ylim([-0.05,1.05])\n",
    "\n",
    "plt.xlabel('False positive rate', fontsize=15)\n",
    "plt.ylabel('True positive rate', fontsize=15)\n",
    "plt.title('ROC curve for Spam Detection (Dataset 2)', fontsize=20);\n",
    "print(\"ROC AUC score = \", roc_auc_score(y2_test, grid_rf2.predict_proba(X2_test)[:,1]))"
   ]
  },
  {
   "cell_type": "code",
   "execution_count": null,
   "metadata": {},
   "outputs": [],
   "source": []
  },
  {
   "cell_type": "code",
   "execution_count": null,
   "metadata": {},
   "outputs": [],
   "source": []
  }
 ],
 "metadata": {
  "kernelspec": {
   "display_name": "Python (anacoda)",
   "language": "python",
   "name": "other-env"
  },
  "language_info": {
   "codemirror_mode": {
    "name": "ipython",
    "version": 3
   },
   "file_extension": ".py",
   "mimetype": "text/x-python",
   "name": "python",
   "nbconvert_exporter": "python",
   "pygments_lexer": "ipython3",
   "version": "3.6.5"
  },
  "varInspector": {
   "cols": {
    "lenName": 16,
    "lenType": 16,
    "lenVar": 40
   },
   "kernels_config": {
    "python": {
     "delete_cmd_postfix": "",
     "delete_cmd_prefix": "del ",
     "library": "var_list.py",
     "varRefreshCmd": "print(var_dic_list())"
    },
    "r": {
     "delete_cmd_postfix": ") ",
     "delete_cmd_prefix": "rm(",
     "library": "var_list.r",
     "varRefreshCmd": "cat(var_dic_list()) "
    }
   },
   "types_to_exclude": [
    "module",
    "function",
    "builtin_function_or_method",
    "instance",
    "_Feature"
   ],
   "window_display": false
  }
 },
 "nbformat": 4,
 "nbformat_minor": 2
}
