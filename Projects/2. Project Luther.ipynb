{
 "cells": [
  {
   "cell_type": "code",
   "execution_count": 474,
   "metadata": {
    "collapsed": true
   },
   "outputs": [],
   "source": [
    "import pandas as pd\n",
    "import numpy as np\n",
    "import pickle"
   ]
  },
  {
   "cell_type": "markdown",
   "metadata": {},
   "source": [
    "### Scrape the First Page of the Coffee Data"
   ]
  },
  {
   "cell_type": "code",
   "execution_count": 475,
   "metadata": {
    "collapsed": true
   },
   "outputs": [],
   "source": [
    "import requests\n",
    "from bs4 import BeautifulSoup\n",
    "source_code = requests.get('https://database.coffeeinstitute.org/coffees/arabica')\n",
    "soup = BeautifulSoup(source_code.text, 'html5lib')"
   ]
  },
  {
   "cell_type": "code",
   "execution_count": 514,
   "metadata": {
    "collapsed": true
   },
   "outputs": [],
   "source": [
    "from selenium import webdriver\n",
    "from selenium.webdriver.common.keys import Keys\n",
    "import time\n",
    "import os\n",
    "chromedriver = \"/Applications/chromedriver\" \n",
    "os.environ[\"webdriver.chrome.driver\"] = chromedriver\n",
    "driver = webdriver.Chrome(chromedriver)"
   ]
  },
  {
   "cell_type": "markdown",
   "metadata": {},
   "source": [
    "### Grab the entire list of coffees from 1st page"
   ]
  },
  {
   "cell_type": "code",
   "execution_count": 459,
   "metadata": {},
   "outputs": [
    {
     "name": "stdout",
     "output_type": "stream",
     "text": [
      "(1350, 7)\n"
     ]
    },
    {
     "data": {
      "text/html": [
       "<div>\n",
       "<style>\n",
       "    .dataframe thead tr:only-child th {\n",
       "        text-align: right;\n",
       "    }\n",
       "\n",
       "    .dataframe thead th {\n",
       "        text-align: left;\n",
       "    }\n",
       "\n",
       "    .dataframe tbody tr th {\n",
       "        vertical-align: top;\n",
       "    }\n",
       "</style>\n",
       "<table border=\"1\" class=\"dataframe\">\n",
       "  <thead>\n",
       "    <tr style=\"text-align: right;\">\n",
       "      <th></th>\n",
       "      <th>ID</th>\n",
       "      <th>Species</th>\n",
       "      <th>Country</th>\n",
       "      <th>Owner</th>\n",
       "      <th>Grade</th>\n",
       "      <th>ICP</th>\n",
       "      <th>Completed</th>\n",
       "    </tr>\n",
       "  </thead>\n",
       "  <tbody>\n",
       "    <tr>\n",
       "      <th>34</th>\n",
       "      <td>100409</td>\n",
       "      <td>Arabica</td>\n",
       "      <td>Mexico</td>\n",
       "      <td>ALFREDO BOJALIL</td>\n",
       "      <td>79.67</td>\n",
       "      <td>amecafe</td>\n",
       "      <td>June 4th, 2012</td>\n",
       "    </tr>\n",
       "    <tr>\n",
       "      <th>30</th>\n",
       "      <td>10044</td>\n",
       "      <td>Arabica</td>\n",
       "      <td>Nicaragua</td>\n",
       "      <td>Exportadora Atlantic, S.A.</td>\n",
       "      <td>80.17</td>\n",
       "      <td>acen</td>\n",
       "      <td>April 24th, 2015</td>\n",
       "    </tr>\n",
       "    <tr>\n",
       "      <th>26</th>\n",
       "      <td>102275</td>\n",
       "      <td>Arabica</td>\n",
       "      <td>Tanzania, United Republic Of</td>\n",
       "      <td>DAE Ltd Company</td>\n",
       "      <td>81.67</td>\n",
       "      <td>afca</td>\n",
       "      <td>January 2nd, 2015</td>\n",
       "    </tr>\n",
       "    <tr>\n",
       "      <th>20</th>\n",
       "      <td>103581</td>\n",
       "      <td>Arabica</td>\n",
       "      <td>Mexico</td>\n",
       "      <td>CHRISTINA DUSING</td>\n",
       "      <td>81.67</td>\n",
       "      <td>amecafe</td>\n",
       "      <td>July 27th, 2012</td>\n",
       "    </tr>\n",
       "    <tr>\n",
       "      <th>49</th>\n",
       "      <td>103804</td>\n",
       "      <td>Arabica</td>\n",
       "      <td>Taiwan</td>\n",
       "      <td>CQI Taiwan ICP CQI台灣合作夥伴</td>\n",
       "      <td>80.42</td>\n",
       "      <td>bvi</td>\n",
       "      <td>December 26th, 2013</td>\n",
       "    </tr>\n",
       "    <tr>\n",
       "      <th>6</th>\n",
       "      <td>105651</td>\n",
       "      <td>Arabica</td>\n",
       "      <td>Mexico</td>\n",
       "      <td>MIGUEL CORTES MORENO</td>\n",
       "      <td>80.33</td>\n",
       "      <td>amecafe</td>\n",
       "      <td>August 30th, 2012</td>\n",
       "    </tr>\n",
       "    <tr>\n",
       "      <th>4</th>\n",
       "      <td>107500</td>\n",
       "      <td>Arabica</td>\n",
       "      <td>Brazil</td>\n",
       "      <td>Ipanema Coffees</td>\n",
       "      <td>83.08</td>\n",
       "      <td>bsca</td>\n",
       "      <td>October 8th, 2015</td>\n",
       "    </tr>\n",
       "    <tr>\n",
       "      <th>37</th>\n",
       "      <td>107587</td>\n",
       "      <td>Arabica</td>\n",
       "      <td>Mexico</td>\n",
       "      <td>OBED RENDON PONCE</td>\n",
       "      <td>79.58</td>\n",
       "      <td>amecafe</td>\n",
       "      <td>September 17th, 2012</td>\n",
       "    </tr>\n",
       "    <tr>\n",
       "      <th>0</th>\n",
       "      <td>108866</td>\n",
       "      <td>Arabica</td>\n",
       "      <td>Honduras</td>\n",
       "      <td>Elsy Reyes</td>\n",
       "      <td>82.50</td>\n",
       "      <td>ihcafe</td>\n",
       "      <td>June 3rd, 2017</td>\n",
       "    </tr>\n",
       "    <tr>\n",
       "      <th>23</th>\n",
       "      <td>10892</td>\n",
       "      <td>Arabica</td>\n",
       "      <td>Mexico</td>\n",
       "      <td>ORGANIZACIONES DE PRODUCTORES DE CAFE COLIMENSE</td>\n",
       "      <td>81.00</td>\n",
       "      <td>amecafe</td>\n",
       "      <td>July 3rd, 2012</td>\n",
       "    </tr>\n",
       "  </tbody>\n",
       "</table>\n",
       "</div>"
      ],
      "text/plain": [
       "        ID  Species                       Country  \\\n",
       "34  100409  Arabica                        Mexico   \n",
       "30   10044  Arabica                     Nicaragua   \n",
       "26  102275  Arabica  Tanzania, United Republic Of   \n",
       "20  103581  Arabica                        Mexico   \n",
       "49  103804  Arabica                        Taiwan   \n",
       "6   105651  Arabica                        Mexico   \n",
       "4   107500  Arabica                        Brazil   \n",
       "37  107587  Arabica                        Mexico   \n",
       "0   108866  Arabica                      Honduras   \n",
       "23   10892  Arabica                        Mexico   \n",
       "\n",
       "                                              Owner  Grade      ICP  \\\n",
       "34                                  ALFREDO BOJALIL  79.67  amecafe   \n",
       "30                       Exportadora Atlantic, S.A.  80.17     acen   \n",
       "26                                  DAE Ltd Company  81.67     afca   \n",
       "20                                 CHRISTINA DUSING  81.67  amecafe   \n",
       "49                         CQI Taiwan ICP CQI台灣合作夥伴  80.42      bvi   \n",
       "6                              MIGUEL CORTES MORENO  80.33  amecafe   \n",
       "4                                   Ipanema Coffees  83.08     bsca   \n",
       "37                                OBED RENDON PONCE  79.58  amecafe   \n",
       "0                                        Elsy Reyes  82.50   ihcafe   \n",
       "23  ORGANIZACIONES DE PRODUCTORES DE CAFE COLIMENSE  81.00  amecafe   \n",
       "\n",
       "               Completed  \n",
       "34        June 4th, 2012  \n",
       "30      April 24th, 2015  \n",
       "26     January 2nd, 2015  \n",
       "20       July 27th, 2012  \n",
       "49   December 26th, 2013  \n",
       "6      August 30th, 2012  \n",
       "4      October 8th, 2015  \n",
       "37  September 17th, 2012  \n",
       "0         June 3rd, 2017  \n",
       "23        July 3rd, 2012  "
      ]
     },
     "execution_count": 459,
     "metadata": {},
     "output_type": "execute_result"
    }
   ],
   "source": [
    "driver.get('https://database.coffeeinstitute.org/coffees/arabica')\n",
    "all_coffee=pd.DataFrame()\n",
    "\n",
    "for page in range(1,28):\n",
    "    soup = BeautifulSoup(driver.page_source, 'html5lib')\n",
    "    time.sleep(3)\n",
    "    \n",
    "    one_list=soup.find('table', {'data-table':'coffees'})\n",
    "    time.sleep(3)    \n",
    "    \n",
    "    one_list = pd.read_html(driver.page_source)\n",
    "    time.sleep(3)\n",
    "    \n",
    "    one_list = pd.DataFrame(one_list[0])\n",
    "    one_list.drop(['Unnamed: 0'], axis = 1, inplace = True)\n",
    "    one_list['ID']=one_list['ID'].str.strip('#')\n",
    "    all_coffee=pd.concat([all_coffee, one_list], axis=0)\n",
    "    \n",
    "    next_button = driver.find_element_by_xpath(\"//a[contains(text(), 'Next')]\")\n",
    "    next_button.click()\n",
    "\n",
    "print(all_coffee.shape)\n",
    "all_coffee.sort_values(by=[\"ID\"], inplace=True)\n",
    "all_coffee[:10]"
   ]
  },
  {
   "cell_type": "code",
   "execution_count": 501,
   "metadata": {},
   "outputs": [
    {
     "data": {
      "text/html": [
       "<div>\n",
       "<style>\n",
       "    .dataframe thead tr:only-child th {\n",
       "        text-align: right;\n",
       "    }\n",
       "\n",
       "    .dataframe thead th {\n",
       "        text-align: left;\n",
       "    }\n",
       "\n",
       "    .dataframe tbody tr th {\n",
       "        vertical-align: top;\n",
       "    }\n",
       "</style>\n",
       "<table border=\"1\" class=\"dataframe\">\n",
       "  <thead>\n",
       "    <tr style=\"text-align: right;\">\n",
       "      <th></th>\n",
       "      <th>ID</th>\n",
       "      <th>Species</th>\n",
       "      <th>Country</th>\n",
       "      <th>Owner</th>\n",
       "      <th>Grade</th>\n",
       "      <th>ICP</th>\n",
       "      <th>Completed</th>\n",
       "    </tr>\n",
       "    <tr>\n",
       "      <th>ind</th>\n",
       "      <th></th>\n",
       "      <th></th>\n",
       "      <th></th>\n",
       "      <th></th>\n",
       "      <th></th>\n",
       "      <th></th>\n",
       "      <th></th>\n",
       "    </tr>\n",
       "  </thead>\n",
       "  <tbody>\n",
       "    <tr>\n",
       "      <th>0</th>\n",
       "      <td>100409</td>\n",
       "      <td>Arabica</td>\n",
       "      <td>Mexico</td>\n",
       "      <td>ALFREDO BOJALIL</td>\n",
       "      <td>79.67</td>\n",
       "      <td>amecafe</td>\n",
       "      <td>June 4th, 2012</td>\n",
       "    </tr>\n",
       "    <tr>\n",
       "      <th>1</th>\n",
       "      <td>10044</td>\n",
       "      <td>Arabica</td>\n",
       "      <td>Nicaragua</td>\n",
       "      <td>Exportadora Atlantic, S.A.</td>\n",
       "      <td>80.17</td>\n",
       "      <td>acen</td>\n",
       "      <td>April 24th, 2015</td>\n",
       "    </tr>\n",
       "    <tr>\n",
       "      <th>2</th>\n",
       "      <td>102275</td>\n",
       "      <td>Arabica</td>\n",
       "      <td>Tanzania, United Republic Of</td>\n",
       "      <td>DAE Ltd Company</td>\n",
       "      <td>81.67</td>\n",
       "      <td>afca</td>\n",
       "      <td>January 2nd, 2015</td>\n",
       "    </tr>\n",
       "    <tr>\n",
       "      <th>3</th>\n",
       "      <td>103581</td>\n",
       "      <td>Arabica</td>\n",
       "      <td>Mexico</td>\n",
       "      <td>CHRISTINA DUSING</td>\n",
       "      <td>81.67</td>\n",
       "      <td>amecafe</td>\n",
       "      <td>July 27th, 2012</td>\n",
       "    </tr>\n",
       "    <tr>\n",
       "      <th>4</th>\n",
       "      <td>103804</td>\n",
       "      <td>Arabica</td>\n",
       "      <td>Taiwan</td>\n",
       "      <td>CQI Taiwan ICP CQI台灣合作夥伴</td>\n",
       "      <td>80.42</td>\n",
       "      <td>bvi</td>\n",
       "      <td>December 26th, 2013</td>\n",
       "    </tr>\n",
       "  </tbody>\n",
       "</table>\n",
       "</div>"
      ],
      "text/plain": [
       "         ID  Species                       Country  \\\n",
       "ind                                                  \n",
       "0    100409  Arabica                        Mexico   \n",
       "1     10044  Arabica                     Nicaragua   \n",
       "2    102275  Arabica  Tanzania, United Republic Of   \n",
       "3    103581  Arabica                        Mexico   \n",
       "4    103804  Arabica                        Taiwan   \n",
       "\n",
       "                          Owner  Grade      ICP            Completed  \n",
       "ind                                                                   \n",
       "0               ALFREDO BOJALIL  79.67  amecafe       June 4th, 2012  \n",
       "1    Exportadora Atlantic, S.A.  80.17     acen     April 24th, 2015  \n",
       "2               DAE Ltd Company  81.67     afca    January 2nd, 2015  \n",
       "3              CHRISTINA DUSING  81.67  amecafe      July 27th, 2012  \n",
       "4      CQI Taiwan ICP CQI台灣合作夥伴  80.42      bvi  December 26th, 2013  "
      ]
     },
     "execution_count": 501,
     "metadata": {},
     "output_type": "execute_result"
    }
   ],
   "source": [
    "# Resets the index\n",
    "ind=range(len(all_coffee))\n",
    "all_coffee['ind']=ind\n",
    "all_coffee.set_index(['ind'], inplace=True)\n",
    "all_coffee.sort_index(inplace=True)\n",
    "all_coffee.head()"
   ]
  },
  {
   "cell_type": "markdown",
   "metadata": {},
   "source": [
    "__Pickle this data__"
   ]
  },
  {
   "cell_type": "code",
   "execution_count": 460,
   "metadata": {},
   "outputs": [
    {
     "name": "stdout",
     "output_type": "stream",
     "text": [
      "/Users/bellepeng/Desktop/Metis/Work/Projects\r\n"
     ]
    }
   ],
   "source": [
    "# os.chdir('/Users/bellepeng/Desktop/Metis/Work/Projects/')\n",
    "!pwd"
   ]
  },
  {
   "cell_type": "code",
   "execution_count": 502,
   "metadata": {
    "collapsed": true
   },
   "outputs": [],
   "source": [
    "with open('all_coffee.pkl', 'wb') as picklefile:\n",
    "    pickle.dump(all_coffee, picklefile)"
   ]
  },
  {
   "cell_type": "code",
   "execution_count": 504,
   "metadata": {},
   "outputs": [
    {
     "data": {
      "text/html": [
       "<div>\n",
       "<style>\n",
       "    .dataframe thead tr:only-child th {\n",
       "        text-align: right;\n",
       "    }\n",
       "\n",
       "    .dataframe thead th {\n",
       "        text-align: left;\n",
       "    }\n",
       "\n",
       "    .dataframe tbody tr th {\n",
       "        vertical-align: top;\n",
       "    }\n",
       "</style>\n",
       "<table border=\"1\" class=\"dataframe\">\n",
       "  <thead>\n",
       "    <tr style=\"text-align: right;\">\n",
       "      <th></th>\n",
       "      <th>ID</th>\n",
       "      <th>Species</th>\n",
       "      <th>Country</th>\n",
       "      <th>Owner</th>\n",
       "      <th>Grade</th>\n",
       "      <th>ICP</th>\n",
       "      <th>Completed</th>\n",
       "    </tr>\n",
       "    <tr>\n",
       "      <th>ind</th>\n",
       "      <th></th>\n",
       "      <th></th>\n",
       "      <th></th>\n",
       "      <th></th>\n",
       "      <th></th>\n",
       "      <th></th>\n",
       "      <th></th>\n",
       "    </tr>\n",
       "  </thead>\n",
       "  <tbody>\n",
       "    <tr>\n",
       "      <th>0</th>\n",
       "      <td>100409</td>\n",
       "      <td>Arabica</td>\n",
       "      <td>Mexico</td>\n",
       "      <td>ALFREDO BOJALIL</td>\n",
       "      <td>79.67</td>\n",
       "      <td>amecafe</td>\n",
       "      <td>June 4th, 2012</td>\n",
       "    </tr>\n",
       "    <tr>\n",
       "      <th>1</th>\n",
       "      <td>10044</td>\n",
       "      <td>Arabica</td>\n",
       "      <td>Nicaragua</td>\n",
       "      <td>Exportadora Atlantic, S.A.</td>\n",
       "      <td>80.17</td>\n",
       "      <td>acen</td>\n",
       "      <td>April 24th, 2015</td>\n",
       "    </tr>\n",
       "    <tr>\n",
       "      <th>2</th>\n",
       "      <td>102275</td>\n",
       "      <td>Arabica</td>\n",
       "      <td>Tanzania, United Republic Of</td>\n",
       "      <td>DAE Ltd Company</td>\n",
       "      <td>81.67</td>\n",
       "      <td>afca</td>\n",
       "      <td>January 2nd, 2015</td>\n",
       "    </tr>\n",
       "    <tr>\n",
       "      <th>3</th>\n",
       "      <td>103581</td>\n",
       "      <td>Arabica</td>\n",
       "      <td>Mexico</td>\n",
       "      <td>CHRISTINA DUSING</td>\n",
       "      <td>81.67</td>\n",
       "      <td>amecafe</td>\n",
       "      <td>July 27th, 2012</td>\n",
       "    </tr>\n",
       "    <tr>\n",
       "      <th>4</th>\n",
       "      <td>103804</td>\n",
       "      <td>Arabica</td>\n",
       "      <td>Taiwan</td>\n",
       "      <td>CQI Taiwan ICP CQI台灣合作夥伴</td>\n",
       "      <td>80.42</td>\n",
       "      <td>bvi</td>\n",
       "      <td>December 26th, 2013</td>\n",
       "    </tr>\n",
       "  </tbody>\n",
       "</table>\n",
       "</div>"
      ],
      "text/plain": [
       "         ID  Species                       Country  \\\n",
       "ind                                                  \n",
       "0    100409  Arabica                        Mexico   \n",
       "1     10044  Arabica                     Nicaragua   \n",
       "2    102275  Arabica  Tanzania, United Republic Of   \n",
       "3    103581  Arabica                        Mexico   \n",
       "4    103804  Arabica                        Taiwan   \n",
       "\n",
       "                          Owner  Grade      ICP            Completed  \n",
       "ind                                                                   \n",
       "0               ALFREDO BOJALIL  79.67  amecafe       June 4th, 2012  \n",
       "1    Exportadora Atlantic, S.A.  80.17     acen     April 24th, 2015  \n",
       "2               DAE Ltd Company  81.67     afca    January 2nd, 2015  \n",
       "3              CHRISTINA DUSING  81.67  amecafe      July 27th, 2012  \n",
       "4      CQI Taiwan ICP CQI台灣合作夥伴  80.42      bvi  December 26th, 2013  "
      ]
     },
     "execution_count": 504,
     "metadata": {},
     "output_type": "execute_result"
    }
   ],
   "source": [
    "with open(\"all_coffee.pkl\", 'rb') as picklefile: \n",
    "    all_coffee = pickle.load(picklefile)\n",
    "\n",
    "all_coffee.head()"
   ]
  },
  {
   "cell_type": "markdown",
   "metadata": {},
   "source": [
    "### Grab the next level of pages by looping over the list of `all_coffee`"
   ]
  },
  {
   "cell_type": "code",
   "execution_count": 508,
   "metadata": {
    "collapsed": true
   },
   "outputs": [],
   "source": [
    "def get_one_coffee(i, one_coffee):\n",
    "    # Table 1 - Total Score\n",
    "    d = {'ID': [all_coffee['ID'][i]], 'Total_Score': [float(one_coffee[0][0][0])]}\n",
    "    Total_Score = pd.DataFrame(data=d)\n",
    "    Total_Score\n",
    "    \n",
    "    # Table 2 - Info\n",
    "    info1=one_coffee[1][[0, 1]]\n",
    "    info2=one_coffee[1][[2, 3]]\n",
    "    info2.rename(columns={2:0, 3:1}, inplace=True)\n",
    "    info0=pd.concat([info1, info2],  axis=0)\n",
    "    info=info0.set_index(0).T\n",
    "    info['ID']=all_coffee['ID'][i]\n",
    "\n",
    "    # Table 3 - Cupping\n",
    "    cupping1=one_coffee[2][[0, 1]]\n",
    "    cupping2=one_coffee[2][[2, 3]]\n",
    "    cupping2.rename(columns={2:0, 3:1}, inplace=True)\n",
    "    cupping0=pd.concat([cupping1, cupping2],  axis=0)\n",
    "    cupping0=cupping0.loc[cupping0[0] .isin([\"Acidity\", \"Sweetness\"])]\n",
    "    cupping=cupping0.set_index(0).T\n",
    "    cupping['ID']=all_coffee['ID'][i]\n",
    "    \n",
    "    # Table 4 - Green\n",
    "    green1=one_coffee[3][[0, 1]]\n",
    "    green2=one_coffee[3][[2, 3]]\n",
    "    green2.rename(columns={2:0, 3:1}, inplace=True)\n",
    "    green0=pd.concat([green1, green2],  axis=0).set_index(0)\n",
    "    green0.drop([None], inplace=True)\n",
    "    green=green0.T\n",
    "    green['ID']=all_coffee['ID'][i]\n",
    "    \n",
    "    merge1=pd.merge(Total_Score, info, how=\"outer\", on=\"ID\")\n",
    "    merge2=pd.merge(merge1, cupping, how=\"outer\", on=\"ID\")\n",
    "    merge3=pd.merge(merge2, green, how=\"outer\", on=\"ID\")\n",
    "    return merge3"
   ]
  },
  {
   "cell_type": "code",
   "execution_count": 510,
   "metadata": {},
   "outputs": [
    {
     "data": {
      "text/plain": [
       "1350"
      ]
     },
     "execution_count": 510,
     "metadata": {},
     "output_type": "execute_result"
    }
   ],
   "source": [
    "len(all_coffee)"
   ]
  },
  {
   "cell_type": "code",
   "execution_count": 515,
   "metadata": {
    "scrolled": true
   },
   "outputs": [
    {
     "name": "stderr",
     "output_type": "stream",
     "text": [
      "/Library/Frameworks/Python.framework/Versions/3.6/lib/python3.6/site-packages/pandas/core/frame.py:2746: SettingWithCopyWarning: \n",
      "A value is trying to be set on a copy of a slice from a DataFrame\n",
      "\n",
      "See the caveats in the documentation: http://pandas.pydata.org/pandas-docs/stable/indexing.html#indexing-view-versus-copy\n",
      "  **kwargs)\n"
     ]
    }
   ],
   "source": [
    "coffee_master=pd.DataFrame()\n",
    "\n",
    "for i in range(50):\n",
    "    # Get the soup for one coffee\n",
    "    url='https://database.coffeeinstitute.org/coffee/'+all_coffee['ID'][i]\n",
    "    driver.get(url)\n",
    "    time.sleep(2)\n",
    "    soup = BeautifulSoup(driver.page_source, 'html5lib')\n",
    "    one_coffee=pd.read_html(driver.page_source)\n",
    "    \n",
    "    # parse the data\n",
    "    coffee1=get_one_coffee(i, one_coffee)\n",
    "    \n",
    "    # Add to master dataframe\n",
    "    coffee_master=pd.concat([coffee_master, coffee1], axis=0)"
   ]
  },
  {
   "cell_type": "code",
   "execution_count": null,
   "metadata": {
    "collapsed": true
   },
   "outputs": [],
   "source": [
    "print(coffee_master.shape)\n",
    "coffee_master.sort_values(by=[\"ID\"], inplace=True)\n",
    "coffee_master[:10]"
   ]
  },
  {
   "cell_type": "code",
   "execution_count": null,
   "metadata": {
    "collapsed": true
   },
   "outputs": [],
   "source": [
    "with open('coffee_master.pkl', 'wb') as picklefile:\n",
    "    pickle.dump(coffee_master, picklefile)"
   ]
  },
  {
   "cell_type": "code",
   "execution_count": null,
   "metadata": {
    "collapsed": true
   },
   "outputs": [],
   "source": [
    "with open(\"coffee_master.pkl\", 'rb') as picklefile: \n",
    "    coffee_master = pickle.load(picklefile)\n",
    "\n",
    "coffee_master.head()"
   ]
  },
  {
   "cell_type": "markdown",
   "metadata": {},
   "source": [
    "__Testing 1 page : Delete if above code is working__"
   ]
  },
  {
   "cell_type": "code",
   "execution_count": 363,
   "metadata": {},
   "outputs": [
    {
     "data": {
      "text/plain": [
       "5"
      ]
     },
     "execution_count": 363,
     "metadata": {},
     "output_type": "execute_result"
    }
   ],
   "source": [
    "driver.get('https://database.coffeeinstitute.org/coffee/512197')\n",
    "soup = BeautifulSoup(driver.page_source, 'html5lib')\n",
    "time.sleep(1)\n",
    "one_coffee=pd.read_html(driver.page_source)\n",
    "len(one_coffee)"
   ]
  },
  {
   "cell_type": "code",
   "execution_count": 346,
   "metadata": {},
   "outputs": [
    {
     "data": {
      "text/html": [
       "<div>\n",
       "<style>\n",
       "    .dataframe thead tr:only-child th {\n",
       "        text-align: right;\n",
       "    }\n",
       "\n",
       "    .dataframe thead th {\n",
       "        text-align: left;\n",
       "    }\n",
       "\n",
       "    .dataframe tbody tr th {\n",
       "        vertical-align: top;\n",
       "    }\n",
       "</style>\n",
       "<table border=\"1\" class=\"dataframe\">\n",
       "  <thead>\n",
       "    <tr style=\"text-align: right;\">\n",
       "      <th></th>\n",
       "      <th>ID</th>\n",
       "      <th>Total_Score</th>\n",
       "    </tr>\n",
       "  </thead>\n",
       "  <tbody>\n",
       "    <tr>\n",
       "      <th>0</th>\n",
       "      <td>512197</td>\n",
       "      <td>90.58</td>\n",
       "    </tr>\n",
       "  </tbody>\n",
       "</table>\n",
       "</div>"
      ],
      "text/plain": [
       "       ID  Total_Score\n",
       "0  512197        90.58"
      ]
     },
     "execution_count": 346,
     "metadata": {},
     "output_type": "execute_result"
    }
   ],
   "source": [
    "# Table 1 - I only want the total score\n",
    "d = {'ID': [all_coffee['ID'][0]], 'Total_Score': [float(one_coffee[0][0][0])]}\n",
    "Total_Score = pd.DataFrame(data=d)\n",
    "Total_Score"
   ]
  },
  {
   "cell_type": "code",
   "execution_count": 337,
   "metadata": {},
   "outputs": [
    {
     "name": "stderr",
     "output_type": "stream",
     "text": [
      "/Library/Frameworks/Python.framework/Versions/3.6/lib/python3.6/site-packages/pandas/core/frame.py:2746: SettingWithCopyWarning: \n",
      "A value is trying to be set on a copy of a slice from a DataFrame\n",
      "\n",
      "See the caveats in the documentation: http://pandas.pydata.org/pandas-docs/stable/indexing.html#indexing-view-versus-copy\n",
      "  **kwargs)\n"
     ]
    },
    {
     "data": {
      "text/html": [
       "<div>\n",
       "<style>\n",
       "    .dataframe thead tr:only-child th {\n",
       "        text-align: right;\n",
       "    }\n",
       "\n",
       "    .dataframe thead th {\n",
       "        text-align: left;\n",
       "    }\n",
       "\n",
       "    .dataframe tbody tr th {\n",
       "        vertical-align: top;\n",
       "    }\n",
       "</style>\n",
       "<table border=\"1\" class=\"dataframe\">\n",
       "  <thead>\n",
       "    <tr style=\"text-align: right;\">\n",
       "      <th></th>\n",
       "      <th>Country of Origin</th>\n",
       "      <th>Farm Name</th>\n",
       "      <th>Lot Number</th>\n",
       "      <th>Mill</th>\n",
       "      <th>ICO Number</th>\n",
       "      <th>Company</th>\n",
       "      <th>Altitude</th>\n",
       "      <th>Region</th>\n",
       "      <th>Producer</th>\n",
       "      <th>Number of Bags</th>\n",
       "      <th>Bag Weight</th>\n",
       "      <th>In-Country Partner</th>\n",
       "      <th>Harvest Year</th>\n",
       "      <th>Grading Date</th>\n",
       "      <th>Owner</th>\n",
       "      <th>Variety</th>\n",
       "      <th>Status</th>\n",
       "      <th>Processing Method</th>\n",
       "      <th>ID</th>\n",
       "    </tr>\n",
       "  </thead>\n",
       "  <tbody>\n",
       "    <tr>\n",
       "      <th>1</th>\n",
       "      <td>Ethiopia</td>\n",
       "      <td>METAD PLC</td>\n",
       "      <td>NaN</td>\n",
       "      <td>METAD PLC</td>\n",
       "      <td>2014/2015</td>\n",
       "      <td>METAD Agricultural Developmet plc</td>\n",
       "      <td>1950-2200</td>\n",
       "      <td>GUJI-HAMBELA/GOYO</td>\n",
       "      <td>METAD PLC</td>\n",
       "      <td>300</td>\n",
       "      <td>60 kg</td>\n",
       "      <td>METAD Agricultural Development plc</td>\n",
       "      <td>2014</td>\n",
       "      <td>April 4th, 2015</td>\n",
       "      <td>metad plc</td>\n",
       "      <td>NaN</td>\n",
       "      <td>Completed</td>\n",
       "      <td>Washed / Wet</td>\n",
       "      <td>512197</td>\n",
       "    </tr>\n",
       "  </tbody>\n",
       "</table>\n",
       "</div>"
      ],
      "text/plain": [
       "0 Country of Origin  Farm Name Lot Number       Mill ICO Number  \\\n",
       "1          Ethiopia  METAD PLC        NaN  METAD PLC  2014/2015   \n",
       "\n",
       "0                            Company   Altitude             Region   Producer  \\\n",
       "1  METAD Agricultural Developmet plc  1950-2200  GUJI-HAMBELA/GOYO  METAD PLC   \n",
       "\n",
       "0 Number of Bags Bag Weight                  In-Country Partner Harvest Year  \\\n",
       "1            300      60 kg  METAD Agricultural Development plc         2014   \n",
       "\n",
       "0     Grading Date      Owner Variety     Status Processing Method      ID  \n",
       "1  April 4th, 2015  metad plc     NaN  Completed      Washed / Wet  512197  "
      ]
     },
     "execution_count": 337,
     "metadata": {},
     "output_type": "execute_result"
    }
   ],
   "source": [
    "# Table 2\n",
    "info1=one_coffee[1][[0, 1]]\n",
    "info2=one_coffee[1][[2, 3]]\n",
    "info2.rename(columns={2:0, 3:1}, inplace=True)\n",
    "info0=pd.concat([info1, info2],  axis=0)\n",
    "info=info0.set_index(0).T\n",
    "info['ID']=all_coffee['ID'][0]\n",
    "# info.set_index('ID', inplace=True)\n",
    "info"
   ]
  },
  {
   "cell_type": "code",
   "execution_count": 338,
   "metadata": {},
   "outputs": [
    {
     "name": "stderr",
     "output_type": "stream",
     "text": [
      "/Library/Frameworks/Python.framework/Versions/3.6/lib/python3.6/site-packages/pandas/core/frame.py:2746: SettingWithCopyWarning: \n",
      "A value is trying to be set on a copy of a slice from a DataFrame\n",
      "\n",
      "See the caveats in the documentation: http://pandas.pydata.org/pandas-docs/stable/indexing.html#indexing-view-versus-copy\n",
      "  **kwargs)\n"
     ]
    },
    {
     "data": {
      "text/html": [
       "<div>\n",
       "<style>\n",
       "    .dataframe thead tr:only-child th {\n",
       "        text-align: right;\n",
       "    }\n",
       "\n",
       "    .dataframe thead th {\n",
       "        text-align: left;\n",
       "    }\n",
       "\n",
       "    .dataframe tbody tr th {\n",
       "        vertical-align: top;\n",
       "    }\n",
       "</style>\n",
       "<table border=\"1\" class=\"dataframe\">\n",
       "  <thead>\n",
       "    <tr style=\"text-align: right;\">\n",
       "      <th></th>\n",
       "      <th>Acidity</th>\n",
       "      <th>Sweetness</th>\n",
       "      <th>ID</th>\n",
       "    </tr>\n",
       "  </thead>\n",
       "  <tbody>\n",
       "    <tr>\n",
       "      <th>1</th>\n",
       "      <td>8.75</td>\n",
       "      <td>10.00</td>\n",
       "      <td>512197</td>\n",
       "    </tr>\n",
       "  </tbody>\n",
       "</table>\n",
       "</div>"
      ],
      "text/plain": [
       "0 Acidity Sweetness      ID\n",
       "1    8.75     10.00  512197"
      ]
     },
     "execution_count": 338,
     "metadata": {},
     "output_type": "execute_result"
    }
   ],
   "source": [
    "# Table 3\n",
    "cupping1=one_coffee[2][[0, 1]]\n",
    "cupping2=one_coffee[2][[2, 3]]\n",
    "cupping2.rename(columns={2:0, 3:1}, inplace=True)\n",
    "cupping0=pd.concat([cupping1, cupping2],  axis=0)\n",
    "cupping0\n",
    "cupping0=cupping0.loc[cupping0[0] .isin([\"Acidity\", \"Sweetness\"])]\n",
    "cupping=cupping0.set_index(0).T\n",
    "cupping['ID']=all_coffee['ID'][0]\n",
    "# cupping.set_index('ID', inplace=True)\n",
    "cupping"
   ]
  },
  {
   "cell_type": "code",
   "execution_count": 339,
   "metadata": {},
   "outputs": [
    {
     "name": "stderr",
     "output_type": "stream",
     "text": [
      "/Library/Frameworks/Python.framework/Versions/3.6/lib/python3.6/site-packages/pandas/core/frame.py:2746: SettingWithCopyWarning: \n",
      "A value is trying to be set on a copy of a slice from a DataFrame\n",
      "\n",
      "See the caveats in the documentation: http://pandas.pydata.org/pandas-docs/stable/indexing.html#indexing-view-versus-copy\n",
      "  **kwargs)\n"
     ]
    },
    {
     "data": {
      "text/html": [
       "<div>\n",
       "<style>\n",
       "    .dataframe thead tr:only-child th {\n",
       "        text-align: right;\n",
       "    }\n",
       "\n",
       "    .dataframe thead th {\n",
       "        text-align: left;\n",
       "    }\n",
       "\n",
       "    .dataframe tbody tr th {\n",
       "        vertical-align: top;\n",
       "    }\n",
       "</style>\n",
       "<table border=\"1\" class=\"dataframe\">\n",
       "  <thead>\n",
       "    <tr style=\"text-align: right;\">\n",
       "      <th></th>\n",
       "      <th>Moisture</th>\n",
       "      <th>Category One Defects</th>\n",
       "      <th>Quakers</th>\n",
       "      <th>Color</th>\n",
       "      <th>Category Two Defects</th>\n",
       "      <th>ID</th>\n",
       "    </tr>\n",
       "  </thead>\n",
       "  <tbody>\n",
       "    <tr>\n",
       "      <th>1</th>\n",
       "      <td>12 %</td>\n",
       "      <td>0 full defects</td>\n",
       "      <td>0</td>\n",
       "      <td>Green</td>\n",
       "      <td>0 full defects</td>\n",
       "      <td>512197</td>\n",
       "    </tr>\n",
       "  </tbody>\n",
       "</table>\n",
       "</div>"
      ],
      "text/plain": [
       "0 Moisture Category One Defects Quakers  Color Category Two Defects      ID\n",
       "1     12 %       0 full defects       0  Green       0 full defects  512197"
      ]
     },
     "execution_count": 339,
     "metadata": {},
     "output_type": "execute_result"
    }
   ],
   "source": [
    "# Table 4\n",
    "green1=one_coffee[3][[0, 1]]\n",
    "green2=one_coffee[3][[2, 3]]\n",
    "green2.rename(columns={2:0, 3:1}, inplace=True)\n",
    "green0=pd.concat([green1, green2],  axis=0).set_index(0)\n",
    "green0.drop([None], inplace=True)\n",
    "green=green0.T\n",
    "green['ID']=all_coffee['ID'][0]\n",
    "# green.set_index('ID', inplace=True)\n",
    "green"
   ]
  },
  {
   "cell_type": "code",
   "execution_count": 351,
   "metadata": {},
   "outputs": [
    {
     "data": {
      "text/html": [
       "<div>\n",
       "<style>\n",
       "    .dataframe thead tr:only-child th {\n",
       "        text-align: right;\n",
       "    }\n",
       "\n",
       "    .dataframe thead th {\n",
       "        text-align: left;\n",
       "    }\n",
       "\n",
       "    .dataframe tbody tr th {\n",
       "        vertical-align: top;\n",
       "    }\n",
       "</style>\n",
       "<table border=\"1\" class=\"dataframe\">\n",
       "  <thead>\n",
       "    <tr style=\"text-align: right;\">\n",
       "      <th></th>\n",
       "      <th>ID</th>\n",
       "      <th>Total_Score</th>\n",
       "      <th>Country of Origin</th>\n",
       "      <th>Farm Name</th>\n",
       "      <th>Lot Number</th>\n",
       "      <th>Mill</th>\n",
       "      <th>ICO Number</th>\n",
       "      <th>Company</th>\n",
       "      <th>Altitude</th>\n",
       "      <th>Region</th>\n",
       "      <th>...</th>\n",
       "      <th>Variety</th>\n",
       "      <th>Status</th>\n",
       "      <th>Processing Method</th>\n",
       "      <th>Acidity</th>\n",
       "      <th>Sweetness</th>\n",
       "      <th>Moisture</th>\n",
       "      <th>Category One Defects</th>\n",
       "      <th>Quakers</th>\n",
       "      <th>Color</th>\n",
       "      <th>Category Two Defects</th>\n",
       "    </tr>\n",
       "  </thead>\n",
       "  <tbody>\n",
       "    <tr>\n",
       "      <th>0</th>\n",
       "      <td>512197</td>\n",
       "      <td>90.58</td>\n",
       "      <td>Ethiopia</td>\n",
       "      <td>METAD PLC</td>\n",
       "      <td>NaN</td>\n",
       "      <td>METAD PLC</td>\n",
       "      <td>2014/2015</td>\n",
       "      <td>METAD Agricultural Developmet plc</td>\n",
       "      <td>1950-2200</td>\n",
       "      <td>GUJI-HAMBELA/GOYO</td>\n",
       "      <td>...</td>\n",
       "      <td>NaN</td>\n",
       "      <td>Completed</td>\n",
       "      <td>Washed / Wet</td>\n",
       "      <td>8.75</td>\n",
       "      <td>10.00</td>\n",
       "      <td>12 %</td>\n",
       "      <td>0 full defects</td>\n",
       "      <td>0</td>\n",
       "      <td>Green</td>\n",
       "      <td>0 full defects</td>\n",
       "    </tr>\n",
       "  </tbody>\n",
       "</table>\n",
       "<p>1 rows × 27 columns</p>\n",
       "</div>"
      ],
      "text/plain": [
       "       ID  Total_Score Country of Origin  Farm Name Lot Number       Mill  \\\n",
       "0  512197        90.58          Ethiopia  METAD PLC        NaN  METAD PLC   \n",
       "\n",
       "  ICO Number                            Company   Altitude             Region  \\\n",
       "0  2014/2015  METAD Agricultural Developmet plc  1950-2200  GUJI-HAMBELA/GOYO   \n",
       "\n",
       "          ...          Variety     Status Processing Method Acidity Sweetness  \\\n",
       "0         ...              NaN  Completed      Washed / Wet    8.75     10.00   \n",
       "\n",
       "  Moisture Category One Defects Quakers  Color Category Two Defects  \n",
       "0     12 %       0 full defects       0  Green       0 full defects  \n",
       "\n",
       "[1 rows x 27 columns]"
      ]
     },
     "execution_count": 351,
     "metadata": {},
     "output_type": "execute_result"
    }
   ],
   "source": [
    "# Put everything together\n",
    "# Total_Score\n",
    "# info\n",
    "# cupping\n",
    "# green\n",
    "merge1=pd.merge(Total_Score, info, how=\"outer\", on=\"ID\")\n",
    "merge2=pd.merge(merge1, cupping, how=\"outer\", on=\"ID\")\n",
    "merge3=pd.merge(merge2, green, how=\"outer\", on=\"ID\")\n",
    "merge3"
   ]
  },
  {
   "cell_type": "code",
   "execution_count": 382,
   "metadata": {},
   "outputs": [
    {
     "name": "stdout",
     "output_type": "stream",
     "text": [
      "don't do that!\n"
     ]
    }
   ],
   "source": [
    "try: \n",
    "    x=1+'cat'\n",
    "except(TypeError,ConnectionResetError):\n",
    "    print('don\\'t do that!')"
   ]
  }
 ],
 "metadata": {
  "kernelspec": {
   "display_name": "Python 3",
   "language": "python",
   "name": "python3"
  },
  "language_info": {
   "codemirror_mode": {
    "name": "ipython",
    "version": 3
   },
   "file_extension": ".py",
   "mimetype": "text/x-python",
   "name": "python",
   "nbconvert_exporter": "python",
   "pygments_lexer": "ipython3",
   "version": "3.6.0"
  }
 },
 "nbformat": 4,
 "nbformat_minor": 2
}
