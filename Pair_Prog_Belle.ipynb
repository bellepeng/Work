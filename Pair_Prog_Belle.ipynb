{
 "cells": [
  {
   "cell_type": "markdown",
   "metadata": {},
   "source": [
    "### Project Euler"
   ]
  },
  {
   "cell_type": "markdown",
   "metadata": {},
   "source": [
    "### Test Function"
   ]
  },
  {
   "cell_type": "code",
   "execution_count": 87,
   "metadata": {
    "collapsed": true
   },
   "outputs": [],
   "source": [
    "def max_product(number_string,adjacent_digits):\n",
    "    list_prod=[]\n",
    "    for i in range(0,988):\n",
    "        number_str=list(number_string)\n",
    "        prod = int(number_str[i]) * int(number_str[i+1]) * int(number_str[i+2]) * int(number_str[i+3]) \\\n",
    "        * int(number_str[i+4]) * int(number_str[i+5]) * int(number_str[i+6]) * int(number_str[i+7]) \\\n",
    "        * int(number_str[i+8]) \\\n",
    "        * int(number_str[i+9]) * int(number_str[i+10]) * int(number_str[i+11]) * int(number_str[i+12]) \n",
    "        list_prod.append(prod)\n",
    "\n",
    "    return max(list_prod)"
   ]
  },
  {
   "cell_type": "code",
   "execution_count": 88,
   "metadata": {},
   "outputs": [
    {
     "data": {
      "text/plain": [
       "23514624000"
      ]
     },
     "execution_count": 88,
     "metadata": {},
     "output_type": "execute_result"
    }
   ],
   "source": [
    "max_product(number, 13) #23514624000"
   ]
  },
  {
   "cell_type": "markdown",
   "metadata": {},
   "source": [
    "### Refined Version"
   ]
  },
  {
   "cell_type": "code",
   "execution_count": 19,
   "metadata": {
    "collapsed": true
   },
   "outputs": [],
   "source": [
    "number=\"7316717653133062491922511967442657474235534919493496983520312774506326239578318016984801869478851843858615607891129494954595017379583319528532088055111254069874715852386305071569329096329522744304355766896648950445244523161731856403098711121722383113622298934233803081353362766142828064444866452387493035890729629049156044077239071381051585930796086670172427121883998797908792274921901699720888093776657273330010533678812202354218097512545405947522435258490771167055601360483958644670632441572215539753697817977846174064955149290862569321978468622482839722413756570560574902614079729686524145351004748216637048440319989000889524345065854122758866688116427171479924442928230863465674813919123162824586178664583591245665294765456828489128831426076900422421902267105562632111110937054421750694165896040807198403850962455444362981230987879927244284909188845801561660979191338754992005240636899125607176060588611646710940507754100225698315520005593572972571636269561882670428252483600823257530420752963450\""
   ]
  },
  {
   "cell_type": "code",
   "execution_count": 97,
   "metadata": {
    "collapsed": true
   },
   "outputs": [],
   "source": [
    "def max_product(number_string, adjacent_digits):\n",
    "    list_prod=[]\n",
    "    for i in range(0, len(number_string)-adjacent_digits):\n",
    "        number_str=list(number_string)\n",
    "        prod=1\n",
    "        for j in range(i, i+adjacent_digits):\n",
    "            prod*=int(number_str[j])\n",
    "            list_prod.append(prod)\n",
    "\n",
    "    return max(list_prod)"
   ]
  },
  {
   "cell_type": "code",
   "execution_count": 98,
   "metadata": {},
   "outputs": [
    {
     "data": {
      "text/plain": [
       "23514624000"
      ]
     },
     "execution_count": 98,
     "metadata": {},
     "output_type": "execute_result"
    }
   ],
   "source": [
    "max_product(number, 13) #23514624000"
   ]
  },
  {
   "cell_type": "markdown",
   "metadata": {},
   "source": [
    "### Linear Algebra"
   ]
  },
  {
   "cell_type": "code",
   "execution_count": 37,
   "metadata": {
    "collapsed": true
   },
   "outputs": [],
   "source": [
    "import numpy as np\n",
    "def solve_for_w1(X, y):\n",
    "    w = np.linalg.lstsq(X, y)\n",
    "    return w\n",
    "\n",
    "X = np.asmatrix([[5,3,7], [2,4,1]])\n",
    "y = np.array([537, 241])\n",
    "w = np.asmatrix(solve_for_w1(X, y)[0])\n",
    "print(w)\n",
    "np.dot(X, np.transpose(w))"
   ]
  },
  {
   "cell_type": "code",
   "execution_count": 38,
   "metadata": {},
   "outputs": [
    {
     "name": "stdout",
     "output_type": "stream",
     "text": [
      "[[ 33.59201774  33.90687361  38.18847007]]\n",
      "[[ 33.59201774  33.90687361  38.18847007]]\n"
     ]
    },
    {
     "data": {
      "text/plain": [
       "matrix([[ 537.],\n",
       "        [ 241.]])"
      ]
     },
     "execution_count": 38,
     "metadata": {},
     "output_type": "execute_result"
    }
   ],
   "source": [
    "def solve_for_w2(X, y):\n",
    "    pinvx = np.linalg.pinv(X)\n",
    "    w = np.dot(pinvx, y)\n",
    "    return w\n",
    "\n",
    "v = solve_for_w2(X, y)\n",
    "print(w)\n",
    "np.dot(X, np.transpose(w))"
   ]
  },
  {
   "cell_type": "markdown",
   "metadata": {
    "collapsed": true
   },
   "source": [
    "#### Finding Minimum"
   ]
  },
  {
   "cell_type": "code",
   "execution_count": 40,
   "metadata": {
    "collapsed": true
   },
   "outputs": [],
   "source": [
    "import pandas as pd\n",
    "import numpy as np\n",
    "import matplotlib as plt\n",
    "%matplotlib inline\n",
    "plt.style.use('ggplot')"
   ]
  },
  {
   "cell_type": "code",
   "execution_count": 94,
   "metadata": {},
   "outputs": [
    {
     "name": "stdout",
     "output_type": "stream",
     "text": [
      "Minimum: 54.0\n",
      "At Candidate: [ 5.]\n"
     ]
    }
   ],
   "source": [
    "# Vectorize Solution from Damien\n",
    "# This will be faster because it's in C not in Python\n",
    "candidate=np.arange(0, 10.1, 0.1).reshape(-1,1)\n",
    "numbers=np.array([2,7,1,5,10]).reshape(1,-1)\n",
    "\n",
    "SE = (numbers - candidate)**2\n",
    "SSE = SE.sum(axis=1) #sum along the rows\n",
    "print(\"Minimum:\",min(SSE))\n",
    "print(\"At Candidate:\", candidate[np.argmin(SSE)])"
   ]
  },
  {
   "cell_type": "code",
   "execution_count": 49,
   "metadata": {
    "collapsed": true
   },
   "outputs": [],
   "source": [
    "# My Solution\n",
    "def sum_of_squares(df, candidate):\n",
    "    sums=[]\n",
    "    for c in candidate:\n",
    "        one_sum=sum(df.map(lambda x: (x-c)**2))\n",
    "        sums.append(one_sum)\n",
    "    return list(zip(candidate, sums))\n",
    "\n",
    "results = sum_of_squares(df, candidate)\n",
    "min(results, key=lambda pairs: pairs[1])"
   ]
  },
  {
   "cell_type": "code",
   "execution_count": 99,
   "metadata": {},
   "outputs": [
    {
     "data": {
      "text/html": [
       "<div>\n",
       "<style>\n",
       "    .dataframe thead tr:only-child th {\n",
       "        text-align: right;\n",
       "    }\n",
       "\n",
       "    .dataframe thead th {\n",
       "        text-align: left;\n",
       "    }\n",
       "\n",
       "    .dataframe tbody tr th {\n",
       "        vertical-align: top;\n",
       "    }\n",
       "</style>\n",
       "<table border=\"1\" class=\"dataframe\">\n",
       "  <thead>\n",
       "    <tr style=\"text-align: right;\">\n",
       "      <th></th>\n",
       "      <th>candidate</th>\n",
       "      <th>sum</th>\n",
       "    </tr>\n",
       "  </thead>\n",
       "  <tbody>\n",
       "    <tr>\n",
       "      <th>50</th>\n",
       "      <td>5.0</td>\n",
       "      <td>54.0</td>\n",
       "    </tr>\n",
       "  </tbody>\n",
       "</table>\n",
       "</div>"
      ],
      "text/plain": [
       "    candidate   sum\n",
       "50        5.0  54.0"
      ]
     },
     "execution_count": 99,
     "metadata": {},
     "output_type": "execute_result"
    }
   ],
   "source": [
    "# Practicing Pandas\n",
    "resultdf=pd.DataFrame(results, columns=('candidate', 'sum'))\n",
    "resultdf.sort_values(by=\"sum\", inplace=True)\n",
    "resultdf[:1]"
   ]
  },
  {
   "cell_type": "code",
   "execution_count": 104,
   "metadata": {},
   "outputs": [
    {
     "data": {
      "text/plain": [
       "<matplotlib.axes._subplots.AxesSubplot at 0x1114a0a20>"
      ]
     },
     "execution_count": 104,
     "metadata": {},
     "output_type": "execute_result"
    },
    {
     "data": {
      "image/png": "[encoded data removed]",
      "text/plain": [
       "<Figure size 432x288 with 1 Axes>"
      ]
     },
     "metadata": {},
     "output_type": "display_data"
    }
   ],
   "source": [
    "resultdf.sort_values(by=\"candidate\", inplace=True)\n",
    "resultdf.plot(x=\"candidate\", y=\"sum\")"
   ]
  },
  {
   "cell_type": "code",
   "execution_count": 107,
   "metadata": {},
   "outputs": [
    {
     "ename": "AttributeError",
     "evalue": "module 'matplotlib' has no attribute 'plot'",
     "output_type": "error",
     "traceback": [
      "\u001b[0;31m--------------------------------------------------------------------------\u001b[0m",
      "\u001b[0;31mAttributeError\u001b[0m                           Traceback (most recent call last)",
      "\u001b[0;32m<ipython-input-107-966f986cb953>\u001b[0m in \u001b[0;36m<module>\u001b[0;34m()\u001b[0m\n\u001b[0;32m----> 1\u001b[0;31m \u001b[0mplt\u001b[0m\u001b[0;34m.\u001b[0m\u001b[0mplot\u001b[0m\u001b[0;34m(\u001b[0m\u001b[0mx\u001b[0m\u001b[0;34m=\u001b[0m\u001b[0mresults\u001b[0m\u001b[0;34m[\u001b[0m\u001b[0;34m\"candidate\"\u001b[0m\u001b[0;34m]\u001b[0m\u001b[0;34m,\u001b[0m \u001b[0my\u001b[0m\u001b[0;34m=\u001b[0m\u001b[0mresults\u001b[0m\u001b[0;34m[\u001b[0m\u001b[0;34m\"sum\"\u001b[0m\u001b[0;34m]\u001b[0m\u001b[0;34m,\u001b[0m \u001b[0mcolor\u001b[0m \u001b[0;34m=\u001b[0m \u001b[0;34m'green'\u001b[0m\u001b[0;34m)\u001b[0m\u001b[0;34m\u001b[0m\u001b[0m\n\u001b[0m",
      "\u001b[0;31mAttributeError\u001b[0m: module 'matplotlib' has no attribute 'plot'"
     ]
    }
   ],
   "source": [
    "plt.plot(x=results[\"candidate\"], y=results[\"sum\"], color = 'green')"
   ]
  },
  {
   "cell_type": "markdown",
   "metadata": {
    "collapsed": true
   },
   "source": [
    "__Linear Regression__  \n",
    "First make a response y of 200 random numbers. Then generate 20 random features in an X to predict with. Fit a linear model using both the 'Famous Equation' and the python built-ins. Check the summary() output of the results from the python built-ins. Do you have any features with P>|t| less than 0.05? (Repeat the process until you have at least one.)\n",
    "\n",
    "Check out the model's R-squared and Adj. R-squared. Repeat the feature generation and model fitting process with 40, 60, 80, and 100 features. What happens with R-squared and Adj. R-squared?\n",
    "\n",
    "If you have time, automate this experimental procedure and make a plot of R-squared and Adj. R-squared against number of features for one to one hundred features."
   ]
  },
  {
   "cell_type": "code",
   "execution_count": 35,
   "metadata": {
    "collapsed": true
   },
   "outputs": [],
   "source": [
    "import numpy as np\n",
    "import pandas as pd\n",
    "import statsmodels.formula.api as smf"
   ]
  },
  {
   "cell_type": "code",
   "execution_count": 60,
   "metadata": {},
   "outputs": [],
   "source": [
    "Y = pd.DataFrame(np.random.randint(0, 1000, 200), columns=[\"Y\"])"
   ]
  },
  {
   "cell_type": "code",
   "execution_count": 61,
   "metadata": {},
   "outputs": [],
   "source": [
    "Xs=['X'+str(num) for num in range(1,21)]\n",
    "X = pd.DataFrame(np.random.randint(low=0, high=1000, size=(200, 20)),\n",
    "                   columns=list(Xs))"
   ]
  },
  {
   "cell_type": "code",
   "execution_count": 64,
   "metadata": {},
   "outputs": [
    {
     "data": {
      "text/html": [
       "<div>\n",
       "<style>\n",
       "    .dataframe thead tr:only-child th {\n",
       "        text-align: right;\n",
       "    }\n",
       "\n",
       "    .dataframe thead th {\n",
       "        text-align: left;\n",
       "    }\n",
       "\n",
       "    .dataframe tbody tr th {\n",
       "        vertical-align: top;\n",
       "    }\n",
       "</style>\n",
       "<table border=\"1\" class=\"dataframe\">\n",
       "  <thead>\n",
       "    <tr style=\"text-align: right;\">\n",
       "      <th></th>\n",
       "      <th>X1</th>\n",
       "      <th>X2</th>\n",
       "      <th>X3</th>\n",
       "      <th>X4</th>\n",
       "      <th>X5</th>\n",
       "      <th>X6</th>\n",
       "      <th>X7</th>\n",
       "      <th>X8</th>\n",
       "      <th>X9</th>\n",
       "      <th>X10</th>\n",
       "      <th>...</th>\n",
       "      <th>X12</th>\n",
       "      <th>X13</th>\n",
       "      <th>X14</th>\n",
       "      <th>X15</th>\n",
       "      <th>X16</th>\n",
       "      <th>X17</th>\n",
       "      <th>X18</th>\n",
       "      <th>X19</th>\n",
       "      <th>X20</th>\n",
       "      <th>Y</th>\n",
       "    </tr>\n",
       "  </thead>\n",
       "  <tbody>\n",
       "    <tr>\n",
       "      <th>0</th>\n",
       "      <td>336</td>\n",
       "      <td>527</td>\n",
       "      <td>426</td>\n",
       "      <td>858</td>\n",
       "      <td>770</td>\n",
       "      <td>744</td>\n",
       "      <td>374</td>\n",
       "      <td>300</td>\n",
       "      <td>530</td>\n",
       "      <td>647</td>\n",
       "      <td>...</td>\n",
       "      <td>855</td>\n",
       "      <td>880</td>\n",
       "      <td>555</td>\n",
       "      <td>294</td>\n",
       "      <td>672</td>\n",
       "      <td>184</td>\n",
       "      <td>515</td>\n",
       "      <td>385</td>\n",
       "      <td>468</td>\n",
       "      <td>923</td>\n",
       "    </tr>\n",
       "    <tr>\n",
       "      <th>1</th>\n",
       "      <td>85</td>\n",
       "      <td>897</td>\n",
       "      <td>978</td>\n",
       "      <td>156</td>\n",
       "      <td>821</td>\n",
       "      <td>230</td>\n",
       "      <td>60</td>\n",
       "      <td>603</td>\n",
       "      <td>909</td>\n",
       "      <td>744</td>\n",
       "      <td>...</td>\n",
       "      <td>290</td>\n",
       "      <td>760</td>\n",
       "      <td>436</td>\n",
       "      <td>682</td>\n",
       "      <td>814</td>\n",
       "      <td>948</td>\n",
       "      <td>984</td>\n",
       "      <td>67</td>\n",
       "      <td>945</td>\n",
       "      <td>835</td>\n",
       "    </tr>\n",
       "    <tr>\n",
       "      <th>2</th>\n",
       "      <td>594</td>\n",
       "      <td>951</td>\n",
       "      <td>140</td>\n",
       "      <td>668</td>\n",
       "      <td>896</td>\n",
       "      <td>585</td>\n",
       "      <td>225</td>\n",
       "      <td>743</td>\n",
       "      <td>600</td>\n",
       "      <td>516</td>\n",
       "      <td>...</td>\n",
       "      <td>398</td>\n",
       "      <td>383</td>\n",
       "      <td>226</td>\n",
       "      <td>734</td>\n",
       "      <td>954</td>\n",
       "      <td>213</td>\n",
       "      <td>469</td>\n",
       "      <td>988</td>\n",
       "      <td>374</td>\n",
       "      <td>706</td>\n",
       "    </tr>\n",
       "    <tr>\n",
       "      <th>3</th>\n",
       "      <td>937</td>\n",
       "      <td>153</td>\n",
       "      <td>223</td>\n",
       "      <td>703</td>\n",
       "      <td>133</td>\n",
       "      <td>480</td>\n",
       "      <td>991</td>\n",
       "      <td>620</td>\n",
       "      <td>428</td>\n",
       "      <td>95</td>\n",
       "      <td>...</td>\n",
       "      <td>203</td>\n",
       "      <td>353</td>\n",
       "      <td>946</td>\n",
       "      <td>95</td>\n",
       "      <td>712</td>\n",
       "      <td>238</td>\n",
       "      <td>399</td>\n",
       "      <td>245</td>\n",
       "      <td>199</td>\n",
       "      <td>195</td>\n",
       "    </tr>\n",
       "    <tr>\n",
       "      <th>4</th>\n",
       "      <td>232</td>\n",
       "      <td>369</td>\n",
       "      <td>480</td>\n",
       "      <td>299</td>\n",
       "      <td>646</td>\n",
       "      <td>856</td>\n",
       "      <td>867</td>\n",
       "      <td>432</td>\n",
       "      <td>457</td>\n",
       "      <td>494</td>\n",
       "      <td>...</td>\n",
       "      <td>727</td>\n",
       "      <td>242</td>\n",
       "      <td>943</td>\n",
       "      <td>414</td>\n",
       "      <td>395</td>\n",
       "      <td>952</td>\n",
       "      <td>355</td>\n",
       "      <td>292</td>\n",
       "      <td>627</td>\n",
       "      <td>921</td>\n",
       "    </tr>\n",
       "  </tbody>\n",
       "</table>\n",
       "<p>5 rows × 21 columns</p>\n",
       "</div>"
      ],
      "text/plain": [
       "    X1   X2   X3   X4   X5   X6   X7   X8   X9  X10 ...   X12  X13  X14  X15  \\\n",
       "0  336  527  426  858  770  744  374  300  530  647 ...   855  880  555  294   \n",
       "1   85  897  978  156  821  230   60  603  909  744 ...   290  760  436  682   \n",
       "2  594  951  140  668  896  585  225  743  600  516 ...   398  383  226  734   \n",
       "3  937  153  223  703  133  480  991  620  428   95 ...   203  353  946   95   \n",
       "4  232  369  480  299  646  856  867  432  457  494 ...   727  242  943  414   \n",
       "\n",
       "   X16  X17  X18  X19  X20    Y  \n",
       "0  672  184  515  385  468  923  \n",
       "1  814  948  984   67  945  835  \n",
       "2  954  213  469  988  374  706  \n",
       "3  712  238  399  245  199  195  \n",
       "4  395  952  355  292  627  921  \n",
       "\n",
       "[5 rows x 21 columns]"
      ]
     },
     "execution_count": 64,
     "metadata": {},
     "output_type": "execute_result"
    }
   ],
   "source": [
    "df=pd.concat([X,Y], axis=1)\n",
    "df.head()"
   ]
  },
  {
   "cell_type": "code",
   "execution_count": 71,
   "metadata": {},
   "outputs": [
    {
     "data": {
      "text/plain": [
       "'X1 + X2 + X3 + X4 + X5 + X6 + X7 + X8 + X9 + X10 + X11 + X12 + X13 + X14 + X15 + X16 + X17 + X18 + X19 + X20'"
      ]
     },
     "execution_count": 71,
     "metadata": {},
     "output_type": "execute_result"
    }
   ],
   "source": [
    "predictors=' + '.join(['X'+str(num) for num in range(1,21)])\n",
    "predictors"
   ]
  },
  {
   "cell_type": "code",
   "execution_count": 73,
   "metadata": {},
   "outputs": [
    {
     "data": {
      "text/html": [
       "<table class=\"simpletable\">\n",
       "<caption>OLS Regression Results</caption>\n",
       "<tr>\n",
       "  <th>Dep. Variable:</th>            <td>Y</td>        <th>  R-squared:         </th> <td>   0.079</td>\n",
       "</tr>\n",
       "<tr>\n",
       "  <th>Model:</th>                   <td>OLS</td>       <th>  Adj. R-squared:    </th> <td>  -0.024</td>\n",
       "</tr>\n",
       "<tr>\n",
       "  <th>Method:</th>             <td>Least Squares</td>  <th>  F-statistic:       </th> <td>  0.7661</td>\n",
       "</tr>\n",
       "<tr>\n",
       "  <th>Date:</th>             <td>Thu, 12 Jul 2018</td> <th>  Prob (F-statistic):</th>  <td> 0.751</td> \n",
       "</tr>\n",
       "<tr>\n",
       "  <th>Time:</th>                 <td>09:32:24</td>     <th>  Log-Likelihood:    </th> <td> -1406.8</td>\n",
       "</tr>\n",
       "<tr>\n",
       "  <th>No. Observations:</th>      <td>   200</td>      <th>  AIC:               </th> <td>   2856.</td>\n",
       "</tr>\n",
       "<tr>\n",
       "  <th>Df Residuals:</th>          <td>   179</td>      <th>  BIC:               </th> <td>   2925.</td>\n",
       "</tr>\n",
       "<tr>\n",
       "  <th>Df Model:</th>              <td>    20</td>      <th>                     </th>     <td> </td>   \n",
       "</tr>\n",
       "<tr>\n",
       "  <th>Covariance Type:</th>      <td>nonrobust</td>    <th>                     </th>     <td> </td>   \n",
       "</tr>\n",
       "</table>\n",
       "<table class=\"simpletable\">\n",
       "<tr>\n",
       "      <td></td>         <th>coef</th>     <th>std err</th>      <th>t</th>      <th>P>|t|</th>  <th>[0.025</th>    <th>0.975]</th>  \n",
       "</tr>\n",
       "<tr>\n",
       "  <th>Intercept</th> <td>  288.4241</td> <td>  166.378</td> <td>    1.734</td> <td> 0.085</td> <td>  -39.890</td> <td>  616.738</td>\n",
       "</tr>\n",
       "<tr>\n",
       "  <th>X1</th>        <td>   -0.0489</td> <td>    0.074</td> <td>   -0.658</td> <td> 0.511</td> <td>   -0.196</td> <td>    0.098</td>\n",
       "</tr>\n",
       "<tr>\n",
       "  <th>X2</th>        <td>    0.0992</td> <td>    0.080</td> <td>    1.235</td> <td> 0.218</td> <td>   -0.059</td> <td>    0.258</td>\n",
       "</tr>\n",
       "<tr>\n",
       "  <th>X3</th>        <td>    0.0197</td> <td>    0.073</td> <td>    0.271</td> <td> 0.787</td> <td>   -0.124</td> <td>    0.163</td>\n",
       "</tr>\n",
       "<tr>\n",
       "  <th>X4</th>        <td>    0.1110</td> <td>    0.070</td> <td>    1.594</td> <td> 0.113</td> <td>   -0.026</td> <td>    0.249</td>\n",
       "</tr>\n",
       "<tr>\n",
       "  <th>X5</th>        <td>   -0.0365</td> <td>    0.071</td> <td>   -0.511</td> <td> 0.610</td> <td>   -0.177</td> <td>    0.104</td>\n",
       "</tr>\n",
       "<tr>\n",
       "  <th>X6</th>        <td>   -0.0206</td> <td>    0.074</td> <td>   -0.278</td> <td> 0.781</td> <td>   -0.167</td> <td>    0.125</td>\n",
       "</tr>\n",
       "<tr>\n",
       "  <th>X7</th>        <td>    0.1274</td> <td>    0.079</td> <td>    1.614</td> <td> 0.108</td> <td>   -0.028</td> <td>    0.283</td>\n",
       "</tr>\n",
       "<tr>\n",
       "  <th>X8</th>        <td>   -0.0703</td> <td>    0.070</td> <td>   -1.002</td> <td> 0.318</td> <td>   -0.209</td> <td>    0.068</td>\n",
       "</tr>\n",
       "<tr>\n",
       "  <th>X9</th>        <td>   -0.0462</td> <td>    0.077</td> <td>   -0.599</td> <td> 0.550</td> <td>   -0.198</td> <td>    0.106</td>\n",
       "</tr>\n",
       "<tr>\n",
       "  <th>X10</th>       <td>    0.0312</td> <td>    0.076</td> <td>    0.408</td> <td> 0.683</td> <td>   -0.120</td> <td>    0.182</td>\n",
       "</tr>\n",
       "<tr>\n",
       "  <th>X11</th>       <td>    0.0509</td> <td>    0.073</td> <td>    0.693</td> <td> 0.489</td> <td>   -0.094</td> <td>    0.196</td>\n",
       "</tr>\n",
       "<tr>\n",
       "  <th>X12</th>       <td>    0.0792</td> <td>    0.076</td> <td>    1.042</td> <td> 0.299</td> <td>   -0.071</td> <td>    0.229</td>\n",
       "</tr>\n",
       "<tr>\n",
       "  <th>X13</th>       <td>    0.0393</td> <td>    0.077</td> <td>    0.511</td> <td> 0.610</td> <td>   -0.112</td> <td>    0.191</td>\n",
       "</tr>\n",
       "<tr>\n",
       "  <th>X14</th>       <td>   -0.0873</td> <td>    0.076</td> <td>   -1.143</td> <td> 0.255</td> <td>   -0.238</td> <td>    0.063</td>\n",
       "</tr>\n",
       "<tr>\n",
       "  <th>X15</th>       <td>    0.0565</td> <td>    0.073</td> <td>    0.774</td> <td> 0.440</td> <td>   -0.088</td> <td>    0.201</td>\n",
       "</tr>\n",
       "<tr>\n",
       "  <th>X16</th>       <td>    0.0117</td> <td>    0.074</td> <td>    0.158</td> <td> 0.875</td> <td>   -0.135</td> <td>    0.158</td>\n",
       "</tr>\n",
       "<tr>\n",
       "  <th>X17</th>       <td>    0.0429</td> <td>    0.075</td> <td>    0.571</td> <td> 0.569</td> <td>   -0.105</td> <td>    0.191</td>\n",
       "</tr>\n",
       "<tr>\n",
       "  <th>X18</th>       <td>   -0.0408</td> <td>    0.076</td> <td>   -0.540</td> <td> 0.590</td> <td>   -0.190</td> <td>    0.108</td>\n",
       "</tr>\n",
       "<tr>\n",
       "  <th>X19</th>       <td>    0.0900</td> <td>    0.075</td> <td>    1.206</td> <td> 0.229</td> <td>   -0.057</td> <td>    0.237</td>\n",
       "</tr>\n",
       "<tr>\n",
       "  <th>X20</th>       <td>    0.0355</td> <td>    0.076</td> <td>    0.466</td> <td> 0.642</td> <td>   -0.115</td> <td>    0.186</td>\n",
       "</tr>\n",
       "</table>\n",
       "<table class=\"simpletable\">\n",
       "<tr>\n",
       "  <th>Omnibus:</th>       <td>35.212</td> <th>  Durbin-Watson:     </th> <td>   2.190</td>\n",
       "</tr>\n",
       "<tr>\n",
       "  <th>Prob(Omnibus):</th> <td> 0.000</td> <th>  Jarque-Bera (JB):  </th> <td>   8.471</td>\n",
       "</tr>\n",
       "<tr>\n",
       "  <th>Skew:</th>          <td>-0.019</td> <th>  Prob(JB):          </th> <td>  0.0145</td>\n",
       "</tr>\n",
       "<tr>\n",
       "  <th>Kurtosis:</th>      <td> 1.993</td> <th>  Cond. No.          </th> <td>1.84e+04</td>\n",
       "</tr>\n",
       "</table><br/><br/>Warnings:<br/>[1] Standard Errors assume that the covariance matrix of the errors is correctly specified.<br/>[2] The condition number is large, 1.84e+04. This might indicate that there are<br/>strong multicollinearity or other numerical problems."
      ],
      "text/plain": [
       "<class 'statsmodels.iolib.summary.Summary'>\n",
       "\"\"\"\n",
       "                            OLS Regression Results                            \n",
       "==============================================================================\n",
       "Dep. Variable:                      Y   R-squared:                       0.079\n",
       "Model:                            OLS   Adj. R-squared:                 -0.024\n",
       "Method:                 Least Squares   F-statistic:                    0.7661\n",
       "Date:                Thu, 12 Jul 2018   Prob (F-statistic):              0.751\n",
       "Time:                        09:32:24   Log-Likelihood:                -1406.8\n",
       "No. Observations:                 200   AIC:                             2856.\n",
       "Df Residuals:                     179   BIC:                             2925.\n",
       "Df Model:                          20                                         \n",
       "Covariance Type:            nonrobust                                         \n",
       "==============================================================================\n",
       "                 coef    std err          t      P>|t|      [0.025      0.975]\n",
       "------------------------------------------------------------------------------\n",
       "Intercept    288.4241    166.378      1.734      0.085     -39.890     616.738\n",
       "X1            -0.0489      0.074     -0.658      0.511      -0.196       0.098\n",
       "X2             0.0992      0.080      1.235      0.218      -0.059       0.258\n",
       "X3             0.0197      0.073      0.271      0.787      -0.124       0.163\n",
       "X4             0.1110      0.070      1.594      0.113      -0.026       0.249\n",
       "X5            -0.0365      0.071     -0.511      0.610      -0.177       0.104\n",
       "X6            -0.0206      0.074     -0.278      0.781      -0.167       0.125\n",
       "X7             0.1274      0.079      1.614      0.108      -0.028       0.283\n",
       "X8            -0.0703      0.070     -1.002      0.318      -0.209       0.068\n",
       "X9            -0.0462      0.077     -0.599      0.550      -0.198       0.106\n",
       "X10            0.0312      0.076      0.408      0.683      -0.120       0.182\n",
       "X11            0.0509      0.073      0.693      0.489      -0.094       0.196\n",
       "X12            0.0792      0.076      1.042      0.299      -0.071       0.229\n",
       "X13            0.0393      0.077      0.511      0.610      -0.112       0.191\n",
       "X14           -0.0873      0.076     -1.143      0.255      -0.238       0.063\n",
       "X15            0.0565      0.073      0.774      0.440      -0.088       0.201\n",
       "X16            0.0117      0.074      0.158      0.875      -0.135       0.158\n",
       "X17            0.0429      0.075      0.571      0.569      -0.105       0.191\n",
       "X18           -0.0408      0.076     -0.540      0.590      -0.190       0.108\n",
       "X19            0.0900      0.075      1.206      0.229      -0.057       0.237\n",
       "X20            0.0355      0.076      0.466      0.642      -0.115       0.186\n",
       "==============================================================================\n",
       "Omnibus:                       35.212   Durbin-Watson:                   2.190\n",
       "Prob(Omnibus):                  0.000   Jarque-Bera (JB):                8.471\n",
       "Skew:                          -0.019   Prob(JB):                       0.0145\n",
       "Kurtosis:                       1.993   Cond. No.                     1.84e+04\n",
       "==============================================================================\n",
       "\n",
       "Warnings:\n",
       "[1] Standard Errors assume that the covariance matrix of the errors is correctly specified.\n",
       "[2] The condition number is large, 1.84e+04. This might indicate that there are\n",
       "strong multicollinearity or other numerical problems.\n",
       "\"\"\""
      ]
     },
     "execution_count": 73,
     "metadata": {},
     "output_type": "execute_result"
    }
   ],
   "source": [
    "model = smf.ols(\"Y ~ \"+ predictors, data=df)\n",
    "fit = model.fit()\n",
    "fit.summary()"
   ]
  },
  {
   "cell_type": "code",
   "execution_count": 79,
   "metadata": {},
   "outputs": [
    {
     "data": {
      "text/plain": [
       "0.078849963926056588"
      ]
     },
     "execution_count": 79,
     "metadata": {},
     "output_type": "execute_result"
    }
   ],
   "source": [
    "fit.rsquared"
   ]
  },
  {
   "cell_type": "code",
   "execution_count": 82,
   "metadata": {},
   "outputs": [
    {
     "data": {
      "text/plain": [
       "Intercept    288.424115\n",
       "X1            -0.048942\n",
       "X2             0.099240\n",
       "X3             0.019716\n",
       "X4             0.111036\n",
       "dtype: float64"
      ]
     },
     "execution_count": 82,
     "metadata": {},
     "output_type": "execute_result"
    }
   ],
   "source": [
    "fit.params[:5]"
   ]
  },
  {
   "cell_type": "code",
   "execution_count": 62,
   "metadata": {},
   "outputs": [
    {
     "data": {
      "text/plain": [
       "array([ 0.02863588,  0.04461814,  0.03276132,  0.03408156,  0.04058655,\n",
       "        0.07230669,  0.09982962,  0.0888263 ,  0.04861035, -0.01080773,\n",
       "        0.00126414,  0.11886991,  0.08750265, -0.01292715, -0.09095459,\n",
       "        0.04355101,  0.07707625,  0.15567104, -0.00061114,  0.06349928])"
      ]
     },
     "execution_count": 62,
     "metadata": {},
     "output_type": "execute_result"
    }
   ],
   "source": [
    "B=np.linalg.inv(X.T.dot(X)).dot(X.T.dot(y))\n",
    "B"
   ]
  },
  {
   "cell_type": "code",
   "execution_count": 93,
   "metadata": {
    "collapsed": true
   },
   "outputs": [],
   "source": [
    "def test_ols(features):\n",
    "    Y = pd.DataFrame(np.random.randint(0, 1000, 200), columns=[\"Y\"])\n",
    "    Xs=['X'+str(num) for num in range(1,features+1)]\n",
    "    X = pd.DataFrame(np.random.randint(low=0, high=1000, size=(200, features)),\n",
    "                       columns=list(Xs))\n",
    "    \n",
    "    df=pd.concat([X,Y], axis=1)\n",
    "    predictors=' + '.join(['X'+str(num) for num in range(1,features+1)])\n",
    "    \n",
    "    model = smf.ols(\"Y ~ \"+ predictors, data=df)\n",
    "    fit = model.fit()\n",
    "    fit.summary()\n",
    "    return [fit.rsquared, fit.rsquared_adj]"
   ]
  },
  {
   "cell_type": "code",
   "execution_count": 94,
   "metadata": {},
   "outputs": [
    {
     "data": {
      "text/plain": [
       "[0.032425177124024041, -0.075683741633068236]"
      ]
     },
     "execution_count": 94,
     "metadata": {},
     "output_type": "execute_result"
    }
   ],
   "source": [
    "test_ols(20)"
   ]
  },
  {
   "cell_type": "code",
   "execution_count": 95,
   "metadata": {
    "collapsed": true
   },
   "outputs": [],
   "source": [
    "rsquares = []\n",
    "adjusted = []\n",
    "for j in range(20, 81):\n",
    "    rsquares.append(test_ols(j)[0])\n",
    "    adjusted.append(test_ols(j)[1])"
   ]
  },
  {
   "cell_type": "code",
   "execution_count": 107,
   "metadata": {
    "scrolled": true
   },
   "outputs": [
    {
     "data": {
      "image/png": "[encoded data removed]",
      "text/plain": [
       "<Figure size 576x396 with 1 Axes>"
      ]
     },
     "metadata": {},
     "output_type": "display_data"
    }
   ],
   "source": [
    "import matplotlib.pyplot as plt\n",
    "%matplotlib inline\n",
    "plt.style.use('seaborn')\n",
    "x=range(20, 81)\n",
    "plt.plot(x, rsquares)\n",
    "plt.plot(x, adjusted)\n",
    "plt.title('$R^2$ versus Adj. $R^2$')\n",
    "plt.xlabel('Number of Features')\n",
    "plt.ylabel('Values')\n",
    "plt.legend([r\"$R^2$\", r\"Adj. $R^2$\"])\n",
    "plt.show()"
   ]
  },
  {
   "cell_type": "code",
   "execution_count": null,
   "metadata": {
    "collapsed": true
   },
   "outputs": [],
   "source": []
  },
  {
   "cell_type": "code",
   "execution_count": null,
   "metadata": {
    "collapsed": true
   },
   "outputs": [],
   "source": []
  },
  {
   "cell_type": "code",
   "execution_count": null,
   "metadata": {
    "collapsed": true
   },
   "outputs": [],
   "source": []
  },
  {
   "cell_type": "code",
   "execution_count": null,
   "metadata": {
    "collapsed": true
   },
   "outputs": [],
   "source": []
  },
  {
   "cell_type": "code",
   "execution_count": null,
   "metadata": {
    "collapsed": true
   },
   "outputs": [],
   "source": []
  },
  {
   "cell_type": "code",
   "execution_count": null,
   "metadata": {
    "collapsed": true
   },
   "outputs": [],
   "source": []
  },
  {
   "cell_type": "code",
   "execution_count": null,
   "metadata": {
    "collapsed": true
   },
   "outputs": [],
   "source": []
  },
  {
   "cell_type": "code",
   "execution_count": null,
   "metadata": {
    "collapsed": true
   },
   "outputs": [],
   "source": []
  },
  {
   "cell_type": "code",
   "execution_count": null,
   "metadata": {
    "collapsed": true
   },
   "outputs": [],
   "source": []
  }
 ],
 "metadata": {
  "kernelspec": {
   "display_name": "Python 3",
   "language": "python",
   "name": "python3"
  },
  "language_info": {
   "codemirror_mode": {
    "name": "ipython",
    "version": 3
   },
   "file_extension": ".py",
   "mimetype": "text/x-python",
   "name": "python",
   "nbconvert_exporter": "python",
   "pygments_lexer": "ipython3",
   "version": "3.6.0"
  }
 },
 "nbformat": 4,
 "nbformat_minor": 2
}
