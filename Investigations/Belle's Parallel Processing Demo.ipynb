{
 "cells": [
  {
   "cell_type": "markdown",
   "metadata": {},
   "source": [
    "# Multiprocessing & Multi-Threading\n",
    "__Belle Peng__          |      __Sept 2018__"
   ]
  },
  {
   "cell_type": "code",
   "execution_count": 1,
   "metadata": {
    "ExecuteTime": {
     "end_time": "2018-09-05T06:15:48.656025Z",
     "start_time": "2018-09-05T06:15:48.650872Z"
    }
   },
   "outputs": [],
   "source": [
    "import os\n",
    "import time\n",
    "import threading\n",
    "import multiprocessing as mp\n",
    "import random\n",
    "\n",
    "random.seed(42)"
   ]
  },
  {
   "cell_type": "code",
   "execution_count": 102,
   "metadata": {
    "ExecuteTime": {
     "end_time": "2018-09-04T02:57:33.026719Z",
     "start_time": "2018-09-04T02:57:33.017677Z"
    }
   },
   "outputs": [],
   "source": [
    "NUM_WORKERS = 4\n",
    "output = mp.Queue()\n",
    "\n",
    "def only_sleep():\n",
    "    \"\"\" Do nothing, wait for a timer to expire \"\"\"\n",
    "    print(\"PID: %s, Process Name: %s, Thread Name: %s\" % (\n",
    "        os.getpid(),\n",
    "        mp.current_process().name,\n",
    "        threading.current_thread().name)\n",
    "    )\n",
    "    time.sleep(1)\n",
    " \n",
    " \n",
    "def crunch_numbers(pos, output):\n",
    "    \"\"\" Do some computations \"\"\"\n",
    "    print(\"PID: %s, Process Name: %s, Thread Name: %s\" % (\n",
    "        os.getpid(),\n",
    "        mp.current_process().name,\n",
    "        threading.current_thread().name)\n",
    "    )\n",
    "    x = 0\n",
    "    while x < 10000000:\n",
    "        x += 1\n",
    "    output.put((pos, x))\n",
    "    time.sleep(1)"
   ]
  },
  {
   "cell_type": "code",
   "execution_count": 103,
   "metadata": {
    "ExecuteTime": {
     "end_time": "2018-09-04T02:57:45.819564Z",
     "start_time": "2018-09-04T02:57:36.754274Z"
    }
   },
   "outputs": [
    {
     "name": "stdout",
     "output_type": "stream",
     "text": [
      "PID: 15088, Process Name: MainProcess, Thread Name: MainThread\n",
      "PID: 15088, Process Name: MainProcess, Thread Name: MainThread\n",
      "PID: 15088, Process Name: MainProcess, Thread Name: MainThread\n",
      "PID: 15088, Process Name: MainProcess, Thread Name: MainThread\n",
      "Serial time= 4.007478713989258\n",
      "\n",
      "PID: 15088, Process Name: MainProcess, Thread Name: Thread-148\n",
      "PID: 15088, Process Name: MainProcess, Thread Name: Thread-149\n",
      "PID: 15088, Process Name: MainProcess, Thread Name: Thread-150\n",
      "PID: 15088, Process Name: MainProcess, Thread Name: Thread-151\n",
      "Threads time= 1.005012035369873\n",
      "\n",
      "PID: 15088, Process Name: MainProcess, Thread Name: MainThread\n",
      "PID: 15088, Process Name: MainProcess, Thread Name: MainThread\n",
      "PID: 15088, Process Name: MainProcess, Thread Name: MainThread\n",
      "PID: 15088, Process Name: MainProcess, Thread Name: MainThread\n",
      "Parallel time= 4.043342113494873\n",
      "\n"
     ]
    }
   ],
   "source": [
    "## Run tasks serially\n",
    "start_time = time.time()\n",
    "for _ in range(NUM_WORKERS):\n",
    "    only_sleep()\n",
    "end_time = time.time()\n",
    "print(\"Serial time=\", end_time - start_time)\n",
    "print()\n",
    "\n",
    "# Run tasks using threads\n",
    "start_time = time.time()\n",
    "threads = [threading.Thread(target=only_sleep) for _ in range(NUM_WORKERS)]\n",
    "[thread.start() for thread in threads]\n",
    "[thread.join() for thread in threads]\n",
    "end_time = time.time()\n",
    "print(\"Threads time=\", end_time - start_time)\n",
    "print()\n",
    "\n",
    "# Run tasks using processes\n",
    "start_time = time.time()\n",
    "processes = [mp.Process(target=only_sleep()) for _ in range(NUM_WORKERS)]\n",
    "[process.start() for process in processes]\n",
    "[process.join() for process in processes]\n",
    "end_time = time.time() \n",
    "print(\"Parallel time=\", end_time - start_time)\n",
    "print()"
   ]
  },
  {
   "cell_type": "code",
   "execution_count": 104,
   "metadata": {
    "ExecuteTime": {
     "end_time": "2018-09-04T02:57:59.814696Z",
     "start_time": "2018-09-04T02:57:45.835799Z"
    }
   },
   "outputs": [
    {
     "name": "stdout",
     "output_type": "stream",
     "text": [
      "PID: 15088, Process Name: MainProcess, Thread Name: MainThread\n",
      "PID: 15088, Process Name: MainProcess, Thread Name: MainThread\n",
      "PID: 15088, Process Name: MainProcess, Thread Name: MainThread\n",
      "PID: 15088, Process Name: MainProcess, Thread Name: MainThread\n",
      "Serial time= 7.150249004364014\n",
      "\n",
      "PID: 15088, Process Name: MainProcess, Thread Name: Thread-152\n",
      "PID: 15088, Process Name: MainProcess, Thread Name: Thread-153\n",
      "PID: 15088, Process Name: MainProcess, Thread Name: Thread-154\n",
      "PID: 15088, Process Name: MainProcess, Thread Name: Thread-155\n",
      "Threads time= 3.880600929260254\n",
      "\n",
      "PID: 15487, Process Name: Process-146, Thread Name: MainThread\n",
      "PID: 15488, Process Name: Process-147, Thread Name: MainThread\n",
      "PID: 15490, Process Name: Process-149, Thread Name: MainThread\n",
      "PID: 15489, Process Name: Process-148, Thread Name: MainThread\n",
      "Parallel time= 2.9316160678863525\n",
      "\n",
      "Results\n",
      "Threading Results [(1, 10000000), (0, 10000000), (2, 10000000), (1, 10000000)]\n",
      "Parallel Results [(3, 10000000), (0, 10000000), (2, 10000000), (1, 10000000)]\n"
     ]
    }
   ],
   "source": [
    "# Seriel Processing\n",
    "start_time = time.time()\n",
    "for _ in range(NUM_WORKERS):\n",
    "    output = mp.Queue()\n",
    "    crunch_numbers(pos=1, output=output)\n",
    "end_time = time.time()\n",
    " \n",
    "print(\"Serial time=\", end_time - start_time)\n",
    "print()\n",
    "\n",
    "# Thread Concurrent Processing\n",
    "start_time = time.time()\n",
    "threads = [threading.Thread(target=crunch_numbers, args=(i, output)) for i in range(NUM_WORKERS)]\n",
    "[thread.start() for thread in threads]\n",
    "[thread.join() for thread in threads]\n",
    "end_time = time.time()\n",
    "\n",
    "results_thread = [output.get() for p in processes]\n",
    "print(\"Threads time=\", end_time - start_time)\n",
    "print()\n",
    "\n",
    "# Parallel Processing\n",
    "start_time = time.time()\n",
    "processes = [mp.Process(target=crunch_numbers, args=(i, output)) for i in range(NUM_WORKERS)]\n",
    "[process.start() for process in processes]\n",
    "[process.join() for process in processes]\n",
    "end_time = time.time()\n",
    "\n",
    "results_parallel = [output.get() for p in processes]\n",
    "print(\"Parallel time=\", end_time - start_time)\n",
    "print()\n",
    "\n",
    "# Retrieve Results\n",
    "print(\"Results\")\n",
    "print(\"Threading Results\", results_thread)\n",
    "print(\"Parallel Results\", results_parallel)"
   ]
  },
  {
   "cell_type": "markdown",
   "metadata": {},
   "source": [
    "The order of the obtained results does not necessarily have to match the order of the processes (in the processes list). Since we eventually use the .get() method to retrieve the results from the Queuesequentially, the order in which the processes finished determines the order of our results.  \n",
    "\n",
    "\n",
    "If our application required us to retrieve results in a particular order, one possibility would be to refer to the processes’ ._identity attribute."
   ]
  },
  {
   "cell_type": "markdown",
   "metadata": {},
   "source": [
    "__Pooling__  \n",
    "The Pool.map and Pool.apply will lock the main program until all processes are finished, which is quite useful if we want to obtain results in a particular order for certain applications. \n",
    "In contrast, the async variants will submit all processes at once and retrieve the results as soon as they are finished. One more difference is that we need to use the get method after the apply_async() call in order to obtain the return values of the finished processes."
   ]
  },
  {
   "cell_type": "code",
   "execution_count": 93,
   "metadata": {
    "ExecuteTime": {
     "end_time": "2018-09-04T02:46:47.814132Z",
     "start_time": "2018-09-04T02:46:47.809694Z"
    }
   },
   "outputs": [],
   "source": [
    "def cube(x):\n",
    "    return x**3"
   ]
  },
  {
   "cell_type": "code",
   "execution_count": 94,
   "metadata": {
    "ExecuteTime": {
     "end_time": "2018-09-04T02:46:48.247298Z",
     "start_time": "2018-09-04T02:46:48.194894Z"
    }
   },
   "outputs": [
    {
     "name": "stdout",
     "output_type": "stream",
     "text": [
      "[1, 8, 27, 64, 125, 216]\n"
     ]
    }
   ],
   "source": [
    "pool = mp.Pool(processes=4)\n",
    "results = [pool.apply(cube, args=(x,)) for x in range(1,7)]\n",
    "print(results)"
   ]
  },
  {
   "cell_type": "code",
   "execution_count": 95,
   "metadata": {
    "ExecuteTime": {
     "end_time": "2018-09-04T02:46:57.588158Z",
     "start_time": "2018-09-04T02:46:57.541232Z"
    }
   },
   "outputs": [
    {
     "name": "stdout",
     "output_type": "stream",
     "text": [
      "[1, 8, 27, 64, 125, 216]\n"
     ]
    }
   ],
   "source": [
    "pool = mp.Pool(processes=4)\n",
    "results = pool.map(cube, range(1,7))\n",
    "print(results)"
   ]
  },
  {
   "cell_type": "code",
   "execution_count": 96,
   "metadata": {
    "ExecuteTime": {
     "end_time": "2018-09-04T02:47:08.312276Z",
     "start_time": "2018-09-04T02:47:08.257458Z"
    }
   },
   "outputs": [
    {
     "name": "stdout",
     "output_type": "stream",
     "text": [
      "[1, 8, 27, 64, 125, 216]\n"
     ]
    }
   ],
   "source": [
    "pool = mp.Pool(processes=4)\n",
    "results = [pool.apply_async(cube, args=(x,)) for x in range(1,7)]\n",
    "output = [p.get() for p in results]\n",
    "print(output)"
   ]
  },
  {
   "cell_type": "code",
   "execution_count": null,
   "metadata": {},
   "outputs": [],
   "source": []
  }
 ],
 "metadata": {
  "kernelspec": {
   "display_name": "Python (anacoda)",
   "language": "python",
   "name": "other-env"
  },
  "language_info": {
   "codemirror_mode": {
    "name": "ipython",
    "version": 3
   },
   "file_extension": ".py",
   "mimetype": "text/x-python",
   "name": "python",
   "nbconvert_exporter": "python",
   "pygments_lexer": "ipython3",
   "version": "3.6.5"
  },
  "varInspector": {
   "cols": {
    "lenName": 16,
    "lenType": 16,
    "lenVar": 40
   },
   "kernels_config": {
    "python": {
     "delete_cmd_postfix": "",
     "delete_cmd_prefix": "del ",
     "library": "var_list.py",
     "varRefreshCmd": "print(var_dic_list())"
    },
    "r": {
     "delete_cmd_postfix": ") ",
     "delete_cmd_prefix": "rm(",
     "library": "var_list.r",
     "varRefreshCmd": "cat(var_dic_list()) "
    }
   },
   "types_to_exclude": [
    "module",
    "function",
    "builtin_function_or_method",
    "instance",
    "_Feature"
   ],
   "window_display": false
  }
 },
 "nbformat": 4,
 "nbformat_minor": 2
}
