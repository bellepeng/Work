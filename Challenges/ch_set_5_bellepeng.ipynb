{
 "cells": [
  {
   "cell_type": "markdown",
   "metadata": {},
   "source": [
    "# Linear Regression and Train/Test Split challenges\n",
    "\n",
    "Ideally, try these with your own data! (Alternatively, there is the 2013_movies.csv data set.)\n",
    "\n",
    "Challenge 1\n",
    "\n",
    "Build a linear model that uses only a constant term (a column of ones) to predict a continuous outcome (like domestic total gross). How can you interpret the results of this model? What does it predict? Make a plot of predictions against actual outcome. Make a histogram of residuals. How are the residuals distributed?\n",
    "\n",
    "Challenge 2\n",
    "\n",
    "Repeat the process of challenge one, but also add one continuous (numeric) predictor variable. Also add plots of model prediction against your feature variable and residuals against feature variable. How can you interpret what's happening in the model?\n",
    "\n",
    "Challenge 3\n",
    "\n",
    "Repeat the process of challenge 1, but add a categorical feature (like genre). You'll have to convert a column of text into a number of numerical columns (\"dummy variables\"). How can you interpret what's happening in the model?\n",
    "\n",
    "Challenge 4\n",
    "\n",
    "Enhance your model further by adding more features and/or transforming existing features. Think about how you build the model matrix and how to interpret what the model is doing.\n",
    "\n",
    "Challenge 5\n",
    "\n",
    "Fitting and checking predictions on the exact same data set can be misleading. Divide your data into two sets: a training and a test set (roughly 75% training, 25% test is a fine split). Fit a model on the training set, check the predictions (by plotting versus actual values) in the test set."
   ]
  },
  {
   "cell_type": "code",
   "execution_count": 1,
   "metadata": {},
   "outputs": [
    {
     "data": {
      "text/html": [
       "<style>.container { width:95% !important; }</style>"
      ],
      "text/plain": [
       "<IPython.core.display.HTML object>"
      ]
     },
     "metadata": {},
     "output_type": "display_data"
    }
   ],
   "source": [
    "from IPython.core.display import display, HTML\n",
    "display(HTML(\"<style>.container { width:95% !important; }</style>\"))\n",
    "import pandas as pd\n",
    "import numpy as np\n",
    "import pickle\n",
    "import re\n",
    "import datetime as dt\n",
    "import scipy.stats as stats\n",
    "\n",
    "import matplotlib.pyplot as plt\n",
    "%matplotlib inline\n",
    "plt.style.use('seaborn')\n",
    "import seaborn as sns\n",
    "\n",
    "import warnings\n",
    "warnings.filterwarnings('ignore')\n",
    "\n",
    "from operator import itemgetter, attrgetter, methodcaller"
   ]
  },
  {
   "cell_type": "code",
   "execution_count": 2,
   "metadata": {},
   "outputs": [
    {
     "name": "stderr",
     "output_type": "stream",
     "text": [
      "/Library/Frameworks/Python.framework/Versions/3.6/lib/python3.6/site-packages/sklearn/cross_validation.py:41: DeprecationWarning: This module was deprecated in version 0.18 in favor of the model_selection module into which all the refactored classes and functions are moved. Also note that the interface of the new CV iterators are different from that of this module. This module will be removed in 0.20.\n",
      "  \"This module will be removed in 0.20.\", DeprecationWarning)\n"
     ]
    }
   ],
   "source": [
    "import statsmodels.api as sm\n",
    "import statsmodels.formula.api as smf\n",
    "from sklearn.cross_validation import train_test_split \n",
    "from sklearn.cross_validation import KFold\n",
    "from sklearn.cross_validation import cross_val_score\n",
    "from sklearn.linear_model import LinearRegression"
   ]
  },
  {
   "cell_type": "code",
   "execution_count": 152,
   "metadata": {},
   "outputs": [
    {
     "name": "stdout",
     "output_type": "stream",
     "text": [
      "(100, 7)\n"
     ]
    },
    {
     "data": {
      "text/html": [
       "<div>\n",
       "<style>\n",
       "    .dataframe thead tr:only-child th {\n",
       "        text-align: right;\n",
       "    }\n",
       "\n",
       "    .dataframe thead th {\n",
       "        text-align: left;\n",
       "    }\n",
       "\n",
       "    .dataframe tbody tr th {\n",
       "        vertical-align: top;\n",
       "    }\n",
       "</style>\n",
       "<table border=\"1\" class=\"dataframe\">\n",
       "  <thead>\n",
       "    <tr style=\"text-align: right;\">\n",
       "      <th></th>\n",
       "      <th>Title</th>\n",
       "      <th>Budget</th>\n",
       "      <th>DomesticTotalGross</th>\n",
       "      <th>Director</th>\n",
       "      <th>Rating</th>\n",
       "      <th>Runtime</th>\n",
       "      <th>ReleaseDate</th>\n",
       "    </tr>\n",
       "  </thead>\n",
       "  <tbody>\n",
       "    <tr>\n",
       "      <th>0</th>\n",
       "      <td>The Hunger Games: Catching Fire</td>\n",
       "      <td>130000000.0</td>\n",
       "      <td>424668047</td>\n",
       "      <td>Francis Lawrence</td>\n",
       "      <td>PG-13</td>\n",
       "      <td>146</td>\n",
       "      <td>2013-11-22 00:00:00</td>\n",
       "    </tr>\n",
       "    <tr>\n",
       "      <th>1</th>\n",
       "      <td>Iron Man 3</td>\n",
       "      <td>200000000.0</td>\n",
       "      <td>409013994</td>\n",
       "      <td>Shane Black</td>\n",
       "      <td>PG-13</td>\n",
       "      <td>129</td>\n",
       "      <td>2013-05-03 00:00:00</td>\n",
       "    </tr>\n",
       "    <tr>\n",
       "      <th>2</th>\n",
       "      <td>Frozen</td>\n",
       "      <td>150000000.0</td>\n",
       "      <td>400738009</td>\n",
       "      <td>Chris BuckJennifer Lee</td>\n",
       "      <td>PG</td>\n",
       "      <td>108</td>\n",
       "      <td>2013-11-22 00:00:00</td>\n",
       "    </tr>\n",
       "    <tr>\n",
       "      <th>3</th>\n",
       "      <td>Despicable Me 2</td>\n",
       "      <td>76000000.0</td>\n",
       "      <td>368061265</td>\n",
       "      <td>Pierre CoffinChris Renaud</td>\n",
       "      <td>PG</td>\n",
       "      <td>98</td>\n",
       "      <td>2013-07-03 00:00:00</td>\n",
       "    </tr>\n",
       "    <tr>\n",
       "      <th>4</th>\n",
       "      <td>Man of Steel</td>\n",
       "      <td>225000000.0</td>\n",
       "      <td>291045518</td>\n",
       "      <td>Zack Snyder</td>\n",
       "      <td>PG-13</td>\n",
       "      <td>143</td>\n",
       "      <td>2013-06-14 00:00:00</td>\n",
       "    </tr>\n",
       "  </tbody>\n",
       "</table>\n",
       "</div>"
      ],
      "text/plain": [
       "                             Title       Budget  DomesticTotalGross  \\\n",
       "0  The Hunger Games: Catching Fire  130000000.0           424668047   \n",
       "1                       Iron Man 3  200000000.0           409013994   \n",
       "2                           Frozen  150000000.0           400738009   \n",
       "3                  Despicable Me 2   76000000.0           368061265   \n",
       "4                     Man of Steel  225000000.0           291045518   \n",
       "\n",
       "                    Director Rating  Runtime          ReleaseDate  \n",
       "0           Francis Lawrence  PG-13      146  2013-11-22 00:00:00  \n",
       "1                Shane Black  PG-13      129  2013-05-03 00:00:00  \n",
       "2     Chris BuckJennifer Lee     PG      108  2013-11-22 00:00:00  \n",
       "3  Pierre CoffinChris Renaud     PG       98  2013-07-03 00:00:00  \n",
       "4                Zack Snyder  PG-13      143  2013-06-14 00:00:00  "
      ]
     },
     "execution_count": 152,
     "metadata": {},
     "output_type": "execute_result"
    }
   ],
   "source": [
    "df=pd.read_csv('/Users/bellepeng/Desktop/Metis/sf18_ds11/challenges/challenges_data/2013_movies.csv')\n",
    "print(df.shape)\n",
    "df.head()"
   ]
  },
  {
   "cell_type": "code",
   "execution_count": 4,
   "metadata": {
    "collapsed": true
   },
   "outputs": [],
   "source": [
    "%run '/Users/bellepeng/Desktop/Metis/Work/myfunctions.py'\n",
    "# %load '/Users/bellepeng/Desktop/Metis/Work/myfunctions.py' will load it "
   ]
  },
  {
   "cell_type": "code",
   "execution_count": 153,
   "metadata": {},
   "outputs": [
    {
     "data": {
      "text/plain": [
       "(100, 5)"
      ]
     },
     "execution_count": 153,
     "metadata": {},
     "output_type": "execute_result"
    }
   ],
   "source": [
    "y=pd.DataFrame(df['DomesticTotalGross'])\n",
    "X=df.drop(['DomesticTotalGross', 'Title'], axis=1)\n",
    "X.shape"
   ]
  },
  {
   "cell_type": "code",
   "execution_count": 154,
   "metadata": {},
   "outputs": [
    {
     "name": "stdout",
     "output_type": "stream",
     "text": [
      "(100, 100)\n"
     ]
    },
    {
     "data": {
      "text/html": [
       "<div>\n",
       "<style>\n",
       "    .dataframe thead tr:only-child th {\n",
       "        text-align: right;\n",
       "    }\n",
       "\n",
       "    .dataframe thead th {\n",
       "        text-align: left;\n",
       "    }\n",
       "\n",
       "    .dataframe tbody tr th {\n",
       "        vertical-align: top;\n",
       "    }\n",
       "</style>\n",
       "<table border=\"1\" class=\"dataframe\">\n",
       "  <thead>\n",
       "    <tr style=\"text-align: right;\">\n",
       "      <th></th>\n",
       "      <th>Budget</th>\n",
       "      <th>Runtime</th>\n",
       "      <th>ReleaseDate</th>\n",
       "      <th>Rating_G</th>\n",
       "      <th>Rating_PG</th>\n",
       "      <th>Rating_PG-13</th>\n",
       "      <th>Rating_R</th>\n",
       "      <th>Director_Adam McKay</th>\n",
       "      <th>Director_Alan Taylor</th>\n",
       "      <th>Director_Alfonso Cuaron</th>\n",
       "      <th>...</th>\n",
       "      <th>Director_Spike Jonze</th>\n",
       "      <th>Director_Stephen Frears</th>\n",
       "      <th>Director_Steve McQueen (II)</th>\n",
       "      <th>Director_Steven Soderbergh</th>\n",
       "      <th>Director_Thor Freudenthal</th>\n",
       "      <th>Director_Todd Phillips</th>\n",
       "      <th>Director_Tommy Wirkola</th>\n",
       "      <th>Director_Tyler Perry</th>\n",
       "      <th>Director_Woody Allen</th>\n",
       "      <th>Director_Zack Snyder</th>\n",
       "    </tr>\n",
       "  </thead>\n",
       "  <tbody>\n",
       "    <tr>\n",
       "      <th>0</th>\n",
       "      <td>130000000.0</td>\n",
       "      <td>146</td>\n",
       "      <td>2013-11-22 00:00:00</td>\n",
       "      <td>0</td>\n",
       "      <td>0</td>\n",
       "      <td>1</td>\n",
       "      <td>0</td>\n",
       "      <td>0</td>\n",
       "      <td>0</td>\n",
       "      <td>0</td>\n",
       "      <td>...</td>\n",
       "      <td>0</td>\n",
       "      <td>0</td>\n",
       "      <td>0</td>\n",
       "      <td>0</td>\n",
       "      <td>0</td>\n",
       "      <td>0</td>\n",
       "      <td>0</td>\n",
       "      <td>0</td>\n",
       "      <td>0</td>\n",
       "      <td>0</td>\n",
       "    </tr>\n",
       "    <tr>\n",
       "      <th>1</th>\n",
       "      <td>200000000.0</td>\n",
       "      <td>129</td>\n",
       "      <td>2013-05-03 00:00:00</td>\n",
       "      <td>0</td>\n",
       "      <td>0</td>\n",
       "      <td>1</td>\n",
       "      <td>0</td>\n",
       "      <td>0</td>\n",
       "      <td>0</td>\n",
       "      <td>0</td>\n",
       "      <td>...</td>\n",
       "      <td>0</td>\n",
       "      <td>0</td>\n",
       "      <td>0</td>\n",
       "      <td>0</td>\n",
       "      <td>0</td>\n",
       "      <td>0</td>\n",
       "      <td>0</td>\n",
       "      <td>0</td>\n",
       "      <td>0</td>\n",
       "      <td>0</td>\n",
       "    </tr>\n",
       "    <tr>\n",
       "      <th>2</th>\n",
       "      <td>150000000.0</td>\n",
       "      <td>108</td>\n",
       "      <td>2013-11-22 00:00:00</td>\n",
       "      <td>0</td>\n",
       "      <td>1</td>\n",
       "      <td>0</td>\n",
       "      <td>0</td>\n",
       "      <td>0</td>\n",
       "      <td>0</td>\n",
       "      <td>0</td>\n",
       "      <td>...</td>\n",
       "      <td>0</td>\n",
       "      <td>0</td>\n",
       "      <td>0</td>\n",
       "      <td>0</td>\n",
       "      <td>0</td>\n",
       "      <td>0</td>\n",
       "      <td>0</td>\n",
       "      <td>0</td>\n",
       "      <td>0</td>\n",
       "      <td>0</td>\n",
       "    </tr>\n",
       "    <tr>\n",
       "      <th>3</th>\n",
       "      <td>76000000.0</td>\n",
       "      <td>98</td>\n",
       "      <td>2013-07-03 00:00:00</td>\n",
       "      <td>0</td>\n",
       "      <td>1</td>\n",
       "      <td>0</td>\n",
       "      <td>0</td>\n",
       "      <td>0</td>\n",
       "      <td>0</td>\n",
       "      <td>0</td>\n",
       "      <td>...</td>\n",
       "      <td>0</td>\n",
       "      <td>0</td>\n",
       "      <td>0</td>\n",
       "      <td>0</td>\n",
       "      <td>0</td>\n",
       "      <td>0</td>\n",
       "      <td>0</td>\n",
       "      <td>0</td>\n",
       "      <td>0</td>\n",
       "      <td>0</td>\n",
       "    </tr>\n",
       "    <tr>\n",
       "      <th>4</th>\n",
       "      <td>225000000.0</td>\n",
       "      <td>143</td>\n",
       "      <td>2013-06-14 00:00:00</td>\n",
       "      <td>0</td>\n",
       "      <td>0</td>\n",
       "      <td>1</td>\n",
       "      <td>0</td>\n",
       "      <td>0</td>\n",
       "      <td>0</td>\n",
       "      <td>0</td>\n",
       "      <td>...</td>\n",
       "      <td>0</td>\n",
       "      <td>0</td>\n",
       "      <td>0</td>\n",
       "      <td>0</td>\n",
       "      <td>0</td>\n",
       "      <td>0</td>\n",
       "      <td>0</td>\n",
       "      <td>0</td>\n",
       "      <td>0</td>\n",
       "      <td>1</td>\n",
       "    </tr>\n",
       "  </tbody>\n",
       "</table>\n",
       "<p>5 rows × 100 columns</p>\n",
       "</div>"
      ],
      "text/plain": [
       "        Budget  Runtime          ReleaseDate  Rating_G  Rating_PG  \\\n",
       "0  130000000.0      146  2013-11-22 00:00:00         0          0   \n",
       "1  200000000.0      129  2013-05-03 00:00:00         0          0   \n",
       "2  150000000.0      108  2013-11-22 00:00:00         0          1   \n",
       "3   76000000.0       98  2013-07-03 00:00:00         0          1   \n",
       "4  225000000.0      143  2013-06-14 00:00:00         0          0   \n",
       "\n",
       "   Rating_PG-13  Rating_R  Director_Adam McKay  Director_Alan Taylor  \\\n",
       "0             1         0                    0                     0   \n",
       "1             1         0                    0                     0   \n",
       "2             0         0                    0                     0   \n",
       "3             0         0                    0                     0   \n",
       "4             1         0                    0                     0   \n",
       "\n",
       "   Director_Alfonso Cuaron          ...           Director_Spike Jonze  \\\n",
       "0                        0          ...                              0   \n",
       "1                        0          ...                              0   \n",
       "2                        0          ...                              0   \n",
       "3                        0          ...                              0   \n",
       "4                        0          ...                              0   \n",
       "\n",
       "   Director_Stephen Frears  Director_Steve McQueen (II)  \\\n",
       "0                        0                            0   \n",
       "1                        0                            0   \n",
       "2                        0                            0   \n",
       "3                        0                            0   \n",
       "4                        0                            0   \n",
       "\n",
       "   Director_Steven Soderbergh  Director_Thor Freudenthal  \\\n",
       "0                           0                          0   \n",
       "1                           0                          0   \n",
       "2                           0                          0   \n",
       "3                           0                          0   \n",
       "4                           0                          0   \n",
       "\n",
       "   Director_Todd Phillips  Director_Tommy Wirkola  Director_Tyler Perry  \\\n",
       "0                       0                       0                     0   \n",
       "1                       0                       0                     0   \n",
       "2                       0                       0                     0   \n",
       "3                       0                       0                     0   \n",
       "4                       0                       0                     0   \n",
       "\n",
       "   Director_Woody Allen  Director_Zack Snyder  \n",
       "0                     0                     0  \n",
       "1                     0                     0  \n",
       "2                     0                     0  \n",
       "3                     0                     0  \n",
       "4                     0                     1  \n",
       "\n",
       "[5 rows x 100 columns]"
      ]
     },
     "execution_count": 154,
     "metadata": {},
     "output_type": "execute_result"
    }
   ],
   "source": [
    "# Encode Director and Rating\n",
    "Director = pd.get_dummies(X.Director, prefix = 'Director')\n",
    "Rating = pd.get_dummies(X.Rating, prefix = 'Rating')\n",
    "\n",
    "X = X.join([Rating, Director], how=\"inner\")\n",
    "X.drop(['Director', 'Rating'], axis=1, inplace=True)\n",
    "print(X.shape)\n",
    "X.head()"
   ]
  },
  {
   "cell_type": "code",
   "execution_count": 155,
   "metadata": {},
   "outputs": [
    {
     "name": "stdout",
     "output_type": "stream",
     "text": [
      "(100, 100)\n"
     ]
    },
    {
     "data": {
      "text/html": [
       "<div>\n",
       "<style>\n",
       "    .dataframe thead tr:only-child th {\n",
       "        text-align: right;\n",
       "    }\n",
       "\n",
       "    .dataframe thead th {\n",
       "        text-align: left;\n",
       "    }\n",
       "\n",
       "    .dataframe tbody tr th {\n",
       "        vertical-align: top;\n",
       "    }\n",
       "</style>\n",
       "<table border=\"1\" class=\"dataframe\">\n",
       "  <thead>\n",
       "    <tr style=\"text-align: right;\">\n",
       "      <th></th>\n",
       "      <th>Budget</th>\n",
       "      <th>Runtime</th>\n",
       "      <th>ReleaseDate</th>\n",
       "      <th>Rating_G</th>\n",
       "      <th>Rating_PG</th>\n",
       "      <th>Rating_PG-13</th>\n",
       "      <th>Rating_R</th>\n",
       "      <th>Director_Adam McKay</th>\n",
       "      <th>Director_Alan Taylor</th>\n",
       "      <th>Director_Alfonso Cuaron</th>\n",
       "      <th>...</th>\n",
       "      <th>Director_Spike Jonze</th>\n",
       "      <th>Director_Stephen Frears</th>\n",
       "      <th>Director_Steve McQueen (II)</th>\n",
       "      <th>Director_Steven Soderbergh</th>\n",
       "      <th>Director_Thor Freudenthal</th>\n",
       "      <th>Director_Todd Phillips</th>\n",
       "      <th>Director_Tommy Wirkola</th>\n",
       "      <th>Director_Tyler Perry</th>\n",
       "      <th>Director_Woody Allen</th>\n",
       "      <th>Director_Zack Snyder</th>\n",
       "    </tr>\n",
       "  </thead>\n",
       "  <tbody>\n",
       "    <tr>\n",
       "      <th>0</th>\n",
       "      <td>130000000.0</td>\n",
       "      <td>146</td>\n",
       "      <td>2013-11-22</td>\n",
       "      <td>0</td>\n",
       "      <td>0</td>\n",
       "      <td>1</td>\n",
       "      <td>0</td>\n",
       "      <td>0</td>\n",
       "      <td>0</td>\n",
       "      <td>0</td>\n",
       "      <td>...</td>\n",
       "      <td>0</td>\n",
       "      <td>0</td>\n",
       "      <td>0</td>\n",
       "      <td>0</td>\n",
       "      <td>0</td>\n",
       "      <td>0</td>\n",
       "      <td>0</td>\n",
       "      <td>0</td>\n",
       "      <td>0</td>\n",
       "      <td>0</td>\n",
       "    </tr>\n",
       "    <tr>\n",
       "      <th>1</th>\n",
       "      <td>200000000.0</td>\n",
       "      <td>129</td>\n",
       "      <td>2013-05-03</td>\n",
       "      <td>0</td>\n",
       "      <td>0</td>\n",
       "      <td>1</td>\n",
       "      <td>0</td>\n",
       "      <td>0</td>\n",
       "      <td>0</td>\n",
       "      <td>0</td>\n",
       "      <td>...</td>\n",
       "      <td>0</td>\n",
       "      <td>0</td>\n",
       "      <td>0</td>\n",
       "      <td>0</td>\n",
       "      <td>0</td>\n",
       "      <td>0</td>\n",
       "      <td>0</td>\n",
       "      <td>0</td>\n",
       "      <td>0</td>\n",
       "      <td>0</td>\n",
       "    </tr>\n",
       "    <tr>\n",
       "      <th>2</th>\n",
       "      <td>150000000.0</td>\n",
       "      <td>108</td>\n",
       "      <td>2013-11-22</td>\n",
       "      <td>0</td>\n",
       "      <td>1</td>\n",
       "      <td>0</td>\n",
       "      <td>0</td>\n",
       "      <td>0</td>\n",
       "      <td>0</td>\n",
       "      <td>0</td>\n",
       "      <td>...</td>\n",
       "      <td>0</td>\n",
       "      <td>0</td>\n",
       "      <td>0</td>\n",
       "      <td>0</td>\n",
       "      <td>0</td>\n",
       "      <td>0</td>\n",
       "      <td>0</td>\n",
       "      <td>0</td>\n",
       "      <td>0</td>\n",
       "      <td>0</td>\n",
       "    </tr>\n",
       "    <tr>\n",
       "      <th>3</th>\n",
       "      <td>76000000.0</td>\n",
       "      <td>98</td>\n",
       "      <td>2013-07-03</td>\n",
       "      <td>0</td>\n",
       "      <td>1</td>\n",
       "      <td>0</td>\n",
       "      <td>0</td>\n",
       "      <td>0</td>\n",
       "      <td>0</td>\n",
       "      <td>0</td>\n",
       "      <td>...</td>\n",
       "      <td>0</td>\n",
       "      <td>0</td>\n",
       "      <td>0</td>\n",
       "      <td>0</td>\n",
       "      <td>0</td>\n",
       "      <td>0</td>\n",
       "      <td>0</td>\n",
       "      <td>0</td>\n",
       "      <td>0</td>\n",
       "      <td>0</td>\n",
       "    </tr>\n",
       "    <tr>\n",
       "      <th>4</th>\n",
       "      <td>225000000.0</td>\n",
       "      <td>143</td>\n",
       "      <td>2013-06-14</td>\n",
       "      <td>0</td>\n",
       "      <td>0</td>\n",
       "      <td>1</td>\n",
       "      <td>0</td>\n",
       "      <td>0</td>\n",
       "      <td>0</td>\n",
       "      <td>0</td>\n",
       "      <td>...</td>\n",
       "      <td>0</td>\n",
       "      <td>0</td>\n",
       "      <td>0</td>\n",
       "      <td>0</td>\n",
       "      <td>0</td>\n",
       "      <td>0</td>\n",
       "      <td>0</td>\n",
       "      <td>0</td>\n",
       "      <td>0</td>\n",
       "      <td>1</td>\n",
       "    </tr>\n",
       "  </tbody>\n",
       "</table>\n",
       "<p>5 rows × 100 columns</p>\n",
       "</div>"
      ],
      "text/plain": [
       "        Budget  Runtime ReleaseDate  Rating_G  Rating_PG  Rating_PG-13  \\\n",
       "0  130000000.0      146  2013-11-22         0          0             1   \n",
       "1  200000000.0      129  2013-05-03         0          0             1   \n",
       "2  150000000.0      108  2013-11-22         0          1             0   \n",
       "3   76000000.0       98  2013-07-03         0          1             0   \n",
       "4  225000000.0      143  2013-06-14         0          0             1   \n",
       "\n",
       "   Rating_R  Director_Adam McKay  Director_Alan Taylor  \\\n",
       "0         0                    0                     0   \n",
       "1         0                    0                     0   \n",
       "2         0                    0                     0   \n",
       "3         0                    0                     0   \n",
       "4         0                    0                     0   \n",
       "\n",
       "   Director_Alfonso Cuaron          ...           Director_Spike Jonze  \\\n",
       "0                        0          ...                              0   \n",
       "1                        0          ...                              0   \n",
       "2                        0          ...                              0   \n",
       "3                        0          ...                              0   \n",
       "4                        0          ...                              0   \n",
       "\n",
       "   Director_Stephen Frears  Director_Steve McQueen (II)  \\\n",
       "0                        0                            0   \n",
       "1                        0                            0   \n",
       "2                        0                            0   \n",
       "3                        0                            0   \n",
       "4                        0                            0   \n",
       "\n",
       "   Director_Steven Soderbergh  Director_Thor Freudenthal  \\\n",
       "0                           0                          0   \n",
       "1                           0                          0   \n",
       "2                           0                          0   \n",
       "3                           0                          0   \n",
       "4                           0                          0   \n",
       "\n",
       "   Director_Todd Phillips  Director_Tommy Wirkola  Director_Tyler Perry  \\\n",
       "0                       0                       0                     0   \n",
       "1                       0                       0                     0   \n",
       "2                       0                       0                     0   \n",
       "3                       0                       0                     0   \n",
       "4                       0                       0                     0   \n",
       "\n",
       "   Director_Woody Allen  Director_Zack Snyder  \n",
       "0                     0                     0  \n",
       "1                     0                     0  \n",
       "2                     0                     0  \n",
       "3                     0                     0  \n",
       "4                     0                     1  \n",
       "\n",
       "[5 rows x 100 columns]"
      ]
     },
     "execution_count": 155,
     "metadata": {},
     "output_type": "execute_result"
    }
   ],
   "source": [
    "# Transform the date\n",
    "X['ReleaseDate'] = pd.to_datetime(X['ReleaseDate'])\n",
    "# X.set_index('ReleaseDate', inplace=True)\n",
    "print(X.shape)\n",
    "X.head()"
   ]
  },
  {
   "cell_type": "markdown",
   "metadata": {},
   "source": [
    "__Challenge 1__  \n",
    "Build a linear model that uses only a constant term (a column of ones) to predict a continuous outcome (like domestic total gross). How can you interpret the results of this model? What does it predict? Make a plot of predictions against actual outcome. Make a histogram of residuals. How are the residuals distributed?"
   ]
  },
  {
   "cell_type": "code",
   "execution_count": 129,
   "metadata": {},
   "outputs": [
    {
     "data": {
      "text/plain": [
       "Text(0,0.5,'Residuals')"
      ]
     },
     "execution_count": 129,
     "metadata": {},
     "output_type": "execute_result"
    },
    {
     "data": {
      "image/png": "[encoded data removed]",
      "text/plain": [
       "<Figure size 1080x360 with 2 Axes>"
      ]
     },
     "metadata": {},
     "output_type": "display_data"
    }
   ],
   "source": [
    "# 1.006e+08 is the average, a horizontal line that predicts the Domestial Total Gross. \n",
    "# Residuals are all the same, because we gave everyone the same prediction, therefore not normally distributed. \n",
    "constants = [1]*len(y)\n",
    "model = sm.OLS(y, constants)\n",
    "fit = model.fit()\n",
    "fit.summary()\n",
    "\n",
    "pred = fit.predict(constants)\n",
    "pred = pd.DataFrame(pred, columns=['DomesticTotalGross'])\n",
    "\n",
    "plt.figure(figsize=(15,5))\n",
    "res = y - pd.DataFrame(pred, columns=['DomesticTotalGross'])\n",
    "\n",
    "plt.subplot(1, 2, 1)\n",
    "plt.scatter(y, pred)\n",
    "plt.plot(np.linspace(y.min()-0.01*np.mean(y), y.max()+0.01*np.mean(y), 1000),\n",
    "     np.linspace(y.min()-0.01*np.mean(y), y.max()+0.01*np.mean(y), 1000),\n",
    "    color='m', linestyle='--')\n",
    "plt.title(\"Actual vs. Predicted\", size=15)\n",
    "plt.xlabel(\"Actual\", size=15)\n",
    "plt.ylabel(\"Predicted\", size=15)\n",
    "\n",
    "plt.subplot(1, 2, 2)\n",
    "plt.scatter(pred, res)\n",
    "plt.plot(np.linspace(pred.min()-0.01*np.mean(pred), pred.max()+0.01*np.mean(pred), 1000),\n",
    "         np.linspace(0, 0, 1000),\n",
    "         color='m', linestyle='--')\n",
    "plt.title(\"Residual plot of Y-Predict\", size=15)\n",
    "plt.xlabel(\"Prediction\", size=15)\n",
    "plt.ylabel(\"Residuals\", size=15)"
   ]
  },
  {
   "cell_type": "markdown",
   "metadata": {},
   "source": [
    "__Challenge 2__  \n",
    "Repeat the process of challenge one, but also add one continuous (numeric) predictor variable. Also add plots of model prediction against your feature variable and residuals against feature variable. How can you interpret what's happening in the model?  \n",
    "\n",
    "A: The residuals indicate there is heterosdascecity. The variance grows as y grows."
   ]
  },
  {
   "cell_type": "code",
   "execution_count": 130,
   "metadata": {},
   "outputs": [
    {
     "data": {
      "text/plain": [
       "0"
      ]
     },
     "execution_count": 130,
     "metadata": {},
     "output_type": "execute_result"
    }
   ],
   "source": [
    "X2 = pd.DataFrame(X['Budget'])\n",
    "X2['Budget'][X2['Budget'].isnull()]=X2['Budget'].median()\n",
    "X2['Budget'].isnull().sum()"
   ]
  },
  {
   "cell_type": "code",
   "execution_count": 134,
   "metadata": {},
   "outputs": [
    {
     "data": {
      "text/plain": [
       "Text(0,0.5,'Residuals')"
      ]
     },
     "execution_count": 134,
     "metadata": {},
     "output_type": "execute_result"
    },
    {
     "data": {
      "image/png": "[encoded data removed]",
      "text/plain": [
       "<Figure size 1080x360 with 2 Axes>"
      ]
     },
     "metadata": {},
     "output_type": "display_data"
    }
   ],
   "source": [
    "model = sm.OLS(y, sm.add_constant(X2))\n",
    "fit = model.fit()\n",
    "fit.summary()\n",
    "\n",
    "pred = fit.predict(sm.add_constant(X2))\n",
    "pred = pd.DataFrame(pred, columns=['DomesticTotalGross'])\n",
    "\n",
    "plt.figure(figsize=(15,5))\n",
    "res = y - pd.DataFrame(pred, columns=['DomesticTotalGross'])\n",
    "\n",
    "plt.subplot(1, 2, 1)\n",
    "plt.scatter(y, pred)\n",
    "plt.plot(np.linspace(y.min()-0.01*np.mean(y), y.max()+0.01*np.mean(y), 1000),\n",
    "     np.linspace(y.min()-0.01*np.mean(y), y.max()+0.01*np.mean(y), 1000),\n",
    "    color='m', linestyle='--')\n",
    "plt.title(\"Actual vs. Predicted\", size=15)\n",
    "plt.xlabel(\"Actual\", size=15)\n",
    "plt.ylabel(\"Predicted\", size=15)\n",
    "\n",
    "plt.subplot(1, 2, 2)\n",
    "plt.scatter(pred, res)\n",
    "plt.plot(np.linspace(pred.min()-0.01*np.mean(pred), pred.max()+0.01*np.mean(pred), 1000),\n",
    "         np.linspace(0, 0, 1000),\n",
    "         color='m', linestyle='--')\n",
    "plt.title(\"Residual plot of Y-Predict\", size=15)\n",
    "plt.xlabel(\"Prediction\", size=15)\n",
    "plt.ylabel(\"Residuals\", size=15)"
   ]
  },
  {
   "cell_type": "markdown",
   "metadata": {},
   "source": [
    "__Challenge 3__  \n",
    "Repeat the process of challenge 1, but add a categorical feature (like genre). You'll have to convert a column of text into a number of numerical columns (\"dummy variables\"). How can you interpret what's happening in the model?\n",
    "\n",
    "A: still seeing heterosdascecity"
   ]
  },
  {
   "cell_type": "code",
   "execution_count": 144,
   "metadata": {},
   "outputs": [
    {
     "data": {
      "text/html": [
       "<div>\n",
       "<style>\n",
       "    .dataframe thead tr:only-child th {\n",
       "        text-align: right;\n",
       "    }\n",
       "\n",
       "    .dataframe thead th {\n",
       "        text-align: left;\n",
       "    }\n",
       "\n",
       "    .dataframe tbody tr th {\n",
       "        vertical-align: top;\n",
       "    }\n",
       "</style>\n",
       "<table border=\"1\" class=\"dataframe\">\n",
       "  <thead>\n",
       "    <tr style=\"text-align: right;\">\n",
       "      <th></th>\n",
       "      <th>Budget</th>\n",
       "      <th>Rating_G</th>\n",
       "      <th>Rating_PG</th>\n",
       "      <th>Rating_PG-13</th>\n",
       "      <th>Rating_R</th>\n",
       "    </tr>\n",
       "  </thead>\n",
       "  <tbody>\n",
       "    <tr>\n",
       "      <th>0</th>\n",
       "      <td>130000000.0</td>\n",
       "      <td>0</td>\n",
       "      <td>0</td>\n",
       "      <td>1</td>\n",
       "      <td>0</td>\n",
       "    </tr>\n",
       "    <tr>\n",
       "      <th>1</th>\n",
       "      <td>200000000.0</td>\n",
       "      <td>0</td>\n",
       "      <td>0</td>\n",
       "      <td>1</td>\n",
       "      <td>0</td>\n",
       "    </tr>\n",
       "    <tr>\n",
       "      <th>2</th>\n",
       "      <td>150000000.0</td>\n",
       "      <td>0</td>\n",
       "      <td>1</td>\n",
       "      <td>0</td>\n",
       "      <td>0</td>\n",
       "    </tr>\n",
       "    <tr>\n",
       "      <th>3</th>\n",
       "      <td>76000000.0</td>\n",
       "      <td>0</td>\n",
       "      <td>1</td>\n",
       "      <td>0</td>\n",
       "      <td>0</td>\n",
       "    </tr>\n",
       "    <tr>\n",
       "      <th>4</th>\n",
       "      <td>225000000.0</td>\n",
       "      <td>0</td>\n",
       "      <td>0</td>\n",
       "      <td>1</td>\n",
       "      <td>0</td>\n",
       "    </tr>\n",
       "  </tbody>\n",
       "</table>\n",
       "</div>"
      ],
      "text/plain": [
       "        Budget  Rating_G  Rating_PG  Rating_PG-13  Rating_R\n",
       "0  130000000.0         0          0             1         0\n",
       "1  200000000.0         0          0             1         0\n",
       "2  150000000.0         0          1             0         0\n",
       "3   76000000.0         0          1             0         0\n",
       "4  225000000.0         0          0             1         0"
      ]
     },
     "execution_count": 144,
     "metadata": {},
     "output_type": "execute_result"
    }
   ],
   "source": [
    "X3 = X[['Budget', 'Rating_G', 'Rating_PG', 'Rating_PG-13', 'Rating_R']]\n",
    "X3['Budget'][X3['Budget'].isnull()]=X3['Budget'].median()\n",
    "X3['Budget'].isnull().sum()\n",
    "X3.head()"
   ]
  },
  {
   "cell_type": "code",
   "execution_count": 140,
   "metadata": {},
   "outputs": [
    {
     "data": {
      "text/plain": [
       "Text(0,0.5,'Residuals')"
      ]
     },
     "execution_count": 140,
     "metadata": {},
     "output_type": "execute_result"
    },
    {
     "data": {
      "image/png": "[encoded data removed]",
      "text/plain": [
       "<Figure size 1080x360 with 2 Axes>"
      ]
     },
     "metadata": {},
     "output_type": "display_data"
    }
   ],
   "source": [
    "model = sm.OLS(y, sm.add_constant(X3))\n",
    "fit = model.fit()\n",
    "fit.summary()\n",
    "\n",
    "pred = fit.predict(sm.add_constant(X3))\n",
    "pred = pd.DataFrame(pred, columns=['DomesticTotalGross'])\n",
    "\n",
    "plt.figure(figsize=(15,5))\n",
    "res = y - pd.DataFrame(pred, columns=['DomesticTotalGross'])\n",
    "\n",
    "plt.subplot(1, 2, 1)\n",
    "plt.scatter(y, pred)\n",
    "plt.plot(np.linspace(y.min()-0.01*np.mean(y), y.max()+0.01*np.mean(y), 1000),\n",
    "     np.linspace(y.min()-0.01*np.mean(y), y.max()+0.01*np.mean(y), 1000),\n",
    "    color='m', linestyle='--')\n",
    "plt.title(\"Actual vs. Predicted\", size=15)\n",
    "plt.xlabel(\"Actual\", size=15)\n",
    "plt.ylabel(\"Predicted\", size=15)\n",
    "\n",
    "plt.subplot(1, 2, 2)\n",
    "plt.scatter(pred, res)\n",
    "plt.plot(np.linspace(pred.min()-0.01*np.mean(pred), pred.max()+0.01*np.mean(pred), 1000),\n",
    "         np.linspace(0, 0, 1000),\n",
    "         color='m', linestyle='--')\n",
    "plt.title(\"Residual plot of Y-Predict\", size=15)\n",
    "plt.xlabel(\"Prediction\", size=15)\n",
    "plt.ylabel(\"Residuals\", size=15)"
   ]
  },
  {
   "cell_type": "markdown",
   "metadata": {
    "collapsed": true
   },
   "source": [
    "__Challenge 4__  \n",
    "Enhance your model further by adding more features and/or transforming existing features. Think about how you build the model matrix and how to interpret what the model is doing.\n",
    "\n",
    "A: added more features, logged the budget and gross domestic total, but did not improve the residuals."
   ]
  },
  {
   "cell_type": "code",
   "execution_count": 179,
   "metadata": {},
   "outputs": [
    {
     "name": "stdout",
     "output_type": "stream",
     "text": [
      "(100, 6)\n"
     ]
    },
    {
     "data": {
      "text/html": [
       "<div>\n",
       "<style>\n",
       "    .dataframe thead tr:only-child th {\n",
       "        text-align: right;\n",
       "    }\n",
       "\n",
       "    .dataframe thead th {\n",
       "        text-align: left;\n",
       "    }\n",
       "\n",
       "    .dataframe tbody tr th {\n",
       "        vertical-align: top;\n",
       "    }\n",
       "</style>\n",
       "<table border=\"1\" class=\"dataframe\">\n",
       "  <thead>\n",
       "    <tr style=\"text-align: right;\">\n",
       "      <th></th>\n",
       "      <th>Runtime</th>\n",
       "      <th>Rating_G</th>\n",
       "      <th>Rating_PG</th>\n",
       "      <th>Rating_PG-13</th>\n",
       "      <th>Rating_R</th>\n",
       "      <th>Budget_log</th>\n",
       "    </tr>\n",
       "  </thead>\n",
       "  <tbody>\n",
       "    <tr>\n",
       "      <th>0</th>\n",
       "      <td>146</td>\n",
       "      <td>0</td>\n",
       "      <td>0</td>\n",
       "      <td>1</td>\n",
       "      <td>0</td>\n",
       "      <td>18.683045</td>\n",
       "    </tr>\n",
       "    <tr>\n",
       "      <th>1</th>\n",
       "      <td>129</td>\n",
       "      <td>0</td>\n",
       "      <td>0</td>\n",
       "      <td>1</td>\n",
       "      <td>0</td>\n",
       "      <td>19.113828</td>\n",
       "    </tr>\n",
       "    <tr>\n",
       "      <th>2</th>\n",
       "      <td>108</td>\n",
       "      <td>0</td>\n",
       "      <td>1</td>\n",
       "      <td>0</td>\n",
       "      <td>0</td>\n",
       "      <td>18.826146</td>\n",
       "    </tr>\n",
       "    <tr>\n",
       "      <th>3</th>\n",
       "      <td>98</td>\n",
       "      <td>0</td>\n",
       "      <td>1</td>\n",
       "      <td>0</td>\n",
       "      <td>0</td>\n",
       "      <td>18.146244</td>\n",
       "    </tr>\n",
       "    <tr>\n",
       "      <th>4</th>\n",
       "      <td>143</td>\n",
       "      <td>0</td>\n",
       "      <td>0</td>\n",
       "      <td>1</td>\n",
       "      <td>0</td>\n",
       "      <td>19.231611</td>\n",
       "    </tr>\n",
       "  </tbody>\n",
       "</table>\n",
       "</div>"
      ],
      "text/plain": [
       "   Runtime  Rating_G  Rating_PG  Rating_PG-13  Rating_R  Budget_log\n",
       "0      146         0          0             1         0   18.683045\n",
       "1      129         0          0             1         0   19.113828\n",
       "2      108         0          1             0         0   18.826146\n",
       "3       98         0          1             0         0   18.146244\n",
       "4      143         0          0             1         0   19.231611"
      ]
     },
     "execution_count": 179,
     "metadata": {},
     "output_type": "execute_result"
    }
   ],
   "source": [
    "X4=X[['Budget', 'Runtime', 'Rating_G', 'Rating_PG', 'Rating_PG-13', 'Rating_R']]\n",
    "X4['Budget'][X4['Budget'].isnull()]=X4['Budget'].median()\n",
    "X4['Budget_log']=np.log(X4['Budget'])\n",
    "X4.drop(['Budget'], axis=1, inplace=True)\n",
    "print(X4.shape)\n",
    "X4.head()"
   ]
  },
  {
   "cell_type": "code",
   "execution_count": 181,
   "metadata": {},
   "outputs": [
    {
     "data": {
      "text/html": [
       "<div>\n",
       "<style>\n",
       "    .dataframe thead tr:only-child th {\n",
       "        text-align: right;\n",
       "    }\n",
       "\n",
       "    .dataframe thead th {\n",
       "        text-align: left;\n",
       "    }\n",
       "\n",
       "    .dataframe tbody tr th {\n",
       "        vertical-align: top;\n",
       "    }\n",
       "</style>\n",
       "<table border=\"1\" class=\"dataframe\">\n",
       "  <thead>\n",
       "    <tr style=\"text-align: right;\">\n",
       "      <th></th>\n",
       "      <th>DomesticTotalGross</th>\n",
       "    </tr>\n",
       "  </thead>\n",
       "  <tbody>\n",
       "    <tr>\n",
       "      <th>0</th>\n",
       "      <td>19.866818</td>\n",
       "    </tr>\n",
       "    <tr>\n",
       "      <th>1</th>\n",
       "      <td>19.829260</td>\n",
       "    </tr>\n",
       "    <tr>\n",
       "      <th>2</th>\n",
       "      <td>19.808818</td>\n",
       "    </tr>\n",
       "    <tr>\n",
       "      <th>3</th>\n",
       "      <td>19.723760</td>\n",
       "    </tr>\n",
       "    <tr>\n",
       "      <th>4</th>\n",
       "      <td>19.488990</td>\n",
       "    </tr>\n",
       "  </tbody>\n",
       "</table>\n",
       "</div>"
      ],
      "text/plain": [
       "   DomesticTotalGross\n",
       "0           19.866818\n",
       "1           19.829260\n",
       "2           19.808818\n",
       "3           19.723760\n",
       "4           19.488990"
      ]
     },
     "execution_count": 181,
     "metadata": {},
     "output_type": "execute_result"
    }
   ],
   "source": [
    "y_log=np.log(y)\n",
    "y_log.head()"
   ]
  },
  {
   "cell_type": "code",
   "execution_count": 194,
   "metadata": {},
   "outputs": [
    {
     "data": {
      "text/plain": [
       "Text(0,0.5,'Residuals')"
      ]
     },
     "execution_count": 194,
     "metadata": {},
     "output_type": "execute_result"
    },
    {
     "data": {
      "image/png": "[encoded data removed]",
      "text/plain": [
       "<Figure size 1080x360 with 2 Axes>"
      ]
     },
     "metadata": {},
     "output_type": "display_data"
    }
   ],
   "source": [
    "model = sm.OLS(y_log, sm.add_constant(X4))\n",
    "fit = model.fit()\n",
    "fit.summary()\n",
    "\n",
    "pred_orig = fit.predict(sm.add_constant(X4))\n",
    "pred_orig = pd.DataFrame(pred_orig, columns=['DomesticTotalGross'])\n",
    "pred2 = np.exp(pred_orig)\n",
    "\n",
    "plt.figure(figsize=(15,5))\n",
    "res = y - pd.DataFrame(pred2, columns=['DomesticTotalGross'])\n",
    "\n",
    "plt.subplot(1, 2, 1)\n",
    "plt.scatter(y, pred2)\n",
    "plt.plot(np.linspace(y.min()-0.01*np.mean(y), y.max()+0.01*np.mean(y), 1000),\n",
    "     np.linspace(y.min()-0.01*np.mean(y), y.max()+0.01*np.mean(y), 1000),\n",
    "    color='m', linestyle='--')\n",
    "plt.title(\"Actual vs. Predicted\", size=15)\n",
    "plt.xlabel(\"Actual\", size=15)\n",
    "plt.ylabel(\"Predicted\", size=15)\n",
    "\n",
    "plt.subplot(1, 2, 2)\n",
    "plt.scatter(pred2, res)\n",
    "plt.plot(np.linspace(pred.min()-0.01*np.mean(pred), pred.max()+0.01*np.mean(pred), 1000),\n",
    "         np.linspace(0, 0, 1000),\n",
    "         color='m', linestyle='--')\n",
    "plt.title(\"Residual plot of Y-Predict\", size=15)\n",
    "plt.xlabel(\"Prediction\", size=15)\n",
    "plt.ylabel(\"Residuals\", size=15)"
   ]
  },
  {
   "cell_type": "markdown",
   "metadata": {
    "collapsed": true
   },
   "source": [
    "__Challenge 5__\n",
    "Fitting and checking predictions on the exact same data set can be misleading. Divide your data into two sets: a training and a test set (roughly 75% training, 25% test is a fine split). Fit a model on the training set, check the predictions (by plotting versus actual values) in the test set.  \n",
    "\n",
    "A: "
   ]
  },
  {
   "cell_type": "code",
   "execution_count": 216,
   "metadata": {},
   "outputs": [
    {
     "data": {
      "text/plain": [
       "(25, 1)"
      ]
     },
     "execution_count": 216,
     "metadata": {},
     "output_type": "execute_result"
    }
   ],
   "source": [
    "y_test.shape"
   ]
  },
  {
   "cell_type": "code",
   "execution_count": 224,
   "metadata": {},
   "outputs": [
    {
     "data": {
      "text/plain": [
       "Text(0,0.5,'Residuals')"
      ]
     },
     "execution_count": 224,
     "metadata": {},
     "output_type": "execute_result"
    },
    {
     "data": {
      "image/png": "[encoded data removed]",
      "text/plain": [
       "<Figure size 1080x360 with 2 Axes>"
      ]
     },
     "metadata": {},
     "output_type": "display_data"
    }
   ],
   "source": [
    "X_train, X_test, y_train, y_test = train_test_split(X4, y_log, test_size=0.25, random_state=99)\n",
    "\n",
    "model5 = sm.OLS(y_train, sm.add_constant(X_train))\n",
    "fit5 = model5.fit()\n",
    "fit5.summary()\n",
    "\n",
    "pred5 = fit5.predict(sm.add_constant(X_test))\n",
    "pred5 = pd.DataFrame(pred5, columns=['DomesticTotalGross'])\n",
    "pred5 = np.exp(pred5)\n",
    "y_test_orig=np.exp(y_test)\n",
    "\n",
    "plt.figure(figsize=(15,5))\n",
    "res = y_test_orig - pd.DataFrame(pred5, columns=['DomesticTotalGross'])\n",
    "\n",
    "plt.subplot(1, 2, 1)\n",
    "plt.scatter(y_test_orig, pred5)\n",
    "plt.plot(np.linspace(y.min()-0.01*np.mean(y), y.max()+0.01*np.mean(y), 1000),\n",
    "     np.linspace(y.min()-0.01*np.mean(y), y.max()+0.01*np.mean(y), 1000),\n",
    "    color='m', linestyle='--')\n",
    "plt.title(\"Actual vs. Predicted\", size=15)\n",
    "plt.xlabel(\"Actual\", size=15)\n",
    "plt.ylabel(\"Predicted\", size=15)\n",
    "\n",
    "plt.subplot(1, 2, 2)\n",
    "plt.scatter(pred5, res)\n",
    "plt.plot(np.linspace(pred.min()-0.01*np.mean(pred5), pred.max()+0.01*np.mean(pred5), 1000),\n",
    "         np.linspace(0, 0, 1000),\n",
    "         color='m', linestyle='--')\n",
    "plt.title(\"Residual plot of Y-Predict\", size=15)\n",
    "plt.xlabel(\"Prediction\", size=15)\n",
    "plt.ylabel(\"Residuals\", size=15)"
   ]
  }
 ],
 "metadata": {
  "kernelspec": {
   "display_name": "Python 3",
   "language": "python",
   "name": "python3"
  },
  "language_info": {
   "codemirror_mode": {
    "name": "ipython",
    "version": 3
   },
   "file_extension": ".py",
   "mimetype": "text/x-python",
   "name": "python",
   "nbconvert_exporter": "python",
   "pygments_lexer": "ipython3",
   "version": "3.6.0"
  }
 },
 "nbformat": 4,
 "nbformat_minor": 2
}
