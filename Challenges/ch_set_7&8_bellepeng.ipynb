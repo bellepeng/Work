{
 "cells": [
  {
   "cell_type": "markdown",
   "metadata": {},
   "source": [
    "### Challenge 7 Topic:  Classification\n",
    "\n",
    "**Settings:  Where applicable, use test_size=.30, random_state=4444.  This will permit comparison of results across users.\n",
    "\n",
    "__Data:__  \n",
    "Challenges 1-10:  congressional votes Congressional Voting Records Dataset  \n",
    "Challenge 11:     movie data  \n",
    "Challenge 12:     breast cancer surgery Haberman Survival Dataset  "
   ]
  },
  {
   "cell_type": "code",
   "execution_count": 425,
   "metadata": {
    "ExecuteTime": {
     "end_time": "2018-07-31T01:41:28.827539Z",
     "start_time": "2018-07-31T01:41:28.736288Z"
    },
    "collapsed": true
   },
   "outputs": [],
   "source": [
    "import warnings\n",
    "warnings.filterwarnings('ignore')\n",
    "warnings.filterwarnings(\"ignore\", category=DeprecationWarning)\n",
    "\n",
    "import pandas as pd\n",
    "import numpy as np\n",
    "from io import StringIO\n",
    "\n",
    "from sklearn.linear_model import Lasso\n",
    "from sklearn.linear_model import LogisticRegression\n",
    "from sklearn.neighbors import KNeighborsClassifier\n",
    "from sklearn import svm\n",
    "from sklearn.decomposition import PCA\n",
    "from sklearn.tree import DecisionTreeClassifier\n",
    "from sklearn.svm import LinearSVC\n",
    "from sklearn.svm import SVC\n",
    "from sklearn.ensemble import RandomForestClassifier\n",
    "from sklearn.linear_model import LogisticRegression\n",
    "\n",
    "from sklearn.model_selection import train_test_split\n",
    "from sklearn.preprocessing import StandardScaler\n",
    "from sklearn.cross_validation import cross_val_score\n",
    "from sklearn.model_selection import GridSearchCV\n",
    "from sklearn.model_selection import RandomizedSearchCV\n",
    "from sklearn.learning_curve import learning_curve\n",
    "\n",
    "from sklearn import metrics\n",
    "from sklearn.metrics import precision_score, recall_score, accuracy_score, roc_auc_score\n",
    "from sklearn.metrics import confusion_matrix\n",
    "from sklearn.metrics import precision_score, recall_score, precision_recall_curve, f1_score, fbeta_score\n",
    "\n",
    "import matplotlib.pyplot as plt\n",
    "%matplotlib inline\n",
    "import seaborn as sns\n",
    "sns.set(font_scale=1.2)\n",
    "plt.style.use('fivethirtyeight')\n",
    "from mlxtend.plotting import plot_decision_regions\n",
    "from mpl_toolkits.mplot3d import Axes3D\n"
   ]
  },
  {
   "cell_type": "markdown",
   "metadata": {},
   "source": [
    "__Challenge 1__\n",
    "\n",
    "Load the data into a pandas dataframe. Replace 'y's with 1s, 'n's with 0s.\n",
    "\n",
    "Now, almost every representative has a ?. This represents the absence of a vote (they were absent or some other similar reason). If we dropped all the rows that had a ?, we would throw out most of our data. Instead, we will replace ? with the best guess in the Bayesian sense: in the absence of any other information, we will say that the probability of the representative saying YES is the ratio of others that said YES over the whole votes.\n",
    "\n",
    "So, convert each ? to this probability (when yes=1 and no=0, this is the mean of the column)"
   ]
  },
  {
   "cell_type": "code",
   "execution_count": 426,
   "metadata": {
    "ExecuteTime": {
     "end_time": "2018-07-31T01:41:29.612896Z",
     "start_time": "2018-07-31T01:41:29.603223Z"
    },
    "code_folding": [
     0
    ],
    "collapsed": true
   },
   "outputs": [],
   "source": [
    "names=[\n",
    "    'Handicapped-infants' ,\n",
    "    'water-project-cost-sharing',\n",
    "    'adoption-of-the-budget-resolution',\n",
    "    'physician-fee-freeze',\n",
    "    'el-salvador-aid',\n",
    "    'religious-groups-in-schools',\n",
    "    'anti-satellite-test-ban',\n",
    "    'aid-to-nicaraguan-contras',\n",
    "    'mx-missile',\n",
    "    'immigration',\n",
    "    'synfuels-corporation-cutback',\n",
    "    'education-spending',\n",
    "    'superfund-right-to-sue',\n",
    "    'crime',\n",
    "    'duty-free-exports',\n",
    "    'export-administration-act-south-africa',\n",
    "    'Class_Name'\n",
    "    ]"
   ]
  },
  {
   "cell_type": "code",
   "execution_count": 427,
   "metadata": {
    "ExecuteTime": {
     "end_time": "2018-07-31T01:41:30.490853Z",
     "start_time": "2018-07-31T01:41:30.425312Z"
    },
    "code_folding": [
     0
    ]
   },
   "outputs": [
    {
     "name": "stdout",
     "output_type": "stream",
     "text": [
      "(435, 17)\n"
     ]
    },
    {
     "data": {
      "text/html": [
       "<div>\n",
       "<style>\n",
       "    .dataframe thead tr:only-child th {\n",
       "        text-align: right;\n",
       "    }\n",
       "\n",
       "    .dataframe thead th {\n",
       "        text-align: left;\n",
       "    }\n",
       "\n",
       "    .dataframe tbody tr th {\n",
       "        vertical-align: top;\n",
       "    }\n",
       "</style>\n",
       "<table border=\"1\" class=\"dataframe\">\n",
       "  <thead>\n",
       "    <tr style=\"text-align: right;\">\n",
       "      <th></th>\n",
       "      <th>Handicapped-infants</th>\n",
       "      <th>water-project-cost-sharing</th>\n",
       "      <th>adoption-of-the-budget-resolution</th>\n",
       "      <th>physician-fee-freeze</th>\n",
       "      <th>el-salvador-aid</th>\n",
       "      <th>religious-groups-in-schools</th>\n",
       "      <th>anti-satellite-test-ban</th>\n",
       "      <th>aid-to-nicaraguan-contras</th>\n",
       "      <th>mx-missile</th>\n",
       "      <th>immigration</th>\n",
       "      <th>synfuels-corporation-cutback</th>\n",
       "      <th>education-spending</th>\n",
       "      <th>superfund-right-to-sue</th>\n",
       "      <th>crime</th>\n",
       "      <th>duty-free-exports</th>\n",
       "      <th>export-administration-act-south-africa</th>\n",
       "      <th>Class_Name</th>\n",
       "    </tr>\n",
       "  </thead>\n",
       "  <tbody>\n",
       "    <tr>\n",
       "      <th>0</th>\n",
       "      <td>0.00</td>\n",
       "      <td>1.0</td>\n",
       "      <td>0.0</td>\n",
       "      <td>1.00</td>\n",
       "      <td>1.0</td>\n",
       "      <td>1.0</td>\n",
       "      <td>0.0</td>\n",
       "      <td>0.0</td>\n",
       "      <td>0.0</td>\n",
       "      <td>1.0</td>\n",
       "      <td>0.36</td>\n",
       "      <td>1.00</td>\n",
       "      <td>1.0</td>\n",
       "      <td>1.0</td>\n",
       "      <td>0.0</td>\n",
       "      <td>1.00</td>\n",
       "      <td>republican.</td>\n",
       "    </tr>\n",
       "    <tr>\n",
       "      <th>1</th>\n",
       "      <td>0.00</td>\n",
       "      <td>1.0</td>\n",
       "      <td>0.0</td>\n",
       "      <td>1.00</td>\n",
       "      <td>1.0</td>\n",
       "      <td>1.0</td>\n",
       "      <td>0.0</td>\n",
       "      <td>0.0</td>\n",
       "      <td>0.0</td>\n",
       "      <td>0.0</td>\n",
       "      <td>0.00</td>\n",
       "      <td>1.00</td>\n",
       "      <td>1.0</td>\n",
       "      <td>1.0</td>\n",
       "      <td>0.0</td>\n",
       "      <td>0.81</td>\n",
       "      <td>republican.</td>\n",
       "    </tr>\n",
       "    <tr>\n",
       "      <th>2</th>\n",
       "      <td>0.44</td>\n",
       "      <td>1.0</td>\n",
       "      <td>1.0</td>\n",
       "      <td>0.42</td>\n",
       "      <td>1.0</td>\n",
       "      <td>1.0</td>\n",
       "      <td>0.0</td>\n",
       "      <td>0.0</td>\n",
       "      <td>0.0</td>\n",
       "      <td>0.0</td>\n",
       "      <td>1.00</td>\n",
       "      <td>0.00</td>\n",
       "      <td>1.0</td>\n",
       "      <td>1.0</td>\n",
       "      <td>0.0</td>\n",
       "      <td>0.00</td>\n",
       "      <td>democrat.</td>\n",
       "    </tr>\n",
       "    <tr>\n",
       "      <th>3</th>\n",
       "      <td>0.00</td>\n",
       "      <td>1.0</td>\n",
       "      <td>1.0</td>\n",
       "      <td>0.00</td>\n",
       "      <td>0.5</td>\n",
       "      <td>1.0</td>\n",
       "      <td>0.0</td>\n",
       "      <td>0.0</td>\n",
       "      <td>0.0</td>\n",
       "      <td>0.0</td>\n",
       "      <td>1.00</td>\n",
       "      <td>0.00</td>\n",
       "      <td>1.0</td>\n",
       "      <td>0.0</td>\n",
       "      <td>0.0</td>\n",
       "      <td>1.00</td>\n",
       "      <td>democrat.</td>\n",
       "    </tr>\n",
       "    <tr>\n",
       "      <th>4</th>\n",
       "      <td>1.00</td>\n",
       "      <td>1.0</td>\n",
       "      <td>1.0</td>\n",
       "      <td>0.00</td>\n",
       "      <td>1.0</td>\n",
       "      <td>1.0</td>\n",
       "      <td>0.0</td>\n",
       "      <td>0.0</td>\n",
       "      <td>0.0</td>\n",
       "      <td>0.0</td>\n",
       "      <td>1.00</td>\n",
       "      <td>0.42</td>\n",
       "      <td>1.0</td>\n",
       "      <td>1.0</td>\n",
       "      <td>1.0</td>\n",
       "      <td>1.00</td>\n",
       "      <td>democrat.</td>\n",
       "    </tr>\n",
       "  </tbody>\n",
       "</table>\n",
       "</div>"
      ],
      "text/plain": [
       "   Handicapped-infants  water-project-cost-sharing  \\\n",
       "0                 0.00                         1.0   \n",
       "1                 0.00                         1.0   \n",
       "2                 0.44                         1.0   \n",
       "3                 0.00                         1.0   \n",
       "4                 1.00                         1.0   \n",
       "\n",
       "   adoption-of-the-budget-resolution  physician-fee-freeze  el-salvador-aid  \\\n",
       "0                                0.0                  1.00              1.0   \n",
       "1                                0.0                  1.00              1.0   \n",
       "2                                1.0                  0.42              1.0   \n",
       "3                                1.0                  0.00              0.5   \n",
       "4                                1.0                  0.00              1.0   \n",
       "\n",
       "   religious-groups-in-schools  anti-satellite-test-ban  \\\n",
       "0                          1.0                      0.0   \n",
       "1                          1.0                      0.0   \n",
       "2                          1.0                      0.0   \n",
       "3                          1.0                      0.0   \n",
       "4                          1.0                      0.0   \n",
       "\n",
       "   aid-to-nicaraguan-contras  mx-missile  immigration  \\\n",
       "0                        0.0         0.0          1.0   \n",
       "1                        0.0         0.0          0.0   \n",
       "2                        0.0         0.0          0.0   \n",
       "3                        0.0         0.0          0.0   \n",
       "4                        0.0         0.0          0.0   \n",
       "\n",
       "   synfuels-corporation-cutback  education-spending  superfund-right-to-sue  \\\n",
       "0                          0.36                1.00                     1.0   \n",
       "1                          0.00                1.00                     1.0   \n",
       "2                          1.00                0.00                     1.0   \n",
       "3                          1.00                0.00                     1.0   \n",
       "4                          1.00                0.42                     1.0   \n",
       "\n",
       "   crime  duty-free-exports  export-administration-act-south-africa  \\\n",
       "0    1.0                0.0                                    1.00   \n",
       "1    1.0                0.0                                    0.81   \n",
       "2    1.0                0.0                                    0.00   \n",
       "3    0.0                0.0                                    1.00   \n",
       "4    1.0                1.0                                    1.00   \n",
       "\n",
       "    Class_Name  \n",
       "0  republican.  \n",
       "1  republican.  \n",
       "2    democrat.  \n",
       "3    democrat.  \n",
       "4    democrat.  "
      ]
     },
     "execution_count": 427,
     "metadata": {},
     "output_type": "execute_result"
    }
   ],
   "source": [
    "df=pd.read_csv('/Users/bellepeng/Desktop/Metis/sf18_ds11/challenges/challenges_data/house-votes-84.data',\n",
    "               header=None, names=names)              \n",
    "print(df.shape)\n",
    "mapping = {'y': 1, 'n': 0, '?': None}\n",
    "df.replace(mapping, inplace=True)\n",
    "df.fillna(round(df.mean(), 2), inplace=True)\n",
    "df.head()"
   ]
  },
  {
   "cell_type": "code",
   "execution_count": 428,
   "metadata": {
    "ExecuteTime": {
     "end_time": "2018-07-31T01:41:32.435525Z",
     "start_time": "2018-07-31T01:41:32.425692Z"
    }
   },
   "outputs": [
    {
     "data": {
      "text/plain": [
       "democrat      267\n",
       "republican    168\n",
       "Name: Class_Name, dtype: int64"
      ]
     },
     "execution_count": 428,
     "metadata": {},
     "output_type": "execute_result"
    }
   ],
   "source": [
    "df['Class_Name']=[x.strip('.') for x in df['Class_Name']]\n",
    "df['Class_Name'].value_counts()"
   ]
  },
  {
   "cell_type": "markdown",
   "metadata": {},
   "source": [
    "__Challenge 2__\n",
    "Split the data into a test and training set."
   ]
  },
  {
   "cell_type": "code",
   "execution_count": 429,
   "metadata": {
    "ExecuteTime": {
     "end_time": "2018-07-31T01:41:33.982261Z",
     "start_time": "2018-07-31T01:41:33.973771Z"
    },
    "collapsed": true
   },
   "outputs": [],
   "source": [
    "X_train, X_test, y_train, y_test = train_test_split(df.iloc[:, :-1], df.iloc[:, -1], test_size =.30, random_state=4444)"
   ]
  },
  {
   "cell_type": "markdown",
   "metadata": {},
   "source": [
    "__Challenge 3__  \n",
    "Using scikit.learn's KNN algorithm, train a model that predicts the party (republican/democrat). Try it with a lot of different k values (number of neighbors), from 1 to 20, and on the test set calculate the accuracy (number of correct predictions / number of all predictions) for each k.  \n",
    "Which k value gives the highest accuracy?  k=2"
   ]
  },
  {
   "cell_type": "code",
   "execution_count": 430,
   "metadata": {
    "ExecuteTime": {
     "end_time": "2018-07-31T01:41:35.177891Z",
     "start_time": "2018-07-31T01:41:35.170198Z"
    },
    "collapsed": true
   },
   "outputs": [],
   "source": [
    "ssX = StandardScaler()\n",
    "X_train_scaled=ssX.fit_transform(X_train)\n",
    "X_test_scaled=ssX.transform(X_test)"
   ]
  },
  {
   "cell_type": "code",
   "execution_count": 431,
   "metadata": {
    "ExecuteTime": {
     "end_time": "2018-07-31T01:41:38.419754Z",
     "start_time": "2018-07-31T01:41:35.873517Z"
    }
   },
   "outputs": [
    {
     "data": {
      "text/plain": [
       "GridSearchCV(cv=10, error_score='raise',\n",
       "       estimator=KNeighborsClassifier(algorithm='auto', leaf_size=30, metric='minkowski',\n",
       "           metric_params=None, n_jobs=1, n_neighbors=5, p=2,\n",
       "           weights='uniform'),\n",
       "       fit_params=None, iid=True, n_jobs=1,\n",
       "       param_grid={'n_neighbors': [1, 2, 3, 4, 5, 6, 7, 8, 9, 10, 11, 12, 13, 14, 15, 16, 17, 18, 19, 20], 'weights': ['uniform', 'distance']},\n",
       "       pre_dispatch='2*n_jobs', refit=True, return_train_score='warn',\n",
       "       scoring='accuracy', verbose=0)"
      ]
     },
     "execution_count": 431,
     "metadata": {},
     "output_type": "execute_result"
    }
   ],
   "source": [
    "# Grid search for param selection\n",
    "knn = KNeighborsClassifier()\n",
    "k_range = list(range(1, 21))\n",
    "weight_options = ['uniform', 'distance']\n",
    "param_grid = dict(n_neighbors=k_range, weights=weight_options)\n",
    "grid = GridSearchCV(knn, param_grid, cv=10, scoring='accuracy')\n",
    "grid.fit(X_train_scaled, y_train)"
   ]
  },
  {
   "cell_type": "code",
   "execution_count": 432,
   "metadata": {
    "ExecuteTime": {
     "end_time": "2018-07-31T01:41:38.780085Z",
     "start_time": "2018-07-31T01:41:38.758735Z"
    }
   },
   "outputs": [
    {
     "name": "stdout",
     "output_type": "stream",
     "text": [
      "0.947368421053\n",
      "{'n_neighbors': 1, 'weights': 'uniform'}\n",
      "KNeighborsClassifier(algorithm='auto', leaf_size=30, metric='minkowski',\n",
      "           metric_params=None, n_jobs=1, n_neighbors=1, p=2,\n",
      "           weights='uniform')\n"
     ]
    },
    {
     "data": {
      "text/plain": [
       "0.90839694656488545"
      ]
     },
     "execution_count": 432,
     "metadata": {},
     "output_type": "execute_result"
    }
   ],
   "source": [
    "# grid.grid_scores_\n",
    "# print(grid.grid_scores_[0].parameters)\n",
    "# print(grid.grid_scores_[0].cv_validation_scores)\n",
    "# print(grid.grid_scores_[0].mean_validation_score)\n",
    "print(grid.best_score_)\n",
    "print(grid.best_params_)\n",
    "print(grid.best_estimator_)\n",
    "y_pred=grid.predict(X_test_scaled)\n",
    "accuracy_score(y_test, y_pred)"
   ]
  },
  {
   "cell_type": "markdown",
   "metadata": {},
   "source": [
    "__Challenge 4__  \n",
    "Make a similar model but with LogisticRegression instead, calculate test accuracy."
   ]
  },
  {
   "cell_type": "code",
   "execution_count": 433,
   "metadata": {
    "ExecuteTime": {
     "end_time": "2018-07-31T01:41:39.590446Z",
     "start_time": "2018-07-31T01:41:39.212984Z"
    }
   },
   "outputs": [
    {
     "name": "stdout",
     "output_type": "stream",
     "text": [
      "0.973684210526\n",
      "{'C': 1.0}\n",
      "LogisticRegression(C=1.0, class_weight=None, dual=False, fit_intercept=True,\n",
      "          intercept_scaling=1, max_iter=100, multi_class='ovr', n_jobs=1,\n",
      "          penalty='l2', random_state=None, solver='liblinear', tol=0.0001,\n",
      "          verbose=0, warm_start=False)\n"
     ]
    },
    {
     "data": {
      "text/plain": [
       "0.93893129770992367"
      ]
     },
     "execution_count": 433,
     "metadata": {},
     "output_type": "execute_result"
    }
   ],
   "source": [
    "lm = LogisticRegression()\n",
    "c_range = [0.0001, 0.001,0.01, 0.1, 1.0, 10.]\n",
    "\n",
    "grid = GridSearchCV(lm, param_grid={'C': c_range}, cv=10, scoring='accuracy')\n",
    "grid.fit(X_train_scaled, y_train)\n",
    "\n",
    "print(grid.best_score_)\n",
    "print(grid.best_params_)\n",
    "print(grid.best_estimator_)\n",
    "\n",
    "y_pred=grid.predict(X_test_scaled)\n",
    "accuracy_score(y_test, y_pred)"
   ]
  },
  {
   "cell_type": "markdown",
   "metadata": {},
   "source": [
    "__Challenge 5__  \n",
    "Make a bar graph of democrats and republicans. How many of each are there?  \n",
    "Make a very simple predictor that predicts 'democrat' for every incoming example.  \n",
    "Just make a function that takes in an X --an array or matrix with input examples--, and returns an array of the same length as X, where each value is 'democrat'. For example, if X is three rows, your function should return ['democrat','democrat','democrat']. Make a y_predicted vector using this and measure its accuracy.  \n",
    "Do the same with predicting 'republican' all the time and measure its accuracy."
   ]
  },
  {
   "cell_type": "code",
   "execution_count": 434,
   "metadata": {
    "ExecuteTime": {
     "end_time": "2018-07-31T01:41:40.256013Z",
     "start_time": "2018-07-31T01:41:40.035069Z"
    }
   },
   "outputs": [
    {
     "data": {
      "text/plain": [
       "Text(0.5,1,'Number of Reps in each Party')"
      ]
     },
     "execution_count": 434,
     "metadata": {},
     "output_type": "execute_result"
    },
    {
     "data": {
      "image/png": "[encoded data removed]",
      "text/plain": [
       "<Figure size 576x360 with 1 Axes>"
      ]
     },
     "metadata": {},
     "output_type": "display_data"
    }
   ],
   "source": [
    "counts=df['Class_Name'].value_counts()\n",
    "plt.figure(figsize=(8,5))\n",
    "plt.bar(counts.index, counts)\n",
    "plt.ylabel('Number of Representatives', size=15)\n",
    "plt.xticks(fontsize=15, rotation=0)\n",
    "plt.title('Number of Reps in each Party', size=15)"
   ]
  },
  {
   "cell_type": "markdown",
   "metadata": {},
   "source": [
    "__Challenge 6__  \n",
    "Plot the accuracies as a function of k. Since k only matters for KNN, your logistic regression accuracy, 'democrat' predictor accuracy and 'republican' predictor accuracy will stay the same over all k, so each of these three will be a horizontal line. But the KNN accuracy will change with k."
   ]
  },
  {
   "cell_type": "code",
   "execution_count": 435,
   "metadata": {
    "ExecuteTime": {
     "end_time": "2018-07-31T01:41:41.689346Z",
     "start_time": "2018-07-31T01:41:41.563035Z"
    }
   },
   "outputs": [],
   "source": [
    "knn_accuracy=[]\n",
    "k_range = list(range(1, 21))\n",
    "for k in k_range:\n",
    "    knn = KNeighborsClassifier(n_neighbors=k)\n",
    "    knn.fit(X_train_scaled, y_train)\n",
    "    y_pred = knn.predict(X_test_scaled)\n",
    "    knn_accuracy.append(accuracy_score(y_test, y_pred))\n",
    "    \n",
    "logistics_acc=[0.93893129770992367]*len(knn_accuracy)\n",
    "\n",
    "pred_dem=['democrat']*len(y_test)\n",
    "pred_rep=['republican']*len(y_test)\n",
    "\n",
    "dem_acc=[accuracy_score(y_test, pred_dem)]*len(k_range)\n",
    "rep_acc=[accuracy_score(y_test, pred_rep)]*len(k_range)"
   ]
  },
  {
   "cell_type": "code",
   "execution_count": 436,
   "metadata": {
    "ExecuteTime": {
     "end_time": "2018-07-31T01:41:42.553493Z",
     "start_time": "2018-07-31T01:41:42.232813Z"
    }
   },
   "outputs": [
    {
     "data": {
      "text/plain": [
       "<matplotlib.legend.Legend at 0x11a6fcd30>"
      ]
     },
     "execution_count": 436,
     "metadata": {},
     "output_type": "execute_result"
    },
    {
     "data": {
      "image/png": "[encoded data removed]",
      "text/plain": [
       "<Figure size 720x360 with 1 Axes>"
      ]
     },
     "metadata": {},
     "output_type": "display_data"
    }
   ],
   "source": [
    "plt.figure(figsize=(10,5))\n",
    "plt.title('Accuracy by Algo over the number of neighbors K')\n",
    "plt.plot(k_range, knn_accuracy, label='KNN')\n",
    "plt.plot(k_range, logistics_acc, label='Logistics' )\n",
    "plt.plot(k_range, dem_acc, label='Democrat')\n",
    "plt.plot(k_range, rep_acc, label='Republican')\n",
    "plt.ylim=(0,1)\n",
    "plt.legend(loc='center right')"
   ]
  },
  {
   "cell_type": "markdown",
   "metadata": {
    "ExecuteTime": {
     "end_time": "2018-07-30T03:03:38.425102Z",
     "start_time": "2018-07-30T03:03:38.393032Z"
    }
   },
   "source": [
    "__Challenge 7__ \n",
    "\n",
    "Plot a learning curve for the logistic regression model. But instead of going through the painstaking steps of doing it yourself, use this function:\n",
    "\n",
    "    from sklearn.learning_curve import learning_curve\n",
    "\n",
    "This will give you the m, training errors and testing errors. All you need to do is plot them. You don't even need to give it separate training/test sets. It will do crossvalidation all by itself. Easy, isn't it? : )\n",
    "\n",
    "Remember, since it does cross-validation, it doesn't have a single training error or test error per m value. Instead, it has one for each fold (separate partition) of the cross validation. A good idea is to take the mean of these errors from different folds. This gives you a meaningful single number per m. What I mean is that doing something like:\n",
    "\n",
    "    train_cv_err = np.mean(train_err, axis=1)\n",
    "    test_cv_err = np.mean(ts_err, axis=1)\n",
    "\n",
    "Before plotting m vs train_cv_err and m vs test_cv_err, where train_err and test_err are the vectors returned by the learning curve function. The np.mean(...., axis=1) means take the mean along axis 1 (axis 1 is the columns axis-- for each row, you have a bunch of columns, each corresponding to a cross validation fold, you are averaging these columns for each row).\n",
    "\n",
    "Draw the learning curve for KNN with the best k value as well."
   ]
  },
  {
   "cell_type": "code",
   "execution_count": 437,
   "metadata": {
    "ExecuteTime": {
     "end_time": "2018-07-31T01:41:43.895404Z",
     "start_time": "2018-07-31T01:41:43.865152Z"
    },
    "code_folding": []
   },
   "outputs": [],
   "source": [
    "def plot_learning_curve(estimator, title, X, y, cv, train_sizes):\n",
    "    train_sizes, train_scores, test_scores = learning_curve(\n",
    "        estimator=estimator, X=X, y=y, cv=cv, n_jobs=1, train_sizes=train_sizes)\n",
    "    train_scores_mean = np.mean(train_scores, axis=1)\n",
    "    test_scores_mean = np.mean(test_scores, axis=1)\n",
    "    train_scores_std = np.std(train_scores, axis=1)\n",
    "    test_scores_std = np.std(test_scores, axis=1)\n",
    "\n",
    "    # Plot\n",
    "    plt.figure()\n",
    "    plt.title(title)\n",
    "    plt.plot(train_sizes, train_scores_mean, label='mean Training CV Score')\n",
    "    plt.plot(train_sizes, test_scores_mean, label='mean Test CV Score')\n",
    "    plt.xlabel(\"Training Sample Size\")\n",
    "    plt.ylabel(\"Accuracy Score\")\n",
    "    plt.legend(loc='best')"
   ]
  },
  {
   "cell_type": "code",
   "execution_count": 438,
   "metadata": {
    "ExecuteTime": {
     "end_time": "2018-07-31T01:41:45.140506Z",
     "start_time": "2018-07-31T01:41:44.699110Z"
    },
    "code_folding": [],
    "scrolled": true
   },
   "outputs": [
    {
     "data": {
      "image/png": "[encoded data removed]",
      "text/plain": [
       "<Figure size 432x288 with 1 Axes>"
      ]
     },
     "metadata": {},
     "output_type": "display_data"
    }
   ],
   "source": [
    "# train_sizes=[30, 50, 100, 150, 200, 250, 273]    \n",
    "train_sizes=np.linspace(.1, 1.0, 5)\n",
    "plot_learning_curve(estimator = KNeighborsClassifier(), \n",
    "                    title = \"Learning Curves (KNN)\",\n",
    "                    X=X_train_scaled,\n",
    "                    y=y_train,\n",
    "                    cv=10,\n",
    "                    train_sizes=train_sizes\n",
    "                   )"
   ]
  },
  {
   "cell_type": "markdown",
   "metadata": {},
   "source": [
    "__Challenge 8__  \n",
    "\n",
    "This is a preview of many other classification algorithms that we will go over. Scikit.learn has the same interface for all of these, so you can use them exactly the same way as you did LogisticRegression and KNeighborsClassifier. Use each of these to classify your data and print the test accuracy of each:\n",
    "\n",
    "Gaussian Naive Bayes\n",
    "\n",
    "    from sklearn.naive_bayes import GaussianNB\n",
    "\n",
    "SVM (Support Vector Machine) Classifier\n",
    "\n",
    "    from sklearn.svm import SVC\n",
    "\n",
    "Decision Tree\n",
    "\n",
    "    from sklearn.tree import DecisionTreeClassifier\n",
    "\n",
    "Random Forest\n",
    "\n",
    "    from sklearn.ensemble import RandomForestClassifier\n"
   ]
  },
  {
   "cell_type": "code",
   "execution_count": 439,
   "metadata": {
    "ExecuteTime": {
     "end_time": "2018-07-31T01:41:46.835905Z",
     "start_time": "2018-07-31T01:41:46.770487Z"
    }
   },
   "outputs": [
    {
     "name": "stdout",
     "output_type": "stream",
     "text": [
      "GaussianNB:  0.93893129771\n",
      "SVC:  0.93893129771\n",
      "DecisionTreeClassifier:  0.923664122137\n",
      "RandomForestClassifier:  0.961832061069\n"
     ]
    }
   ],
   "source": [
    "from sklearn.naive_bayes import GaussianNB\n",
    "from sklearn.svm import SVC\n",
    "from sklearn.tree import DecisionTreeClassifier\n",
    "from sklearn.ensemble import RandomForestClassifier\n",
    "\n",
    "def models(clf, X_train, y_train, X_test, y_test):\n",
    "    clf = clf()\n",
    "    clf.fit(X_train, y_train)\n",
    "    y_pred = clf.predict(X_test)\n",
    "    return(accuracy_score(y_test, y_pred))\n",
    "\n",
    "print(\"GaussianNB: \", models(GaussianNB, X_train_scaled, y_train, X_test_scaled, y_test))\n",
    "print(\"SVC: \", models(SVC, X_train_scaled, y_train, X_test_scaled, y_test))\n",
    "print(\"DecisionTreeClassifier: \", models(DecisionTreeClassifier, X_train_scaled, y_train, X_test_scaled, y_test))\n",
    "print(\"RandomForestClassifier: \", models(RandomForestClassifier, X_train_scaled, y_train, X_test_scaled, y_test))"
   ]
  },
  {
   "cell_type": "markdown",
   "metadata": {},
   "source": [
    "__Challenge 9__  \n",
    "\n",
    "There is actually a way to do cross validation quickly to get your accuracy results for an algorithm, without separating training and test yourself:\n",
    "\n",
    "    from sklearn.cross_validation import cross_val_score\n",
    "\n",
    "Just like the learning_curve function, this takes a classifier object, X and Y. Returns accuracy (or whatever score you prefer by using the scoring keyword argument). Of course, it will return a score for each cross validation fold, so to get the generalized accuracy, you need to take the mean of what it returns.\n",
    "\n",
    "Use this function to calculate the cross validation score of each of the classifiers you tried before."
   ]
  },
  {
   "cell_type": "code",
   "execution_count": 440,
   "metadata": {
    "ExecuteTime": {
     "end_time": "2018-07-31T01:41:48.773304Z",
     "start_time": "2018-07-31T01:41:48.480733Z"
    }
   },
   "outputs": [
    {
     "name": "stdout",
     "output_type": "stream",
     "text": [
      "GaussianNB:  0.921612903226\n",
      "SVC:  0.967311827957\n",
      "DecisionTreeClassifier:  0.934516129032\n",
      "RandomForestClassifier:  0.954193548387\n"
     ]
    }
   ],
   "source": [
    "def cv_models(clf, X_train, y_train, cv=10):\n",
    "    return(cross_val_score(clf(), X_train, y_train, cv=cv, scoring='accuracy').mean())\n",
    "\n",
    "print(\"GaussianNB: \", cv_models(GaussianNB, X_train_scaled, y_train))\n",
    "print(\"SVC: \", cv_models(SVC, X_train_scaled, y_train))\n",
    "print(\"DecisionTreeClassifier: \", cv_models(DecisionTreeClassifier, X_train_scaled, y_train))\n",
    "print(\"RandomForestClassifier: \", cv_models(RandomForestClassifier, X_train_scaled, y_train))"
   ]
  },
  {
   "cell_type": "markdown",
   "metadata": {},
   "source": [
    "__Challenge 10__  \n",
    "\n",
    "Instead of 'democrat' or 'republican', can you predict the vote of a representative based on their other votes?\n",
    "\n",
    "Reload the data from scratch. Convert y-->1, n-->0.\n",
    "\n",
    "Choose one vote. Build a classifier (logistic regression or KNN), that uses the other votes (do not use the party as a feature) to predict if the vote will be 1 or 0.\n",
    "\n",
    "Convert each ? to the mode of the column (if a senator has not voted, make their vote 1 if most others voted 1, make it 0 if most others voted 0).\n",
    "\n",
    "Calculate the cross validation accuracy of your classifier for predicting how each representative will vote on the issue."
   ]
  },
  {
   "cell_type": "code",
   "execution_count": 441,
   "metadata": {
    "ExecuteTime": {
     "end_time": "2018-07-31T01:41:49.960251Z",
     "start_time": "2018-07-31T01:41:49.894770Z"
    }
   },
   "outputs": [
    {
     "name": "stdout",
     "output_type": "stream",
     "text": [
      "(435, 17)\n"
     ]
    },
    {
     "data": {
      "text/html": [
       "<div>\n",
       "<style>\n",
       "    .dataframe thead tr:only-child th {\n",
       "        text-align: right;\n",
       "    }\n",
       "\n",
       "    .dataframe thead th {\n",
       "        text-align: left;\n",
       "    }\n",
       "\n",
       "    .dataframe tbody tr th {\n",
       "        vertical-align: top;\n",
       "    }\n",
       "</style>\n",
       "<table border=\"1\" class=\"dataframe\">\n",
       "  <thead>\n",
       "    <tr style=\"text-align: right;\">\n",
       "      <th></th>\n",
       "      <th>Handicapped-infants</th>\n",
       "      <th>water-project-cost-sharing</th>\n",
       "      <th>adoption-of-the-budget-resolution</th>\n",
       "      <th>physician-fee-freeze</th>\n",
       "      <th>el-salvador-aid</th>\n",
       "      <th>religious-groups-in-schools</th>\n",
       "      <th>anti-satellite-test-ban</th>\n",
       "      <th>aid-to-nicaraguan-contras</th>\n",
       "      <th>mx-missile</th>\n",
       "      <th>immigration</th>\n",
       "      <th>synfuels-corporation-cutback</th>\n",
       "      <th>education-spending</th>\n",
       "      <th>superfund-right-to-sue</th>\n",
       "      <th>crime</th>\n",
       "      <th>duty-free-exports</th>\n",
       "      <th>export-administration-act-south-africa</th>\n",
       "    </tr>\n",
       "  </thead>\n",
       "  <tbody>\n",
       "    <tr>\n",
       "      <th>0</th>\n",
       "      <td>0.0</td>\n",
       "      <td>1.0</td>\n",
       "      <td>0.0</td>\n",
       "      <td>1.0</td>\n",
       "      <td>1.0</td>\n",
       "      <td>1.0</td>\n",
       "      <td>0.0</td>\n",
       "      <td>0.0</td>\n",
       "      <td>0.0</td>\n",
       "      <td>1.0</td>\n",
       "      <td>0.0</td>\n",
       "      <td>1.0</td>\n",
       "      <td>1.0</td>\n",
       "      <td>1.0</td>\n",
       "      <td>0.0</td>\n",
       "      <td>1.0</td>\n",
       "    </tr>\n",
       "    <tr>\n",
       "      <th>1</th>\n",
       "      <td>0.0</td>\n",
       "      <td>1.0</td>\n",
       "      <td>0.0</td>\n",
       "      <td>1.0</td>\n",
       "      <td>1.0</td>\n",
       "      <td>1.0</td>\n",
       "      <td>0.0</td>\n",
       "      <td>0.0</td>\n",
       "      <td>0.0</td>\n",
       "      <td>0.0</td>\n",
       "      <td>0.0</td>\n",
       "      <td>1.0</td>\n",
       "      <td>1.0</td>\n",
       "      <td>1.0</td>\n",
       "      <td>0.0</td>\n",
       "      <td>1.0</td>\n",
       "    </tr>\n",
       "    <tr>\n",
       "      <th>2</th>\n",
       "      <td>0.0</td>\n",
       "      <td>1.0</td>\n",
       "      <td>1.0</td>\n",
       "      <td>0.0</td>\n",
       "      <td>1.0</td>\n",
       "      <td>1.0</td>\n",
       "      <td>0.0</td>\n",
       "      <td>0.0</td>\n",
       "      <td>0.0</td>\n",
       "      <td>0.0</td>\n",
       "      <td>1.0</td>\n",
       "      <td>0.0</td>\n",
       "      <td>1.0</td>\n",
       "      <td>1.0</td>\n",
       "      <td>0.0</td>\n",
       "      <td>0.0</td>\n",
       "    </tr>\n",
       "    <tr>\n",
       "      <th>3</th>\n",
       "      <td>0.0</td>\n",
       "      <td>1.0</td>\n",
       "      <td>1.0</td>\n",
       "      <td>0.0</td>\n",
       "      <td>1.0</td>\n",
       "      <td>1.0</td>\n",
       "      <td>0.0</td>\n",
       "      <td>0.0</td>\n",
       "      <td>0.0</td>\n",
       "      <td>0.0</td>\n",
       "      <td>1.0</td>\n",
       "      <td>0.0</td>\n",
       "      <td>1.0</td>\n",
       "      <td>0.0</td>\n",
       "      <td>0.0</td>\n",
       "      <td>1.0</td>\n",
       "    </tr>\n",
       "    <tr>\n",
       "      <th>4</th>\n",
       "      <td>1.0</td>\n",
       "      <td>1.0</td>\n",
       "      <td>1.0</td>\n",
       "      <td>0.0</td>\n",
       "      <td>1.0</td>\n",
       "      <td>1.0</td>\n",
       "      <td>0.0</td>\n",
       "      <td>0.0</td>\n",
       "      <td>0.0</td>\n",
       "      <td>0.0</td>\n",
       "      <td>1.0</td>\n",
       "      <td>0.0</td>\n",
       "      <td>1.0</td>\n",
       "      <td>1.0</td>\n",
       "      <td>1.0</td>\n",
       "      <td>1.0</td>\n",
       "    </tr>\n",
       "  </tbody>\n",
       "</table>\n",
       "</div>"
      ],
      "text/plain": [
       "   Handicapped-infants  water-project-cost-sharing  \\\n",
       "0                  0.0                         1.0   \n",
       "1                  0.0                         1.0   \n",
       "2                  0.0                         1.0   \n",
       "3                  0.0                         1.0   \n",
       "4                  1.0                         1.0   \n",
       "\n",
       "   adoption-of-the-budget-resolution  physician-fee-freeze  el-salvador-aid  \\\n",
       "0                                0.0                   1.0              1.0   \n",
       "1                                0.0                   1.0              1.0   \n",
       "2                                1.0                   0.0              1.0   \n",
       "3                                1.0                   0.0              1.0   \n",
       "4                                1.0                   0.0              1.0   \n",
       "\n",
       "   religious-groups-in-schools  anti-satellite-test-ban  \\\n",
       "0                          1.0                      0.0   \n",
       "1                          1.0                      0.0   \n",
       "2                          1.0                      0.0   \n",
       "3                          1.0                      0.0   \n",
       "4                          1.0                      0.0   \n",
       "\n",
       "   aid-to-nicaraguan-contras  mx-missile  immigration  \\\n",
       "0                        0.0         0.0          1.0   \n",
       "1                        0.0         0.0          0.0   \n",
       "2                        0.0         0.0          0.0   \n",
       "3                        0.0         0.0          0.0   \n",
       "4                        0.0         0.0          0.0   \n",
       "\n",
       "   synfuels-corporation-cutback  education-spending  superfund-right-to-sue  \\\n",
       "0                           0.0                 1.0                     1.0   \n",
       "1                           0.0                 1.0                     1.0   \n",
       "2                           1.0                 0.0                     1.0   \n",
       "3                           1.0                 0.0                     1.0   \n",
       "4                           1.0                 0.0                     1.0   \n",
       "\n",
       "   crime  duty-free-exports  export-administration-act-south-africa  \n",
       "0    1.0                0.0                                     1.0  \n",
       "1    1.0                0.0                                     1.0  \n",
       "2    1.0                0.0                                     0.0  \n",
       "3    0.0                0.0                                     1.0  \n",
       "4    1.0                1.0                                     1.0  "
      ]
     },
     "execution_count": 441,
     "metadata": {},
     "output_type": "execute_result"
    }
   ],
   "source": [
    "df=pd.read_csv('/Users/bellepeng/Desktop/Metis/sf18_ds11/challenges/challenges_data/house-votes-84.data',\n",
    "               header=None, names=names)              \n",
    "print(df.shape)\n",
    "mapping = {'y': 1, 'n': 0, '?': None}\n",
    "df.replace(mapping, inplace=True)\n",
    "df.drop(['Class_Name'], axis=1, inplace=True)\n",
    "df.fillna(df.mode().ix[0], inplace=True)\n",
    "df.head()"
   ]
  },
  {
   "cell_type": "code",
   "execution_count": 442,
   "metadata": {
    "ExecuteTime": {
     "end_time": "2018-07-31T01:41:50.890328Z",
     "start_time": "2018-07-31T01:41:50.876641Z"
    },
    "collapsed": true
   },
   "outputs": [],
   "source": [
    "X_train, X_test, y_train, y_test = train_test_split(\n",
    "    df.iloc[:, 1:], df['Handicapped-infants'], test_size =.30, random_state=4444)\n",
    "ssX = StandardScaler()\n",
    "X_train_scaled=ssX.fit_transform(X_train)\n",
    "X_test_scaled=ssX.transform(X_test)"
   ]
  },
  {
   "cell_type": "code",
   "execution_count": 443,
   "metadata": {
    "ExecuteTime": {
     "end_time": "2018-07-31T01:41:53.158988Z",
     "start_time": "2018-07-31T01:41:52.865666Z"
    }
   },
   "outputs": [
    {
     "name": "stdout",
     "output_type": "stream",
     "text": [
      "GaussianNB:  0.684315906563\n",
      "SVC:  0.678309232481\n",
      "DecisionTreeClassifier:  0.691212458287\n",
      "RandomForestClassifier:  0.663848720801\n"
     ]
    }
   ],
   "source": [
    "print(\"GaussianNB: \", cv_models(GaussianNB, X_train_scaled, y_train))\n",
    "print(\"SVC: \", cv_models(SVC, X_train_scaled, y_train))\n",
    "print(\"DecisionTreeClassifier: \", cv_models(DecisionTreeClassifier, X_train_scaled, y_train))\n",
    "print(\"RandomForestClassifier: \", cv_models(RandomForestClassifier, X_train_scaled, y_train))"
   ]
  },
  {
   "cell_type": "markdown",
   "metadata": {},
   "source": [
    "__Challenge 11__  \n",
    "\n",
    "Back to movie data! Choose one categoric feature to predict. I chose MPAA Rating, but genre, month, etc. are all decent choices. If you don't have any non-numeric features, you can make two bins out of a numeric one (like \"Runtime>100 mins\" and \"Runtime<=100 mins\")\n",
    "\n",
    "Make a bar graph of how many of each movie there is in the data. For example, with Ratings, show how many G, PG, PG-13, R movies there are, etc. (basically a histogram of your labels).\n",
    "\n",
    "Predict your outcome variable (labels) using KNN and logistic regression. Calculate their accuracies.\n",
    "\n",
    "Make a baseline stupid predictor that always predicts the label that is present the most in the data. Calculate its accuracy on a test set.\n",
    "\n",
    "How much better do KNN and logistic regression do versus the baseline?\n",
    "\n",
    "What are the coefficients of logistic regression? Which features affect the outcome how?"
   ]
  },
  {
   "cell_type": "code",
   "execution_count": 497,
   "metadata": {
    "ExecuteTime": {
     "end_time": "2018-07-31T02:15:26.033974Z",
     "start_time": "2018-07-31T02:15:26.009102Z"
    }
   },
   "outputs": [
    {
     "data": {
      "text/html": [
       "<div>\n",
       "<style>\n",
       "    .dataframe thead tr:only-child th {\n",
       "        text-align: right;\n",
       "    }\n",
       "\n",
       "    .dataframe thead th {\n",
       "        text-align: left;\n",
       "    }\n",
       "\n",
       "    .dataframe tbody tr th {\n",
       "        vertical-align: top;\n",
       "    }\n",
       "</style>\n",
       "<table border=\"1\" class=\"dataframe\">\n",
       "  <thead>\n",
       "    <tr style=\"text-align: right;\">\n",
       "      <th></th>\n",
       "      <th>Title</th>\n",
       "      <th>Budget</th>\n",
       "      <th>DomesticTotalGross</th>\n",
       "      <th>Director</th>\n",
       "      <th>Rating</th>\n",
       "      <th>Runtime</th>\n",
       "      <th>ReleaseDate</th>\n",
       "    </tr>\n",
       "  </thead>\n",
       "  <tbody>\n",
       "    <tr>\n",
       "      <th>0</th>\n",
       "      <td>The Hunger Games: Catching Fire</td>\n",
       "      <td>130000000.0</td>\n",
       "      <td>424668047</td>\n",
       "      <td>Francis Lawrence</td>\n",
       "      <td>PG-13</td>\n",
       "      <td>146</td>\n",
       "      <td>2013-11-22 00:00:00</td>\n",
       "    </tr>\n",
       "    <tr>\n",
       "      <th>1</th>\n",
       "      <td>Iron Man 3</td>\n",
       "      <td>200000000.0</td>\n",
       "      <td>409013994</td>\n",
       "      <td>Shane Black</td>\n",
       "      <td>PG-13</td>\n",
       "      <td>129</td>\n",
       "      <td>2013-05-03 00:00:00</td>\n",
       "    </tr>\n",
       "    <tr>\n",
       "      <th>2</th>\n",
       "      <td>Frozen</td>\n",
       "      <td>150000000.0</td>\n",
       "      <td>400738009</td>\n",
       "      <td>Chris BuckJennifer Lee</td>\n",
       "      <td>PG</td>\n",
       "      <td>108</td>\n",
       "      <td>2013-11-22 00:00:00</td>\n",
       "    </tr>\n",
       "  </tbody>\n",
       "</table>\n",
       "</div>"
      ],
      "text/plain": [
       "                             Title       Budget  DomesticTotalGross  \\\n",
       "0  The Hunger Games: Catching Fire  130000000.0           424668047   \n",
       "1                       Iron Man 3  200000000.0           409013994   \n",
       "2                           Frozen  150000000.0           400738009   \n",
       "\n",
       "                 Director Rating  Runtime          ReleaseDate  \n",
       "0        Francis Lawrence  PG-13      146  2013-11-22 00:00:00  \n",
       "1             Shane Black  PG-13      129  2013-05-03 00:00:00  \n",
       "2  Chris BuckJennifer Lee     PG      108  2013-11-22 00:00:00  "
      ]
     },
     "execution_count": 497,
     "metadata": {},
     "output_type": "execute_result"
    }
   ],
   "source": [
    "df_movies=pd.read_csv('/Users/bellepeng/Desktop/Metis/sf18_ds11/challenges/challenges_data/2013_movies.csv')\n",
    "df_movies.head(3)"
   ]
  },
  {
   "cell_type": "code",
   "execution_count": 498,
   "metadata": {
    "ExecuteTime": {
     "end_time": "2018-07-31T02:15:27.430567Z",
     "start_time": "2018-07-31T02:15:27.175582Z"
    }
   },
   "outputs": [
    {
     "data": {
      "text/plain": [
       "Text(0.5,1,'Number of Movies in each Rating')"
      ]
     },
     "execution_count": 498,
     "metadata": {},
     "output_type": "execute_result"
    },
    {
     "data": {
      "image/png": "[encoded data removed]",
      "text/plain": [
       "<Figure size 720x360 with 1 Axes>"
      ]
     },
     "metadata": {},
     "output_type": "display_data"
    }
   ],
   "source": [
    "counts=df_movies['Rating'].value_counts()\n",
    "plt.figure(figsize=(10,5))\n",
    "plt.bar(counts.index, counts)\n",
    "plt.ylabel('Number of Movies', size=15)\n",
    "plt.xticks(fontsize=15, rotation=0)\n",
    "plt.title('Number of Movies in each Rating', size=15)"
   ]
  },
  {
   "cell_type": "code",
   "execution_count": 499,
   "metadata": {
    "ExecuteTime": {
     "end_time": "2018-07-31T02:15:32.318620Z",
     "start_time": "2018-07-31T02:15:32.304993Z"
    },
    "collapsed": true
   },
   "outputs": [],
   "source": [
    "df_movies.fillna(round(df_movies.mean(), 2), inplace=True)\n",
    "cols=['Budget', 'DomesticTotalGross', 'Runtime']\n",
    "# 'ReleaseDate', 'Director'"
   ]
  },
  {
   "cell_type": "code",
   "execution_count": 500,
   "metadata": {
    "ExecuteTime": {
     "end_time": "2018-07-31T02:15:33.660443Z",
     "start_time": "2018-07-31T02:15:33.650791Z"
    },
    "collapsed": true
   },
   "outputs": [],
   "source": [
    "Xm_train, Xm_test, ym_train, ym_test = train_test_split(df_movies[cols], df_movies['Rating'], test_size =.30, random_state=4444)"
   ]
  },
  {
   "cell_type": "code",
   "execution_count": 502,
   "metadata": {
    "ExecuteTime": {
     "end_time": "2018-07-31T02:16:47.879793Z",
     "start_time": "2018-07-31T02:16:46.507824Z"
    }
   },
   "outputs": [
    {
     "name": "stdout",
     "output_type": "stream",
     "text": [
      "0.571428571429\n",
      "{'n_neighbors': 15, 'weights': 'uniform'}\n",
      "KNeighborsClassifier(algorithm='auto', leaf_size=30, metric='minkowski',\n",
      "           metric_params=None, n_jobs=1, n_neighbors=15, p=2,\n",
      "           weights='uniform')\n"
     ]
    },
    {
     "data": {
      "text/plain": [
       "0.53333333333333333"
      ]
     },
     "execution_count": 502,
     "metadata": {},
     "output_type": "execute_result"
    }
   ],
   "source": [
    "# Predict your outcome variable (labels) using KNN and logistic regression. Calculate their accuracies.\n",
    "ssXm = StandardScaler()\n",
    "Xm_train_scaled=ssXm.fit_transform(Xm_train)\n",
    "Xm_test_scaled=ssXm.transform(Xm_test)\n",
    "\n",
    "knn_m = KNeighborsClassifier()\n",
    "k_range = list(range(1, 21))\n",
    "weight_options = ['uniform', 'distance']\n",
    "param_grid = dict(n_neighbors=k_range, weights=weight_options)\n",
    "gridm = GridSearchCV(knn_m, param_grid, cv=10, scoring='accuracy')\n",
    "gridm.fit(Xm_train_scaled, ym_train)\n",
    "\n",
    "print(gridm.best_score_)\n",
    "print(gridm.best_params_)\n",
    "print(gridm.best_estimator_)\n",
    "\n",
    "ym_pred=gridm.predict(Xm_test_scaled)\n",
    "accuracy_score(ym_test, ym_pred)"
   ]
  },
  {
   "cell_type": "code",
   "execution_count": 503,
   "metadata": {
    "ExecuteTime": {
     "end_time": "2018-07-31T02:17:00.675220Z",
     "start_time": "2018-07-31T02:17:00.665472Z"
    }
   },
   "outputs": [
    {
     "data": {
      "text/plain": [
       "0.46666666666666667"
      ]
     },
     "execution_count": 503,
     "metadata": {},
     "output_type": "execute_result"
    }
   ],
   "source": [
    "# Make a baseline stupid predictor that always predicts the label that is present the most in the data. Calculate its accuracy on a test set.\n",
    "y_predm2=list(['PG-13']*len(Xm_test_scaled))\n",
    "accuracy_score(ym_test, y_predm2)"
   ]
  },
  {
   "cell_type": "markdown",
   "metadata": {},
   "source": [
    "__Challenge 12__  \n",
    "\n",
    "Now you are a classification master. The representative votes dataset only had 0s and 1s. Let's just swiftly tackle the breast cancer surgery data.\n",
    "\n",
    "Get it from here: Haberman Survival Dataset\n",
    "\n",
    "- What is the average and standard deviation of the age of all of the patients?\n",
    "- What is the average and standard deviation of the age of those patients that survived 5 or more years after surgery?\n",
    "- What is the average and standard deviation of the age of those patients who survived fewer than 5 years after surgery?\n",
    "- Plot a histogram of the ages side by side with a histogram of the number of axillary nodes.\n",
    "- What is the earliest year of surgery in this dataset?\n",
    "- What is the most recent year of surgery?\n",
    "- Use logistic regression to predict survival after 5 years. How well does your model do?\n",
    "- What are the coefficients of logistic regression? Which features affect the outcome how?\n",
    "- Draw the learning curve for logistic regression in this case."
   ]
  },
  {
   "cell_type": "code",
   "execution_count": 504,
   "metadata": {
    "ExecuteTime": {
     "end_time": "2018-07-31T02:17:17.945461Z",
     "start_time": "2018-07-31T02:17:17.924166Z"
    }
   },
   "outputs": [
    {
     "data": {
      "text/html": [
       "<div>\n",
       "<style>\n",
       "    .dataframe thead tr:only-child th {\n",
       "        text-align: right;\n",
       "    }\n",
       "\n",
       "    .dataframe thead th {\n",
       "        text-align: left;\n",
       "    }\n",
       "\n",
       "    .dataframe tbody tr th {\n",
       "        vertical-align: top;\n",
       "    }\n",
       "</style>\n",
       "<table border=\"1\" class=\"dataframe\">\n",
       "  <thead>\n",
       "    <tr style=\"text-align: right;\">\n",
       "      <th></th>\n",
       "      <th>Age</th>\n",
       "      <th>Year</th>\n",
       "      <th>Nodes</th>\n",
       "      <th>Survival</th>\n",
       "    </tr>\n",
       "  </thead>\n",
       "  <tbody>\n",
       "    <tr>\n",
       "      <th>0</th>\n",
       "      <td>30</td>\n",
       "      <td>64</td>\n",
       "      <td>1</td>\n",
       "      <td>1</td>\n",
       "    </tr>\n",
       "    <tr>\n",
       "      <th>1</th>\n",
       "      <td>30</td>\n",
       "      <td>62</td>\n",
       "      <td>3</td>\n",
       "      <td>1</td>\n",
       "    </tr>\n",
       "    <tr>\n",
       "      <th>2</th>\n",
       "      <td>30</td>\n",
       "      <td>65</td>\n",
       "      <td>0</td>\n",
       "      <td>1</td>\n",
       "    </tr>\n",
       "    <tr>\n",
       "      <th>3</th>\n",
       "      <td>31</td>\n",
       "      <td>59</td>\n",
       "      <td>2</td>\n",
       "      <td>1</td>\n",
       "    </tr>\n",
       "    <tr>\n",
       "      <th>4</th>\n",
       "      <td>31</td>\n",
       "      <td>65</td>\n",
       "      <td>4</td>\n",
       "      <td>1</td>\n",
       "    </tr>\n",
       "  </tbody>\n",
       "</table>\n",
       "</div>"
      ],
      "text/plain": [
       "   Age  Year  Nodes  Survival\n",
       "0   30    64      1         1\n",
       "1   30    62      3         1\n",
       "2   30    65      0         1\n",
       "3   31    59      2         1\n",
       "4   31    65      4         1"
      ]
     },
     "execution_count": 504,
     "metadata": {},
     "output_type": "execute_result"
    }
   ],
   "source": [
    "df_h=pd.read_csv('/Users/bellepeng/Desktop/Metis/sf18_ds11/challenges/challenges_data/haberman.data', \n",
    "               header=None, names=['Age', 'Year', 'Nodes', 'Survival'])   \n",
    "df_h.head()"
   ]
  },
  {
   "cell_type": "code",
   "execution_count": 505,
   "metadata": {
    "ExecuteTime": {
     "end_time": "2018-07-31T02:17:20.622543Z",
     "start_time": "2018-07-31T02:17:20.611280Z"
    }
   },
   "outputs": [
    {
     "data": {
      "text/plain": [
       "1    225\n",
       "2     81\n",
       "Name: Survival, dtype: int64"
      ]
     },
     "execution_count": 505,
     "metadata": {},
     "output_type": "execute_result"
    }
   ],
   "source": [
    "df_h['Survival'].value_counts()"
   ]
  },
  {
   "cell_type": "code",
   "execution_count": 506,
   "metadata": {
    "ExecuteTime": {
     "end_time": "2018-07-31T02:17:22.170868Z",
     "start_time": "2018-07-31T02:17:22.156242Z"
    },
    "scrolled": true
   },
   "outputs": [
    {
     "data": {
      "text/plain": [
       "count    306.000000\n",
       "mean      52.457516\n",
       "std       10.803452\n",
       "min       30.000000\n",
       "25%       44.000000\n",
       "50%       52.000000\n",
       "75%       60.750000\n",
       "max       83.000000\n",
       "Name: Age, dtype: float64"
      ]
     },
     "execution_count": 506,
     "metadata": {},
     "output_type": "execute_result"
    }
   ],
   "source": [
    "# What is the average and standard deviation of the age of all of the patients?\n",
    "df_h['Age'].describe()"
   ]
  },
  {
   "cell_type": "code",
   "execution_count": 507,
   "metadata": {
    "ExecuteTime": {
     "end_time": "2018-07-31T02:17:28.527343Z",
     "start_time": "2018-07-31T02:17:28.510810Z"
    }
   },
   "outputs": [
    {
     "data": {
      "text/plain": [
       "count    225.000000\n",
       "mean      52.017778\n",
       "std       11.012154\n",
       "min       30.000000\n",
       "25%       43.000000\n",
       "50%       52.000000\n",
       "75%       60.000000\n",
       "max       77.000000\n",
       "Name: Age, dtype: float64"
      ]
     },
     "execution_count": 507,
     "metadata": {},
     "output_type": "execute_result"
    }
   ],
   "source": [
    "# What is the average and standard deviation of the age of those patients that survived 5 or more years after surgery?\n",
    "df_h[df_h['Survival']==1]['Age'].describe()"
   ]
  },
  {
   "cell_type": "code",
   "execution_count": 508,
   "metadata": {
    "ExecuteTime": {
     "end_time": "2018-07-31T02:17:31.989628Z",
     "start_time": "2018-07-31T02:17:31.977259Z"
    }
   },
   "outputs": [
    {
     "data": {
      "text/plain": [
       "count    81.000000\n",
       "mean     53.679012\n",
       "std      10.167137\n",
       "min      34.000000\n",
       "25%      46.000000\n",
       "50%      53.000000\n",
       "75%      61.000000\n",
       "max      83.000000\n",
       "Name: Age, dtype: float64"
      ]
     },
     "execution_count": 508,
     "metadata": {},
     "output_type": "execute_result"
    }
   ],
   "source": [
    "# What is the average and standard deviation of the age of those patients who survived fewer than 5 years after surgery?\n",
    "df_h[df_h['Survival']==2]['Age'].describe()"
   ]
  },
  {
   "cell_type": "code",
   "execution_count": 509,
   "metadata": {
    "ExecuteTime": {
     "end_time": "2018-07-31T02:17:41.187667Z",
     "start_time": "2018-07-31T02:17:40.827136Z"
    }
   },
   "outputs": [
    {
     "data": {
      "text/plain": [
       "(array([ 236.,   30.,   18.,    8.,    9.,    2.,    1.,    0.,    1.,    1.]),\n",
       " array([  0. ,   5.2,  10.4,  15.6,  20.8,  26. ,  31.2,  36.4,  41.6,\n",
       "         46.8,  52. ]),\n",
       " <a list of 10 Patch objects>)"
      ]
     },
     "execution_count": 509,
     "metadata": {},
     "output_type": "execute_result"
    },
    {
     "data": {
      "image/png": "[encoded data removed]",
      "text/plain": [
       "<Figure size 720x360 with 2 Axes>"
      ]
     },
     "metadata": {},
     "output_type": "display_data"
    }
   ],
   "source": [
    "# Plot a histogram of the ages side by side with a histogram of the number of axillary nodes.\n",
    "f, ax = plt.subplots(nrows=1, ncols=2, sharex=False, sharey=False, figsize=(10,5))\n",
    "f.subplots_adjust(hspace=0.3)\n",
    "ax[0].set_title('Age')\n",
    "ax[0].hist(df_h['Age'])\n",
    "ax[1].set_title('Nodes')\n",
    "ax[1].hist(df_h['Nodes'])"
   ]
  },
  {
   "cell_type": "code",
   "execution_count": 510,
   "metadata": {
    "ExecuteTime": {
     "end_time": "2018-07-31T02:17:46.575487Z",
     "start_time": "2018-07-31T02:17:46.563146Z"
    }
   },
   "outputs": [
    {
     "name": "stdout",
     "output_type": "stream",
     "text": [
      "Earliest Year: 305    58\n",
      "Name: Year, dtype: int64\n",
      "Most Recent Year: 90    69\n",
      "Name: Year, dtype: int64\n"
     ]
    }
   ],
   "source": [
    "year=df_h.sort_values(by=['Year'])['Year']\n",
    "# What is the earliest year of surgery in this dataset? - 1958\n",
    "print(\"Earliest Year:\", year.head(1)) \n",
    "# What is the most recent year of surgery? - 1969\n",
    "print(\"Most Recent Year:\", year.tail(1))"
   ]
  },
  {
   "cell_type": "code",
   "execution_count": 548,
   "metadata": {
    "ExecuteTime": {
     "end_time": "2018-07-31T02:47:03.940739Z",
     "start_time": "2018-07-31T02:47:03.931361Z"
    },
    "collapsed": true
   },
   "outputs": [],
   "source": [
    "Xh_train, Xh_test, yh_train, yh_test = train_test_split(df_h.iloc[:, :-1], df_h.iloc[:, -1], \n",
    "                                                    test_size = 0.3, random_state=4444)"
   ]
  },
  {
   "cell_type": "code",
   "execution_count": 549,
   "metadata": {
    "ExecuteTime": {
     "end_time": "2018-07-31T02:47:04.888173Z",
     "start_time": "2018-07-31T02:47:04.704772Z"
    }
   },
   "outputs": [
    {
     "name": "stdout",
     "output_type": "stream",
     "text": [
      "0.700934579439\n",
      "{'C': 0.01}\n",
      "LogisticRegression(C=0.01, class_weight=None, dual=False, fit_intercept=True,\n",
      "          intercept_scaling=1, max_iter=100, multi_class='ovr', n_jobs=1,\n",
      "          penalty='l2', random_state=None, solver='liblinear', tol=0.0001,\n",
      "          verbose=0, warm_start=False)\n"
     ]
    },
    {
     "data": {
      "text/plain": [
       "0.82608695652173914"
      ]
     },
     "execution_count": 549,
     "metadata": {},
     "output_type": "execute_result"
    }
   ],
   "source": [
    "# Use logistic regression to predict survival after 5 years. How well does your model do?\n",
    "ssXh = StandardScaler()\n",
    "Xh_train_scaled=ssXh.fit_transform(Xh_train)\n",
    "Xh_test_scaled=ssXh.transform(Xh_test)\n",
    "\n",
    "lm = LogisticRegression()\n",
    "c_range = [0.0001, 0.001,0.01, 0.1, 1.0, 10.]\n",
    "\n",
    "gridh = GridSearchCV(lm, param_grid={'C': c_range}, cv=10, scoring='accuracy')\n",
    "gridh.fit(Xh_train_scaled, yh_train)\n",
    "\n",
    "print(gridh.best_score_)\n",
    "print(gridh.best_params_)\n",
    "print(gridh.best_estimator_)\n",
    "\n",
    "yh_pred=gridh.predict(Xh_test_scaled)\n",
    "accuracy_score(yh_test, yh_pred)"
   ]
  },
  {
   "cell_type": "code",
   "execution_count": 550,
   "metadata": {
    "ExecuteTime": {
     "end_time": "2018-07-31T02:47:08.240539Z",
     "start_time": "2018-07-31T02:47:08.226501Z"
    }
   },
   "outputs": [
    {
     "name": "stdout",
     "output_type": "stream",
     "text": [
      "[-0.28772723]\n"
     ]
    },
    {
     "data": {
      "text/plain": [
       "[('Age', 0.045954684925474783),\n",
       " ('Year', 0.0082615584952493611),\n",
       " ('Nodes', 0.17084805426530736)]"
      ]
     },
     "execution_count": 550,
     "metadata": {},
     "output_type": "execute_result"
    }
   ],
   "source": [
    "# What are the features that contribute? Nodes matters the most, Year that surgery was operated mattered teh least\n",
    "print(gridh.best_estimator_.intercept_)\n",
    "gridh.best_estimator_.coef_\n",
    "list(zip(Xh_train.columns, gridh.best_estimator_.coef_[0]))"
   ]
  },
  {
   "cell_type": "code",
   "execution_count": 551,
   "metadata": {
    "ExecuteTime": {
     "end_time": "2018-07-31T02:47:11.511851Z",
     "start_time": "2018-07-31T02:47:11.150893Z"
    }
   },
   "outputs": [
    {
     "data": {
      "image/png": "[encoded data removed]",
      "text/plain": [
       "<Figure size 432x288 with 1 Axes>"
      ]
     },
     "metadata": {},
     "output_type": "display_data"
    }
   ],
   "source": [
    "# Draw the learning curve for logistic regression in this case.\n",
    "train_sizes=np.linspace(.1, 1.0, 5)\n",
    "plot_learning_curve(estimator = gridh.best_estimator_, \n",
    "                    title = \"Learning Curves (LosticRegression)\",\n",
    "                    X=Xh_train_scaled,\n",
    "                    y=yh_train,\n",
    "                    cv=10,\n",
    "                    train_sizes=train_sizes\n",
    "                   )"
   ]
  },
  {
   "cell_type": "markdown",
   "metadata": {},
   "source": [
    "### Challenge 8 - Classification Error Metric Challenges"
   ]
  },
  {
   "cell_type": "markdown",
   "metadata": {},
   "source": [
    "__Challenge 1__\n",
    "For the house representatives data set, calculate the accuracy, precision, recall and f1 scores of each classifier you built (on the test set)."
   ]
  },
  {
   "cell_type": "code",
   "execution_count": 421,
   "metadata": {
    "ExecuteTime": {
     "end_time": "2018-07-31T01:39:39.403069Z",
     "start_time": "2018-07-31T01:39:39.398183Z"
    },
    "collapsed": true
   },
   "outputs": [],
   "source": [
    "#  accuracy, precision, recall and f1\n",
    "from sklearn.metrics import precision_score, recall_score, accuracy_score, roc_auc_score, f1_score"
   ]
  },
  {
   "cell_type": "code",
   "execution_count": 449,
   "metadata": {
    "ExecuteTime": {
     "end_time": "2018-07-31T01:44:54.020886Z",
     "start_time": "2018-07-31T01:44:54.009942Z"
    }
   },
   "outputs": [],
   "source": [
    "def models_clf(clf, X_train, y_train, X_test, y_test):\n",
    "    clf = clf()\n",
    "    clf.fit(X_train, y_train)\n",
    "    y_pred = clf.predict(X_test)\n",
    "    return({'model': clf,\n",
    "          'accuracy': accuracy_score(y_test, y_pred),\n",
    "          'precision': precision_score(y_test, y_pred),\n",
    "          'recall': recall_score(y_test, y_pred),\n",
    "          'f1': f1_score(y_test, y_pred),\n",
    "          'ROC AUC': roc_auc_score(y_test, y_pred)\n",
    "            }\n",
    "          )"
   ]
  },
  {
   "cell_type": "code",
   "execution_count": 457,
   "metadata": {
    "ExecuteTime": {
     "end_time": "2018-07-31T01:51:22.833753Z",
     "start_time": "2018-07-31T01:51:22.755789Z"
    }
   },
   "outputs": [
    {
     "data": {
      "text/plain": [
       "{'ROC AUC': 0.66232394366197189,\n",
       " 'accuracy': 0.6717557251908397,\n",
       " 'f1': 0.60550458715596334,\n",
       " 'model': KNeighborsClassifier(algorithm='auto', leaf_size=30, metric='minkowski',\n",
       "            metric_params=None, n_jobs=1, n_neighbors=5, p=2,\n",
       "            weights='uniform'),\n",
       " 'precision': 0.67346938775510201,\n",
       " 'recall': 0.55000000000000004}"
      ]
     },
     "execution_count": 457,
     "metadata": {},
     "output_type": "execute_result"
    }
   ],
   "source": [
    "models_clf(GaussianNB, X_train_scaled, y_train, X_test_scaled, y_test)\n",
    "models_clf(SVC, X_train_scaled, y_train, X_test_scaled, y_test)\n",
    "models_clf(DecisionTreeClassifier, X_train_scaled, y_train, X_test_scaled, y_test)\n",
    "models_clf(RandomForestClassifier, X_train_scaled, y_train, X_test_scaled, y_test)\n",
    "models_clf(LogisticRegression, X_train_scaled, y_train, X_test_scaled, y_test)\n",
    "models_clf(KNeighborsClassifier, X_train_scaled, y_train, X_test_scaled, y_test)"
   ]
  },
  {
   "cell_type": "markdown",
   "metadata": {},
   "source": [
    "__Challenge 2__ \n",
    "For each, draw the ROC curve and calculate the AUC."
   ]
  },
  {
   "cell_type": "code",
   "execution_count": 462,
   "metadata": {
    "ExecuteTime": {
     "end_time": "2018-07-31T01:53:56.715279Z",
     "start_time": "2018-07-31T01:53:56.711361Z"
    },
    "collapsed": true
   },
   "outputs": [],
   "source": [
    "from sklearn.metrics import roc_curve, auc, roc_auc_score"
   ]
  },
  {
   "cell_type": "code",
   "execution_count": 473,
   "metadata": {
    "ExecuteTime": {
     "end_time": "2018-07-31T01:59:17.408572Z",
     "start_time": "2018-07-31T01:59:16.978698Z"
    }
   },
   "outputs": [
    {
     "data": {
      "image/png": "[encoded data removed]",
      "text/plain": [
       "<Figure size 600x400 with 1 Axes>"
      ]
     },
     "metadata": {},
     "output_type": "display_data"
    }
   ],
   "source": [
    "model_names=['LogisticRegression', 'KNeighborsClassifier', 'GaussianNB()', \n",
    "             'DecisionTreeClassifier', 'RandomForestClassifier', 'SVC']\n",
    "models=[LogisticRegression(), KNeighborsClassifier(), GaussianNB(), \n",
    "        DecisionTreeClassifier(), RandomForestClassifier(), SVC(probability=True)]\n",
    "roc_plotting_stuff = []\n",
    "\n",
    "for clf, name in zip(models, model_names):\n",
    "    clf.fit(X_train_scaled, y_train)\n",
    "    preds = clf.predict_proba(X_test_scaled)\n",
    "    fpr, tpr, _ = roc_curve(y_test, preds[:,1])\n",
    "    auc_score = auc(fpr, tpr)\n",
    "    roc_plotting_stuff.append((name, tpr, fpr, auc_score))\n",
    "\n",
    "plt.figure(dpi=100)\n",
    "for name, tpr, fpr, auc_score in roc_plotting_stuff:\n",
    "    plt.plot(fpr, tpr, label=name+' (auc: %.2f)'%auc_score)\n",
    "plt.legend(loc='lower right', fontsize=10)\n",
    "plt.plot([0, 1], [0, 1], color='k', linestyle='--');\n",
    "plt.xlabel(\"False Positive Rate\", fontsize=10)\n",
    "plt.ylabel(\"True Positive Rate\", fontsize=10)\n",
    "plt.title(\"Comparing ROC Curves\", fontsize=10);"
   ]
  },
  {
   "cell_type": "markdown",
   "metadata": {},
   "source": [
    "__Challenge 3__  \n",
    "Calculate the same metrics you did in challenge 1, but this time in a cross validation scheme with the cross_val_score function (like in Challenge 9)."
   ]
  },
  {
   "cell_type": "code",
   "execution_count": 496,
   "metadata": {
    "ExecuteTime": {
     "end_time": "2018-07-31T02:13:19.448843Z",
     "start_time": "2018-07-31T02:13:17.296254Z"
    }
   },
   "outputs": [
    {
     "name": "stdout",
     "output_type": "stream",
     "text": [
      "\n",
      "Model LogisticRegression\n",
      "   Metric precision       0.68\n",
      "   Metric recall          0.69\n",
      "   Metric accuracy        0.74\n",
      "   Metric f1              0.68\n",
      "   Metric roc_auc         0.77\n",
      "\n",
      "Model KNeighborsClassifier\n",
      "   Metric precision       0.61\n",
      "   Metric recall          0.53\n",
      "   Metric accuracy        0.67\n",
      "   Metric f1              0.56\n",
      "   Metric roc_auc         0.73\n",
      "\n",
      "Model GaussianNB()   \n",
      "   Metric precision       0.60\n",
      "   Metric recall          0.73\n",
      "   Metric accuracy        0.68\n",
      "   Metric f1              0.66\n",
      "   Metric roc_auc         0.77\n",
      "\n",
      "Model DecisionTreeClassifier\n",
      "   Metric precision       0.64\n",
      "   Metric recall          0.60\n",
      "   Metric accuracy        0.70\n",
      "   Metric f1              0.63\n",
      "   Metric roc_auc         0.70\n",
      "\n",
      "Model RandomForestClassifier\n",
      "   Metric precision       0.61\n",
      "   Metric recall          0.56\n",
      "   Metric accuracy        0.67\n",
      "   Metric f1              0.57\n",
      "   Metric roc_auc         0.71\n",
      "\n",
      "Model SVC            \n",
      "   Metric precision       0.63\n",
      "   Metric recall          0.56\n",
      "   Metric accuracy        0.68\n",
      "   Metric f1              0.58\n",
      "   Metric roc_auc         0.75\n"
     ]
    }
   ],
   "source": [
    "scores=['precision', 'recall', 'accuracy', 'f1', 'roc_auc']\n",
    "for clf, name in zip(models, model_names):\n",
    "    print()\n",
    "    print(f\"Model {name:15s}\")\n",
    "    for s in scores:\n",
    "        score_list=cross_val_score(clf, X_train_scaled, y_train, cv=10, scoring=s).mean()\n",
    "        print(f\"   Metric {s:15s} {score_list:4.2f}\")"
   ]
  },
  {
   "cell_type": "markdown",
   "metadata": {},
   "source": [
    "__Challenge 4__\n",
    "For your movie classifiers, calculate the precision and recall for each class."
   ]
  },
  {
   "cell_type": "code",
   "execution_count": 533,
   "metadata": {
    "ExecuteTime": {
     "end_time": "2018-07-31T02:38:25.789564Z",
     "start_time": "2018-07-31T02:38:25.781164Z"
    }
   },
   "outputs": [
    {
     "data": {
      "text/plain": [
       "KNeighborsClassifier(algorithm='auto', leaf_size=30, metric='minkowski',\n",
       "           metric_params=None, n_jobs=1, n_neighbors=15, p=2,\n",
       "           weights='uniform')"
      ]
     },
     "execution_count": 533,
     "metadata": {},
     "output_type": "execute_result"
    }
   ],
   "source": [
    "from sklearn.metrics import precision_score, recall_score, precision_recall_curve, f1_score, fbeta_score\n",
    "gridm.best_estimator_"
   ]
  },
  {
   "cell_type": "code",
   "execution_count": 534,
   "metadata": {
    "ExecuteTime": {
     "end_time": "2018-07-31T02:38:27.483288Z",
     "start_time": "2018-07-31T02:38:27.473514Z"
    }
   },
   "outputs": [
    {
     "data": {
      "text/plain": [
       "array([ 0.        ,  1.        ,  0.575     ,  0.62068966])"
      ]
     },
     "execution_count": 534,
     "metadata": {},
     "output_type": "execute_result"
    }
   ],
   "source": [
    "pred_m=gridm.predict(Xm_train_scaled)\n",
    "precision_score(ym_train, pred_m, average=None)\n",
    "# Alphabetically sorted"
   ]
  },
  {
   "cell_type": "code",
   "execution_count": 535,
   "metadata": {
    "ExecuteTime": {
     "end_time": "2018-07-31T02:38:28.144544Z",
     "start_time": "2018-07-31T02:38:28.129129Z"
    }
   },
   "outputs": [
    {
     "data": {
      "text/plain": [
       "array([ 0.        ,  0.125     ,  0.6969697 ,  0.64285714])"
      ]
     },
     "execution_count": 535,
     "metadata": {},
     "output_type": "execute_result"
    }
   ],
   "source": [
    "recall_score(ym_train, pred_m, average=None)"
   ]
  },
  {
   "cell_type": "markdown",
   "metadata": {},
   "source": [
    "__Challenge 5__  \n",
    "Draw the ROC curve (and calculate AUC) for the logistic regression classifier from challenge 12."
   ]
  },
  {
   "cell_type": "code",
   "execution_count": 566,
   "metadata": {
    "ExecuteTime": {
     "end_time": "2018-07-31T02:51:51.642603Z",
     "start_time": "2018-07-31T02:51:51.635926Z"
    }
   },
   "outputs": [
    {
     "data": {
      "text/plain": [
       "array([[ 0.58591174,  0.41408826],\n",
       "       [ 0.60040705,  0.39959295],\n",
       "       [ 0.57835409,  0.42164591],\n",
       "       [ 0.6001048 ,  0.3998952 ],\n",
       "       [ 0.6027512 ,  0.3972488 ]])"
      ]
     },
     "execution_count": 566,
     "metadata": {},
     "output_type": "execute_result"
    }
   ],
   "source": [
    "preds_h = gridh.predict_proba(Xh_test_scaled)\n",
    "preds_h[:5]"
   ]
  },
  {
   "cell_type": "code",
   "execution_count": 569,
   "metadata": {
    "ExecuteTime": {
     "end_time": "2018-07-31T02:54:53.766596Z",
     "start_time": "2018-07-31T02:54:53.754047Z"
    }
   },
   "outputs": [
    {
     "data": {
      "text/plain": [
       "258    1\n",
       "112    0\n",
       "105    0\n",
       "128    0\n",
       "38     0\n",
       "Name: Survival, dtype: int64"
      ]
     },
     "execution_count": 569,
     "metadata": {},
     "output_type": "execute_result"
    }
   ],
   "source": [
    "yh_test[:5]-1"
   ]
  },
  {
   "cell_type": "code",
   "execution_count": 574,
   "metadata": {
    "ExecuteTime": {
     "end_time": "2018-07-31T03:02:07.382812Z",
     "start_time": "2018-07-31T03:02:07.117572Z"
    }
   },
   "outputs": [
    {
     "data": {
      "image/png": "[encoded data removed]",
      "text/plain": [
       "<Figure size 600x400 with 1 Axes>"
      ]
     },
     "metadata": {},
     "output_type": "display_data"
    }
   ],
   "source": [
    "gridh.best_estimator_\n",
    "preds_h = gridh.predict_proba(Xh_test_scaled)\n",
    "fpr, tpr, _ = roc_curve(yh_test-1, preds_h[:,1])\n",
    "\n",
    "plt.figure(dpi=100)\n",
    "plt.plot(fpr, tpr)\n",
    "plt.xlabel(\"False Positive Rate\", fontsize=10)\n",
    "plt.ylabel(\"True Positive Rate\", fontsize=10)\n",
    "plt.title(\"ROC Curve (Test)\", fontsize=10);"
   ]
  },
  {
   "cell_type": "code",
   "execution_count": 575,
   "metadata": {
    "ExecuteTime": {
     "end_time": "2018-07-31T03:02:55.925595Z",
     "start_time": "2018-07-31T03:02:55.616541Z"
    }
   },
   "outputs": [
    {
     "data": {
      "image/png": "[encoded data removed]",
      "text/plain": [
       "<Figure size 600x400 with 1 Axes>"
      ]
     },
     "metadata": {},
     "output_type": "display_data"
    }
   ],
   "source": [
    "preds_h = gridh.predict_proba(Xh_train_scaled)\n",
    "fpr_train, tpr_train, _ = roc_curve(yh_train-1, preds_h[:,1])\n",
    "\n",
    "plt.figure(dpi=100)\n",
    "plt.plot(fpr_train, tpr_train, label=\"train\")\n",
    "plt.plot(fpr, tpr, label=\"test\")\n",
    "plt.legend()\n",
    "\n",
    "plt.xlabel(\"False Positive Rate\", fontsize=10)\n",
    "plt.ylabel(\"True Positive Rate\", fontsize=10)\n",
    "plt.title(\"ROC Curve (train)\", fontsize=10);"
   ]
  },
  {
   "cell_type": "code",
   "execution_count": null,
   "metadata": {
    "collapsed": true
   },
   "outputs": [],
   "source": []
  }
 ],
 "metadata": {
  "kernelspec": {
   "display_name": "Python 3",
   "language": "python",
   "name": "python3"
  },
  "language_info": {
   "codemirror_mode": {
    "name": "ipython",
    "version": 3
   },
   "file_extension": ".py",
   "mimetype": "text/x-python",
   "name": "python",
   "nbconvert_exporter": "python",
   "pygments_lexer": "ipython3",
   "version": "3.6.0"
  },
  "varInspector": {
   "cols": {
    "lenName": 16,
    "lenType": 16,
    "lenVar": 40
   },
   "kernels_config": {
    "python": {
     "delete_cmd_postfix": "",
     "delete_cmd_prefix": "del ",
     "library": "var_list.py",
     "varRefreshCmd": "print(var_dic_list())"
    },
    "r": {
     "delete_cmd_postfix": ") ",
     "delete_cmd_prefix": "rm(",
     "library": "var_list.r",
     "varRefreshCmd": "cat(var_dic_list()) "
    }
   },
   "types_to_exclude": [
    "module",
    "function",
    "builtin_function_or_method",
    "instance",
    "_Feature"
   ],
   "window_display": false
  }
 },
 "nbformat": 4,
 "nbformat_minor": 2
}
